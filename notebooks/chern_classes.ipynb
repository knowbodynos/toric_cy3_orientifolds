{
 "cells": [
  {
   "cell_type": "code",
   "execution_count": 544,
   "metadata": {},
   "outputs": [],
   "source": [
    "import os\n",
    "import re\n",
    "import json\n",
    "import numpy as np\n",
    "from random import choice\n",
    "from pymongo import MongoClient\n",
    "from itertools import combinations\n",
    "from sage.all import *"
   ]
  },
  {
   "cell_type": "code",
   "execution_count": 213,
   "metadata": {},
   "outputs": [],
   "source": [
    "to_list = lambda x: json.loads(x.replace('{', '[').replace('}', ']'))\n",
    "doc_to_mat = lambda x: np.stack(to_list(x))"
   ]
  },
  {
   "cell_type": "code",
   "execution_count": 278,
   "metadata": {},
   "outputs": [],
   "source": [
    "def get_sr_ideal(D, dresverts, triang):\n",
    "    sr = []\n",
    "    for n in range(1, 5):\n",
    "        for c in combinations(range(len(dresverts)), n):\n",
    "            for t in triang:\n",
    "                if set(c).issubset(set(t)):\n",
    "                    break\n",
    "            else:\n",
    "                for s in sr:\n",
    "                    if set(c).issuperset(set(s)):\n",
    "                        break\n",
    "                else:\n",
    "                    sr.append(c)\n",
    "    return [prod(D[i] for i in c) for c in sr]"
   ]
  },
  {
   "cell_type": "code",
   "execution_count": 541,
   "metadata": {},
   "outputs": [],
   "source": [
    "uri = os.getenv('MONGO_URI')\n",
    "client = MongoClient(uri)\n",
    "mdb = client.ToricCY"
   ]
  },
  {
   "cell_type": "code",
   "execution_count": 595,
   "metadata": {},
   "outputs": [],
   "source": [
    "h11=3\n",
    "docs = list(\n",
    "    mdb.INVOL.find({\n",
    "        \"H11\": h11\n",
    "    })\n",
    ")\n",
    "doc = choice(docs)\n",
    "doc.update(\n",
    "    mdb.TRIANG.find_one({\n",
    "        \"POLYID\": doc['POLYID'],\n",
    "        \"GEOMN\": doc['GEOMN'],\n",
    "        \"TRIANGN\": doc['TRIANGN']\n",
    "    })\n",
    ")\n",
    "doc.update(\n",
    "    mdb.GEOM.find_one({\n",
    "        \"POLYID\": doc['POLYID'],\n",
    "        \"GEOMN\": doc['GEOMN']\n",
    "    })\n",
    ")\n",
    "doc.update(\n",
    "    mdb.POLY.find_one({\n",
    "        \"POLYID\": doc['POLYID']\n",
    "    })\n",
    ")"
   ]
  },
  {
   "cell_type": "code",
   "execution_count": 596,
   "metadata": {},
   "outputs": [],
   "source": [
    "dresverts, rescws, triang = map(to_mat, map(doc.__getitem__, ['DRESVERTS', 'RESCWS', 'TRIANG']))"
   ]
  },
  {
   "cell_type": "code",
   "execution_count": 597,
   "metadata": {},
   "outputs": [
    {
     "name": "stdout",
     "output_type": "stream",
     "text": [
      "Defining z0, z1, z2, z3, z4, z5, z6\n"
     ]
    }
   ],
   "source": [
    "fan = Fan([Cone(dresverts[x].tolist()) for x in triang])\n",
    "A = ToricVariety(fan)\n",
    "A.inject_variables()\n",
    "z = A.gens()\n",
    "R = A.cohomology_ring()\n",
    "D = R0.gens()"
   ]
  },
  {
   "cell_type": "code",
   "execution_count": 598,
   "metadata": {},
   "outputs": [
    {
     "data": {
      "text/plain": [
       "'{D1->D2,D2->D1,D3->D4,D4->D3,D6->D7,D7->D6}'"
      ]
     },
     "execution_count": 598,
     "metadata": {},
     "output_type": "execute_result"
    }
   ],
   "source": [
    "doc['INVOL']"
   ]
  },
  {
   "cell_type": "code",
   "execution_count": 632,
   "metadata": {},
   "outputs": [
    {
     "data": {
      "text/plain": [
       "[{'OIDEAL': ['-x2*x3+x1*x4', 'x1^2*x6-x2^2*x7'], 'ODIM': 5},\n",
       " {'OIDEAL': ['-x2*x3+x1*x4', 'x1^2*x6+x2^2*x7'], 'ODIM': 5}]"
      ]
     },
     "execution_count": 632,
     "metadata": {},
     "output_type": "execute_result"
    }
   ],
   "source": [
    "doc['OPLANES']"
   ]
  },
  {
   "cell_type": "code",
   "execution_count": 688,
   "metadata": {},
   "outputs": [],
   "source": [
    "a, b = (DD[2-1]+DD[3-1]), (2*DD[1-1]+DD[6-1])"
   ]
  },
  {
   "cell_type": "code",
   "execution_count": 692,
   "metadata": {},
   "outputs": [
    {
     "data": {
      "text/plain": [
       "-1/6*J2bar^4"
      ]
     },
     "execution_count": 692,
     "metadata": {},
     "output_type": "execute_result"
    }
   ],
   "source": [
    "prod(DD[i] for i in triang[0])"
   ]
  },
  {
   "cell_type": "code",
   "execution_count": 703,
   "metadata": {},
   "outputs": [
    {
     "name": "stdout",
     "output_type": "stream",
     "text": [
      "True\n"
     ]
    }
   ],
   "source": [
    "norms = [prod(DD[i] for i in x)*abs(Matrix([dresverts[i] for i in x]).det()) for x in triang]\n",
    "print(all(x==norms[0] for x in norms))\n",
    "norm = norms[0]"
   ]
  },
  {
   "cell_type": "code",
   "execution_count": 697,
   "metadata": {},
   "outputs": [
    {
     "data": {
      "text/plain": [
       "[2, 2, 4, 2, 2, 4, 2, 2, 4, 2, 2, 4]"
      ]
     },
     "execution_count": 697,
     "metadata": {},
     "output_type": "execute_result"
    }
   ],
   "source": [
    "[abs(Matrix([dresverts[i] for i in x]).det()) for x in triang]"
   ]
  },
  {
   "cell_type": "code",
   "execution_count": 704,
   "metadata": {},
   "outputs": [
    {
     "data": {
      "text/plain": [
       "6"
      ]
     },
     "execution_count": 704,
     "metadata": {},
     "output_type": "execute_result"
    }
   ],
   "source": [
    "# Euler char?\n",
    "(a+b)*a*b*sum(DD)/norm"
   ]
  },
  {
   "cell_type": "code",
   "execution_count": 647,
   "metadata": {},
   "outputs": [
    {
     "data": {
      "text/plain": [
       "8*J1bar + 4*J2bar"
      ]
     },
     "execution_count": 647,
     "metadata": {},
     "output_type": "execute_result"
    }
   ],
   "source": [
    "sum(DD)"
   ]
  },
  {
   "cell_type": "code",
   "execution_count": 674,
   "metadata": {},
   "outputs": [],
   "source": [
    "b = A.linear_equivalence_ideal()"
   ]
  },
  {
   "cell_type": "code",
   "execution_count": 678,
   "metadata": {},
   "outputs": [],
   "source": [
    "b = A.fan()"
   ]
  },
  {
   "cell_type": "code",
   "execution_count": 681,
   "metadata": {},
   "outputs": [],
   "source": [
    "b = A.toric_divisor_group()"
   ]
  },
  {
   "cell_type": "code",
   "execution_count": 663,
   "metadata": {},
   "outputs": [
    {
     "data": {
      "text/plain": [
       "([z3], [z6], [-2*z3 + 1/2*z5], [z3], [1/2*z5 - 2*z6], [z5], [z6])"
      ]
     },
     "execution_count": 663,
     "metadata": {},
     "output_type": "execute_result"
    }
   ],
   "source": [
    "A.cohomology_ring().gens()"
   ]
  },
  {
   "cell_type": "code",
   "execution_count": 664,
   "metadata": {},
   "outputs": [
    {
     "data": {
      "text/plain": [
       "256"
      ]
     },
     "execution_count": 664,
     "metadata": {},
     "output_type": "execute_result"
    }
   ],
   "source": [
    "A.integrate(sum(A.cohomology_ring().gens())**4)"
   ]
  },
  {
   "cell_type": "code",
   "execution_count": 665,
   "metadata": {},
   "outputs": [
    {
     "data": {
      "text/plain": [
       "1"
      ]
     },
     "execution_count": 665,
     "metadata": {},
     "output_type": "execute_result"
    }
   ],
   "source": [
    "A.integrate(A.volume_class())"
   ]
  },
  {
   "cell_type": "code",
   "execution_count": 668,
   "metadata": {},
   "outputs": [
    {
     "data": {
      "text/plain": [
       "4-d cone of Rational polyhedral fan in 4-d lattice N"
      ]
     },
     "execution_count": 668,
     "metadata": {},
     "output_type": "execute_result"
    }
   ],
   "source": [
    "A.fan().generating_cone(0)"
   ]
  },
  {
   "cell_type": "code",
   "execution_count": 666,
   "metadata": {},
   "outputs": [
    {
     "data": {
      "text/plain": [
       "4"
      ]
     },
     "execution_count": 666,
     "metadata": {},
     "output_type": "execute_result"
    }
   ],
   "source": [
    "A.dimension_relative()"
   ]
  },
  {
   "cell_type": "code",
   "execution_count": 651,
   "metadata": {},
   "outputs": [
    {
     "data": {
      "text/plain": [
       "-5/3*J2bar^4 - 6*J0bar*J2bar^2 + 42*J1bar*J2bar^2 + 8*J2bar^3 + 4*J0bar*J1bar + 2*J0bar*J2bar + 22*J1bar*J2bar + 5*J2bar^2 + 8*J1bar + 4*J2bar + 1"
      ]
     },
     "execution_count": 651,
     "metadata": {},
     "output_type": "execute_result"
    }
   ],
   "source": [
    "prod(1+x for x in DD)#.reduce(chow_ideal)"
   ]
  },
  {
   "cell_type": "code",
   "execution_count": 658,
   "metadata": {},
   "outputs": [
    {
     "data": {
      "text/plain": [
       "[0, 0, -1/12*J2bar^4]"
      ]
     },
     "execution_count": 658,
     "metadata": {},
     "output_type": "execute_result"
    }
   ],
   "source": [
    "[a*x for x in JJ]"
   ]
  },
  {
   "cell_type": "code",
   "execution_count": 631,
   "metadata": {},
   "outputs": [
    {
     "data": {
      "text/plain": [
       "[[[], []], [[], []]]"
      ]
     },
     "execution_count": 631,
     "metadata": {},
     "output_type": "execute_result"
    }
   ],
   "source": [
    "expr_to_monoms = lambda expr: eval(re.sub('x([0-9]+)([\\\\^]*)', lambda m: f'DD[{int(m[1])-1}]'+('**' if m[2]=='^' else ''), expr)).monomials()\n",
    "[[expr_to_monoms(x) for x in y['OIDEAL']] for y in doc['OPLANES']]"
   ]
  },
  {
   "cell_type": "code",
   "execution_count": 627,
   "metadata": {},
   "outputs": [
    {
     "data": {
      "text/plain": [
       "(J0bar*J1bar, J0bar*J1bar)"
      ]
     },
     "execution_count": 627,
     "metadata": {},
     "output_type": "execute_result"
    }
   ],
   "source": [
    "DD[1]*DD[2], DD[0]*DD[3]"
   ]
  },
  {
   "cell_type": "code",
   "execution_count": null,
   "metadata": {},
   "outputs": [],
   "source": []
  },
  {
   "cell_type": "code",
   "execution_count": 345,
   "metadata": {},
   "outputs": [
    {
     "data": {
      "text/plain": [
       "[1/4*z3^2*z5^2 + 1/2*z3^2*z5 + 1/2*z3*z5^2 + 1/2*z3^2 + z3*z5 + 1/2*z5^2 + z3 + z5 + 1]"
      ]
     },
     "execution_count": 345,
     "metadata": {},
     "output_type": "execute_result"
    }
   ],
   "source": [
    "A.sheaves.divisor(x0[0]*x0[5]).ch()"
   ]
  },
  {
   "cell_type": "code",
   "execution_count": 644,
   "metadata": {},
   "outputs": [],
   "source": [
    "R = PolynomialRing(QQ, [f'D{i}' for i in range(len(dresverts))] + [f'J{i}' for i in range(h11)])\n",
    "D, J = R.gens()[:len(dresverts)], R.gens()[len(dresverts):]"
   ]
  },
  {
   "cell_type": "code",
   "execution_count": 645,
   "metadata": {},
   "outputs": [],
   "source": [
    "lin_ideal = dresverts.T.dot(D).tolist()\n",
    "sr_ideal = get_sr_ideal(D, dresverts, triang)\n",
    "basis_ideal = list(J-to_mat(doc['DTOJ']).dot(D))\n",
    "chow_ideal = lin_ideal + sr_ideal + basis_ideal"
   ]
  },
  {
   "cell_type": "code",
   "execution_count": 654,
   "metadata": {},
   "outputs": [],
   "source": [
    "RR = R.quotient_ring(R.ideal(chow_ideal))\n",
    "DD, JJ = RR.gens()[:len(dresverts)], RR.gens()[len(dresverts):]"
   ]
  },
  {
   "cell_type": "code",
   "execution_count": 592,
   "metadata": {},
   "outputs": [
    {
     "data": {
      "text/plain": [
       "'{D1->D5,D5->D1,D2->D4,D4->D2,D3->D6,D6->D3}'"
      ]
     },
     "execution_count": 592,
     "metadata": {},
     "output_type": "execute_result"
    }
   ],
   "source": [
    "doc['INVOL']"
   ]
  },
  {
   "cell_type": "code",
   "execution_count": 594,
   "metadata": {},
   "outputs": [
    {
     "data": {
      "text/plain": [
       "array([[0, 1],\n",
       "       [0, 1],\n",
       "       [1, 0],\n",
       "       [1, 0],\n",
       "       [1, 0],\n",
       "       [0, 1]])"
      ]
     },
     "execution_count": 594,
     "metadata": {},
     "output_type": "execute_result"
    }
   ],
   "source": [
    "rescws"
   ]
  },
  {
   "cell_type": "code",
   "execution_count": 593,
   "metadata": {},
   "outputs": [
    {
     "data": {
      "text/plain": [
       "((D0, D1, D2, D3, D4, D5), (J1bar, J1bar, J0bar, J0bar, J0bar, J1bar))"
      ]
     },
     "execution_count": 593,
     "metadata": {},
     "output_type": "execute_result"
    }
   ],
   "source": [
    "D, DD"
   ]
  },
  {
   "cell_type": "code",
   "execution_count": 289,
   "metadata": {},
   "outputs": [],
   "source": [
    "term_patt = re.compile('([^+-]+)')\n",
    "ind_patt = re.compile('x([0-9]+)')\n",
    "\n",
    "term_to_deg = lambda term: sum(rescws[int(ind)-1] for ind in ind_patt.findall(term)).tolist()\n",
    "term_to_monom = lambda term: sum(z[int(ind)-1] for ind in ind_patt.findall(term))"
   ]
  },
  {
   "cell_type": "code",
   "execution_count": 292,
   "metadata": {},
   "outputs": [],
   "source": [
    "for oplane in doc['OPLANES']:\n",
    "    odegs = []\n",
    "    odivs = []\n",
    "    for expr in oplane['OIDEAL']:\n",
    "        term_degs = list(map(term_to_deg, term_patt.findall(expr)))\n",
    "        term_divs = list(map(term_to_div, term_patt.findall(expr)))\n",
    "        assert all(x == term_degs[0] for x in term_degs)\n",
    "        assert all(x == term_divs[0] for x in term_divs)\n",
    "        odegs.append(term_degs[0])\n",
    "        odivs.append(term_divs[0])\n",
    "    oplane['ODEGS'] = odegs\n",
    "    oplane['ODIVS'] = odivs"
   ]
  },
  {
   "cell_type": "code",
   "execution_count": 548,
   "metadata": {},
   "outputs": [
    {
     "data": {
      "text/plain": [
       "[{'OIDEAL': ['x1*x4-x2*x5', 'x1*x3-x5*x6'], 'ODIM': 5}]"
      ]
     },
     "execution_count": 548,
     "metadata": {},
     "output_type": "execute_result"
    }
   ],
   "source": [
    "doc['OPLANES']"
   ]
  },
  {
   "cell_type": "code",
   "execution_count": 470,
   "metadata": {},
   "outputs": [],
   "source": [
    "expr_to_monoms = lambda expr: eval(re.sub('x([0-9]+)([\\\\^]*)', lambda m: f'z{int(m[1])-1}'+('**' if m[2]=='^' else ''), expr)).monomials()"
   ]
  },
  {
   "cell_type": "code",
   "execution_count": 431,
   "metadata": {},
   "outputs": [
    {
     "data": {
      "text/plain": [
       "118"
      ]
     },
     "execution_count": 431,
     "metadata": {},
     "output_type": "execute_result"
    }
   ],
   "source": [
    "c_O = 1\n",
    "O = 1\n",
    "for x in doc['OPLANES'][0]['OIDEAL']:\n",
    "    _c_O = 0\n",
    "    _O = 0\n",
    "    for y in expr_to_monoms(x):\n",
    "        _c_O += A.sheaves.divisor(y).ch().part_of_degree(1)\n",
    "        _O += A.sheaves.divisor(y).cohomology_class()\n",
    "    c_O *= _c_O\n",
    "    O *= _O\n",
    "A.integrate(c_O*O)"
   ]
  },
  {
   "cell_type": "code",
   "execution_count": 433,
   "metadata": {},
   "outputs": [],
   "source": [
    "a, b = expr_to_monoms(x)"
   ]
  },
  {
   "cell_type": "code",
   "execution_count": 441,
   "metadata": {},
   "outputs": [],
   "source": [
    "q = A.sheaves.line_bundle(A.sheaves.divisor(a)).direct_sum(A.sheaves.line_bundle(A.sheaves.divisor(b)))"
   ]
  },
  {
   "cell_type": "code",
   "execution_count": null,
   "metadata": {},
   "outputs": [],
   "source": []
  },
  {
   "cell_type": "code",
   "execution_count": 498,
   "metadata": {},
   "outputs": [],
   "source": [
    "a = [expr_to_monoms(x)[0] for x in doc['SYMCYPOLY']]\n",
    "b = [expr_to_monoms(x)[0].reduce(A.Stanley_Reisner_ideal()) for x in doc['SYMCYPOLY']]"
   ]
  },
  {
   "cell_type": "code",
   "execution_count": 499,
   "metadata": {},
   "outputs": [
    {
     "data": {
      "text/plain": [
       "(100, 65)"
      ]
     },
     "execution_count": 499,
     "metadata": {},
     "output_type": "execute_result"
    }
   ],
   "source": [
    "sum(a).number_of_terms(), sum(b).number_of_terms()"
   ]
  },
  {
   "cell_type": "code",
   "execution_count": 559,
   "metadata": {},
   "outputs": [
    {
     "data": {
      "text/plain": [
       "array([[0, 4],\n",
       "       [4, 0],\n",
       "       [1, 3],\n",
       "       [3, 1],\n",
       "       [2, 5],\n",
       "       [5, 2]])"
      ]
     },
     "execution_count": 559,
     "metadata": {},
     "output_type": "execute_result"
    }
   ],
   "source": [
    "to_mat(re.sub('D([0-9]+)->D([0-9]+)', lambda x: '{'+f'{int(x[1])-1},{int(x[2])-1}'+'}', doc['INVOL']))"
   ]
  },
  {
   "cell_type": "code",
   "execution_count": 549,
   "metadata": {},
   "outputs": [
    {
     "data": {
      "text/plain": [
       "[{'OIDEAL': ['x1*x4-x2*x5', 'x1*x3-x5*x6'], 'ODIM': 5}]"
      ]
     },
     "execution_count": 549,
     "metadata": {},
     "output_type": "execute_result"
    }
   ],
   "source": [
    "doc['OPLANES']"
   ]
  },
  {
   "cell_type": "code",
   "execution_count": 565,
   "metadata": {},
   "outputs": [],
   "source": [
    "m = Matrix([rescws[0]-rescws[4], rescws[1]-rescws[3]])#, rescws[2]-rescws[5]])"
   ]
  },
  {
   "cell_type": "code",
   "execution_count": 566,
   "metadata": {},
   "outputs": [
    {
     "data": {
      "text/plain": [
       "Free module of degree 2 and rank 1 over Integer Ring\n",
       "Echelon basis matrix:\n",
       "[ 1 -1]"
      ]
     },
     "execution_count": 566,
     "metadata": {},
     "output_type": "execute_result"
    }
   ],
   "source": [
    "m.left_kernel()"
   ]
  },
  {
   "cell_type": "code",
   "execution_count": 568,
   "metadata": {},
   "outputs": [],
   "source": [
    "a = list(mdb.TRIANG.find({\"POLYID\": 288, \"GEOMN\": 1}))"
   ]
  },
  {
   "cell_type": "code",
   "execution_count": 573,
   "metadata": {},
   "outputs": [],
   "source": [
    "b = list(mdb.INVOL.find({\"POLYID\": 288, \"GEOMN\": 1}))"
   ]
  },
  {
   "cell_type": "code",
   "execution_count": 577,
   "metadata": {},
   "outputs": [
    {
     "data": {
      "text/plain": [
       "([(1, '{D2->D4,D4->D2,D7->D8,D8->D7}', -1, True, True),\n",
       "  (2, '{D2->D4,D4->D2,D7->D8,D8->D7}', -1, True, False),\n",
       "  (3, '{D2->D4,D4->D2,D7->D8,D8->D7}', -1, True, False),\n",
       "  (4, '{D2->D4,D4->D2,D7->D8,D8->D7}', -1, True, True),\n",
       "  (5, '{D2->D4,D4->D2,D7->D8,D8->D7}', -1, True, True)],\n",
       " 5)"
      ]
     },
     "execution_count": 577,
     "metadata": {},
     "output_type": "execute_result"
    }
   ],
   "source": [
    "[(x['TRIANGN'], x['INVOL'], x['VOLFORMPARITY'], x['ITENSXDINVOL'], x['SRINVOL']) for x in b], len(a)"
   ]
  },
  {
   "cell_type": "code",
   "execution_count": 580,
   "metadata": {},
   "outputs": [
    {
     "data": {
      "text/plain": [
       "{'_id': ObjectId('58c2781d27a728f655bf4da3'),\n",
       " 'TRIANGN': 1,\n",
       " 'POLYID': 287,\n",
       " 'H11': 4,\n",
       " 'OLDGEOMN': 1,\n",
       " 'OLDTRIANGN': 1,\n",
       " 'INVOL': '{D1->D2,D2->D1,D3->D4,D4->D3,D5->D6,D6->D5,D7->D8,D8->D7}',\n",
       " 'INVOLN': 3,\n",
       " 'GEOMN': 1,\n",
       " 'divhodgeMARK': True,\n",
       " 'divhodgeSTATS': {'MAXRSS': 1220000,\n",
       "  'BSONSIZE': 64,\n",
       "  'MAXVMSIZE': 186212000,\n",
       "  'CPUTIME': 93},\n",
       " 'INVOLDIVCOHOM': ['{1,0,0,2}', '{1,0,0,12}', '{1,0,0,12}', '{1,0,0,10}'],\n",
       " 'CYPOLY': ['x1^2*x2^2*x3^3*x4^3',\n",
       "  'x1*x2^3*x4^3*x5^3',\n",
       "  'x1^2*x2^2*x3^2*x4^2*x5*x6',\n",
       "  'x1^2*x2^2*x3*x4*x5^2*x6^2',\n",
       "  'x1^3*x2*x3^3*x6^3',\n",
       "  'x1^2*x2^2*x5^3*x6^3',\n",
       "  'x1*x2^2*x3*x4^2*x5^2*x7',\n",
       "  'x1^2*x2*x3^3*x4*x6*x7',\n",
       "  'x1*x2^2*x4*x5^3*x6*x7',\n",
       "  'x1^2*x2*x3^2*x5*x6^2*x7',\n",
       "  'x1*x2^2*x3*x4^3*x5*x8',\n",
       "  'x1*x2^2*x4^2*x5^2*x6*x8',\n",
       "  'x1^2*x2*x3^2*x4*x6^2*x8',\n",
       "  'x1^2*x2*x3*x5*x6^3*x8',\n",
       "  'x1*x2*x3^2*x4*x5*x7^2',\n",
       "  'x1*x2*x3*x5^2*x6*x7^2',\n",
       "  'x1*x2*x3^2*x4^2*x7*x8',\n",
       "  'x1*x2*x3*x4*x5*x6*x7*x8',\n",
       "  'x1*x2*x5^2*x6^2*x7*x8',\n",
       "  'x1*x2*x3*x4^2*x6*x8^2',\n",
       "  'x1*x2*x4*x5*x6^2*x8^2',\n",
       "  'x1*x3^3*x7^3',\n",
       "  'x2*x5^3*x7^3',\n",
       "  'x2*x4*x5^2*x7^2*x8',\n",
       "  'x1*x3^2*x6*x7^2*x8',\n",
       "  'x2*x4^2*x5*x7*x8^2',\n",
       "  'x1*x3*x6^2*x7*x8^2',\n",
       "  'x2*x4^3*x8^3',\n",
       "  'x1*x6^3*x8^3',\n",
       "  'x3*x5*x7^3*x8',\n",
       "  'x3*x4*x7^2*x8^2',\n",
       "  'x5*x6*x7^2*x8^2',\n",
       "  'x4*x6*x7*x8^3'],\n",
       " 'SYMCYPOLY': ['x1^2*x2^2*x3^3*x4^3',\n",
       "  'x1*x2^3*x4^3*x5^3',\n",
       "  'x1^2*x2^2*x3^2*x4^2*x5*x6',\n",
       "  'x1^2*x2^2*x3*x4*x5^2*x6^2',\n",
       "  'x1^3*x2*x3^3*x6^3',\n",
       "  'x1^2*x2^2*x5^3*x6^3',\n",
       "  'x1*x2^2*x3*x4^2*x5^2*x7',\n",
       "  'x1^2*x2*x3^3*x4*x6*x7',\n",
       "  'x1*x2^2*x4*x5^3*x6*x7',\n",
       "  'x1^2*x2*x3^2*x5*x6^2*x7',\n",
       "  'x1*x2^2*x3*x4^3*x5*x8',\n",
       "  'x1*x2^2*x4^2*x5^2*x6*x8',\n",
       "  'x1^2*x2*x3^2*x4*x6^2*x8',\n",
       "  'x1^2*x2*x3*x5*x6^3*x8',\n",
       "  'x1*x2*x3^2*x4*x5*x7^2',\n",
       "  'x1*x2*x3*x5^2*x6*x7^2',\n",
       "  'x1*x2*x3^2*x4^2*x7*x8',\n",
       "  'x1*x2*x3*x4*x5*x6*x7*x8',\n",
       "  'x1*x2*x5^2*x6^2*x7*x8',\n",
       "  'x1*x2*x3*x4^2*x6*x8^2',\n",
       "  'x1*x2*x4*x5*x6^2*x8^2',\n",
       "  'x1*x3^3*x7^3',\n",
       "  'x2*x5^3*x7^3',\n",
       "  'x2*x4*x5^2*x7^2*x8',\n",
       "  'x1*x3^2*x6*x7^2*x8',\n",
       "  'x2*x4^2*x5*x7*x8^2',\n",
       "  'x1*x3*x6^2*x7*x8^2',\n",
       "  'x2*x4^3*x8^3',\n",
       "  'x1*x6^3*x8^3',\n",
       "  'x3*x5*x7^3*x8',\n",
       "  'x3*x4*x7^2*x8^2',\n",
       "  'x5*x6*x7^2*x8^2',\n",
       "  'x4*x6*x7*x8^3'],\n",
       " 'cypolySTATS': {'MAXRSS': 52420000,\n",
       "  'BSONSIZE': 1854,\n",
       "  'MAXVMSIZE': 707020000,\n",
       "  'CPUTIME': 7},\n",
       " 'cypolyMARK': True,\n",
       " 'orientifoldMARK': False,\n",
       " 'orientifoldSTATS': {'MAXRSS': '',\n",
       "  'BSONSIZE': 0,\n",
       "  'MAXVMSIZE': '',\n",
       "  'CPUTIME': ''},\n",
       " 'SRINVOL': True,\n",
       " 'ITENSXDINVOL': True,\n",
       " 'SMOOTH': False,\n",
       " 'smoothSTATS': {'MAXRSS': 10915840,\n",
       "  'BSONSIZE': 14,\n",
       "  'MAXVMSIZE': 654999552,\n",
       "  'CPUTIME': 2.84},\n",
       " 'smoothMARK': True,\n",
       " 'involvolformMARK': True,\n",
       " 'involvolformSTATS': {'MAXRSS': 0,\n",
       "  'BSONSIZE': 24,\n",
       "  'MAXVMSIZE': 0,\n",
       "  'CPUTIME': 0.0},\n",
       " 'VOLFORMPARITY': 1}"
      ]
     },
     "execution_count": 580,
     "metadata": {},
     "output_type": "execute_result"
    }
   ],
   "source": [
    "mdb.INVOL.find_one({\"POLYID\":287, \"GEOMN\":1, \"TRIANGN\":1, \"INVOLN\":3})"
   ]
  },
  {
   "cell_type": "code",
   "execution_count": 581,
   "metadata": {},
   "outputs": [
    {
     "data": {
      "text/plain": [
       "1777"
      ]
     },
     "execution_count": 581,
     "metadata": {},
     "output_type": "execute_result"
    }
   ],
   "source": [
    "len(list(mdb.INVOL.find({\"H11\":4, \"orientifoldMARK\":True})))"
   ]
  },
  {
   "cell_type": "code",
   "execution_count": 583,
   "metadata": {},
   "outputs": [
    {
     "data": {
      "text/plain": [
       "1778"
      ]
     },
     "execution_count": 583,
     "metadata": {},
     "output_type": "execute_result"
    }
   ],
   "source": [
    "len(list(mdb.INVOL.find({\"H11\":4})))"
   ]
  },
  {
   "cell_type": "code",
   "execution_count": 584,
   "metadata": {},
   "outputs": [
    {
     "data": {
      "text/plain": [
       "0.999437570303712"
      ]
     },
     "execution_count": 584,
     "metadata": {},
     "output_type": "execute_result"
    }
   ],
   "source": [
    "1777/1778"
   ]
  },
  {
   "cell_type": "code",
   "execution_count": null,
   "metadata": {},
   "outputs": [],
   "source": []
  }
 ],
 "metadata": {
  "kernelspec": {
   "display_name": "Python 3",
   "language": "python",
   "name": "python3"
  },
  "language_info": {
   "codemirror_mode": {
    "name": "ipython",
    "version": 3
   },
   "file_extension": ".py",
   "mimetype": "text/x-python",
   "name": "python",
   "nbconvert_exporter": "python",
   "pygments_lexer": "ipython3",
   "version": "3.8.5"
  }
 },
 "nbformat": 4,
 "nbformat_minor": 4
}

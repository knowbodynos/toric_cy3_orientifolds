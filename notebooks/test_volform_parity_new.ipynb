{
 "cells": [
  {
   "cell_type": "code",
   "execution_count": 206,
   "metadata": {},
   "outputs": [],
   "source": [
    "import os\n",
    "import re\n",
    "import numpy as np\n",
    "from pymongo import MongoClient\n",
    "from sympy.combinatorics import Permutation\n",
    "from sympy import symarray"
   ]
  },
  {
   "cell_type": "code",
   "execution_count": 2,
   "metadata": {},
   "outputs": [],
   "source": [
    "def cycle(arr, orig = None):\n",
    "    if arr == orig:\n",
    "        return []\n",
    "    if not orig:\n",
    "        orig = arr\n",
    "    new_arr = arr[:]\n",
    "    new_arr.append(new_arr.pop(0))\n",
    "    return [arr] + cycle(new_arr, orig = orig)"
   ]
  },
  {
   "cell_type": "code",
   "execution_count": 3,
   "metadata": {},
   "outputs": [],
   "source": [
    "def is_same_parity(perm0, perm1):\n",
    "    \"\"\"Check if 2 permutations are of equal parity.\n",
    "\n",
    "    Assume that both permutation lists are of equal length\n",
    "    and have the same elements. No need to check for these\n",
    "    conditions.\n",
    "    \"\"\"\n",
    "    perm1 = perm1[:] ## copy this list so we don't mutate the original\n",
    "\n",
    "    transCount = 0\n",
    "    for loc in range(len(perm0) - 1):                         # Do (len - 1) transpositions\n",
    "        p0 = perm0[loc]\n",
    "        p1 = perm1[loc]\n",
    "        if p0 != p1:\n",
    "            sloc = perm1[loc:].index(p0) + loc          # Find position in perm1\n",
    "            perm1[loc], perm1[sloc] = p0, p1          # Swap in perm1\n",
    "            transCount += 1\n",
    "\n",
    "    # Even number of transpositions means equal parity\n",
    "    if transCount % 2 == 0:\n",
    "        return True\n",
    "    else:\n",
    "        return False"
   ]
  },
  {
   "cell_type": "code",
   "execution_count": 4,
   "metadata": {},
   "outputs": [],
   "source": [
    "def volform_parity(ndivs, invol):\n",
    "    order = list(range(ndivs))\n",
    "    for x, y in invol:\n",
    "        temp = order[x]\n",
    "        order[x] = order[y]\n",
    "        order[y] = temp\n",
    "    perm = Permutation(order)\n",
    "    cycles = cycle(list(range(ndivs)))\n",
    "    volform_term_parities = [is_same_parity(cycles[i][1:], [i^perm for i in cycles[i^perm][1:]]) for i in range(ndivs)]\n",
    "    if all(x for x in volform_term_parities):\n",
    "        return 1\n",
    "    elif all(not x for x in volform_term_parities):\n",
    "        return -1\n",
    "    else:\n",
    "        return 0"
   ]
  },
  {
   "cell_type": "code",
   "execution_count": 262,
   "metadata": {},
   "outputs": [],
   "source": [
    "def format_cws(cws):\n",
    "    return np.array([[int(y) for y in x.split(',')] for x in cws.strip('{}').split('},{')])\n",
    "\n",
    "def format_invol(invol, ndivs):\n",
    "    pairs = set(frozenset(int(y.lstrip('D')) - 1 for y in x.split('->')) for x in elem['INVOL'].strip('{}').split(','))\n",
    "    perm = Permutation()\n",
    "    for x in pairs:\n",
    "        perm *= Permutation(*x)\n",
    "    for x in set(range(ndivs)) - set.union(pairs):\n",
    "        perm *= Permutation(x)\n",
    "    return perm"
   ]
  },
  {
   "cell_type": "code",
   "execution_count": 6,
   "metadata": {},
   "outputs": [],
   "source": [
    "uri = os.getenv('MONGO_URI')\n",
    "client = MongoClient(uri)\n",
    "db = client.ToricCY"
   ]
  },
  {
   "cell_type": "code",
   "execution_count": 280,
   "metadata": {},
   "outputs": [],
   "source": [
    "orientifolds = list(db.INVOL.find({\"H11\": 3, \"VOLFORMPARITY\": 0}))\n",
    "for x in orientifolds:\n",
    "    x.update(db.TRIANG.find_one({k: x[k] for k in [\"POLYID\", \"GEOMN\", \"TRIANGN\"]}))\n",
    "    x.update(db.GEOM.find_one({k: x[k] for k in [\"POLYID\", \"GEOMN\"]}))\n",
    "    x.update(db.POLY.find_one({\"POLYID\": x[\"POLYID\"]}))"
   ]
  },
  {
   "cell_type": "code",
   "execution_count": 292,
   "metadata": {},
   "outputs": [
    {
     "data": {
      "text/plain": [
       "['INVOLENUM',\n",
       " 'POLY',\n",
       " 'INVOL',\n",
       " 'SUBCONES',\n",
       " 'SWISSCHEESE',\n",
       " 'INDEXES',\n",
       " 'TRIANG',\n",
       " 'GEOM']"
      ]
     },
     "execution_count": 292,
     "metadata": {},
     "output_type": "execute_result"
    }
   ],
   "source": [
    "db.POLY.find()"
   ]
  },
  {
   "cell_type": "code",
   "execution_count": 294,
   "metadata": {},
   "outputs": [
    {
     "data": {
      "text/plain": [
       "['POLYID', 'GEOMN']"
      ]
     },
     "execution_count": 294,
     "metadata": {},
     "output_type": "execute_result"
    }
   ],
   "source": [
    "[x['INDEX'] for x in db.INDEXES.find({'TIER':'GEOM'})]"
   ]
  },
  {
   "cell_type": "code",
   "execution_count": 281,
   "metadata": {},
   "outputs": [],
   "source": [
    "def volform_eigenvalue(doc):\n",
    "    cws = format_cws(doc['RESCWS'])\n",
    "    ndivs = len(cws)\n",
    "    invol = format_invol(doc['INVOL'], ndivs)\n",
    "\n",
    "    xs = symarray('x', ndivs)\n",
    "    xs_perm = xs[[i^invol for i in range(ndivs)]]\n",
    "\n",
    "    volform_before = (xs @ cws).prod().as_poly()\n",
    "    volform_after = invol.signature() * (xs_perm @ cws).prod().as_poly()\n",
    "    volform_eigenval = (volform_after / volform_before).simplify()\n",
    "    try:\n",
    "        return int(volform_eigenval)\n",
    "    except TypeError:\n",
    "        return 0"
   ]
  },
  {
   "cell_type": "code",
   "execution_count": 282,
   "metadata": {},
   "outputs": [],
   "source": [
    "a = list(map(volform_eigenvalue, orientifolds))"
   ]
  },
  {
   "cell_type": "code",
   "execution_count": 283,
   "metadata": {},
   "outputs": [
    {
     "data": {
      "text/plain": [
       "[0,\n",
       " 0,\n",
       " 0,\n",
       " 0,\n",
       " 0,\n",
       " 0,\n",
       " 0,\n",
       " 0,\n",
       " 0,\n",
       " 0,\n",
       " 0,\n",
       " 0,\n",
       " 0,\n",
       " 0,\n",
       " 0,\n",
       " 0,\n",
       " 0,\n",
       " 0,\n",
       " 0,\n",
       " 0,\n",
       " 0,\n",
       " 0,\n",
       " 1,\n",
       " 0,\n",
       " 1,\n",
       " 0,\n",
       " 0,\n",
       " 0,\n",
       " 0,\n",
       " 0,\n",
       " 0,\n",
       " 0,\n",
       " 0,\n",
       " 0,\n",
       " 0,\n",
       " 0,\n",
       " 0,\n",
       " 0,\n",
       " 0,\n",
       " 0,\n",
       " 0,\n",
       " 0,\n",
       " 0,\n",
       " 0,\n",
       " 0,\n",
       " 0,\n",
       " 0,\n",
       " 1,\n",
       " 0,\n",
       " 1,\n",
       " 0,\n",
       " 0,\n",
       " 0,\n",
       " 0,\n",
       " 0,\n",
       " 0,\n",
       " 0,\n",
       " 0]"
      ]
     },
     "execution_count": 283,
     "metadata": {},
     "output_type": "execute_result"
    }
   ],
   "source": [
    "a"
   ]
  },
  {
   "cell_type": "code",
   "execution_count": null,
   "metadata": {},
   "outputs": [],
   "source": []
  }
 ],
 "metadata": {
  "kernelspec": {
   "display_name": "Python 3",
   "language": "python",
   "name": "python3"
  },
  "language_info": {
   "codemirror_mode": {
    "name": "ipython",
    "version": 3
   },
   "file_extension": ".py",
   "mimetype": "text/x-python",
   "name": "python",
   "nbconvert_exporter": "python",
   "pygments_lexer": "ipython3",
   "version": "3.8.5"
  }
 },
 "nbformat": 4,
 "nbformat_minor": 4
}

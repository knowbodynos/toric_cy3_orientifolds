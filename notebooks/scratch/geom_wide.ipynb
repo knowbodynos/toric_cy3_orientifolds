{
 "cells": [
  {
   "cell_type": "code",
   "execution_count": 1,
   "metadata": {},
   "outputs": [],
   "source": [
    "import os\n",
    "import re\n",
    "import itertools as it\n",
    "import pandas as pd\n",
    "from platform import python_version\n",
    "from collections import defaultdict\n",
    "from pymongo import MongoClient"
   ]
  },
  {
   "cell_type": "code",
   "execution_count": 2,
   "metadata": {},
   "outputs": [
    {
     "name": "stdout",
     "output_type": "stream",
     "text": [
      "Python 3.6.5\n",
      "Pandas 1.1.1\n"
     ]
    }
   ],
   "source": [
    "print(f\"Python {python_version()}\")\n",
    "print(f\"Pandas {pd.__version__}\")"
   ]
  },
  {
   "cell_type": "code",
   "execution_count": 3,
   "metadata": {},
   "outputs": [],
   "source": [
    "divisor_to_regex = {\n",
    "    \"dP\": re.compile(\"{1,0,0,[1-9]}\"),\n",
    "    \"NSR\": re.compile(\"{1,0,0,[1-9][^}]\"),\n",
    "    \"K3\": re.compile(\"{1,0,1,20}\"),\n",
    "    \"Wilson\": re.compile(\"{1,[1-9]+,0,[1-9]+}\"),\n",
    "    \"EWilson\": re.compile(\"{1,1,0,[1-9]+}\"),\n",
    "    \"SD1\": re.compile(\"{1,0,1,21}\"),\n",
    "    \"SD2\": re.compile(\"{1,0,2,30}\")\n",
    "}\n",
    "divisor_key_combs = list(\n",
    "    it.chain(\n",
    "        it.combinations(divisor_to_regex, 1),\n",
    "        it.combinations(['dP', 'K3', 'Wilson'], 2),\n",
    "        it.combinations(['dP', 'K3', 'EWilson'], 2),\n",
    "        it.combinations(['dP', 'K3', 'Wilson'], 3),\n",
    "        it.combinations(['dP', 'K3', 'EWilson'], 3)\n",
    "    )\n",
    ")\n",
    "def divisor_func(x):\n",
    "    counts = defaultdict(int)\n",
    "    for divisors in x.INVOLDIVCOHOM:\n",
    "        divisors = ''.join(divisors)\n",
    "        for divisor_key_comb in divisor_key_combs:\n",
    "            # Product of counts for each type of divisor in combination\n",
    "            # (how many ways of getting that divisor combination)\n",
    "            prod = 1\n",
    "            for divisor_key in divisor_key_comb:\n",
    "                prod *= len(divisor_to_regex[divisor_key].findall(divisors))\n",
    "            counts[divisor_key_comb] += prod\n",
    "    return counts"
   ]
  },
  {
   "cell_type": "code",
   "execution_count": 4,
   "metadata": {},
   "outputs": [],
   "source": [
    "oplane_to_odim = {\n",
    "    \"O3\": 3,\n",
    "    \"O5\": 5,\n",
    "    \"O7\": 7\n",
    "}\n",
    "oplane_key_combs = list(\n",
    "    it.chain(\n",
    "        it.combinations(oplane_to_odim, 1),\n",
    "        it.combinations(oplane_to_odim, 2),\n",
    "        it.combinations(oplane_to_odim, 3)\n",
    "    )\n",
    ")\n",
    "def oplane_func(x):\n",
    "    counts = defaultdict(int)\n",
    "    for oplanes in x.OPLANES:\n",
    "        odims = [x['ODIM'] for x in oplanes]\n",
    "        for oplane_key_comb in oplane_key_combs:\n",
    "            # Product of counts for each type (i.e. dimension) of O-plane in combination\n",
    "            # (how many ways of getting that O-plane dimension combination)\n",
    "            prod = 1\n",
    "            for oplane_key in oplane_key_comb:\n",
    "                prod *= odims.count(oplane_to_odim[oplane_key])\n",
    "            counts[oplane_key_comb] += prod\n",
    "    return counts"
   ]
  },
  {
   "cell_type": "code",
   "execution_count": 2,
   "metadata": {},
   "outputs": [],
   "source": [
    "uri = os.getenv('MONGO_URI')\n",
    "client = MongoClient(uri)\n",
    "db = client.ToricCY"
   ]
  },
  {
   "cell_type": "code",
   "execution_count": 6,
   "metadata": {},
   "outputs": [],
   "source": [
    "h11 = 4\n",
    "\n",
    "poly_df = pd.DataFrame.from_records(db.POLY.find({\"H11\": h11}))\n",
    "geom_df = pd.DataFrame.from_records(db.GEOM.find({\"H11\": h11}))\n",
    "invol_df = pd.DataFrame.from_records(db.INVOL.find({\"H11\": h11}))\n",
    "\n",
    "df = geom_df.merge(invol_df, how='right', on=['POLYID', 'GEOMN'])\n",
    "df = poly_df.merge(df, how='right', on=['POLYID'])\n",
    "df = df[df.FUNDGP == 1]\n",
    "\n",
    "# Filter proper, geometry-wide, and definite volume form\n",
    "df = df.groupby(['POLYID', 'GEOMN', 'INVOL']).filter(\n",
    "    lambda x: \n",
    "        (x.SRINVOL & x.ITENSXDINVOL).all() and \\\n",
    "        (len(x) == x.NTRIANGS.iloc[0]) and \\\n",
    "        (x.VOLFORMPARITY.nunique() == 1)\n",
    ")\n",
    "\n",
    "grps = df.groupby(['POLYID', 'GEOMN', 'INVOL'])"
   ]
  },
  {
   "cell_type": "code",
   "execution_count": 7,
   "metadata": {},
   "outputs": [
    {
     "data": {
      "text/plain": [
       "259"
      ]
     },
     "execution_count": 7,
     "metadata": {},
     "output_type": "execute_result"
    }
   ],
   "source": [
    "# Number of geometry-wide proper involutions\n",
    "len(grps)"
   ]
  },
  {
   "cell_type": "code",
   "execution_count": 8,
   "metadata": {},
   "outputs": [
    {
     "data": {
      "text/plain": [
       "(dP,)                116\n",
       "(NSR,)               277\n",
       "(K3,)                219\n",
       "(Wilson,)             25\n",
       "(EWilson,)             2\n",
       "(SD1,)                26\n",
       "(SD2,)                18\n",
       "(dP, K3)               0\n",
       "(dP, Wilson)          16\n",
       "(K3, Wilson)          12\n",
       "(dP, EWilson)          0\n",
       "(K3, EWilson)          4\n",
       "(dP, K3, Wilson)       0\n",
       "(dP, K3, EWilson)      0\n",
       "dtype: int64"
      ]
     },
     "execution_count": 8,
     "metadata": {},
     "output_type": "execute_result"
    }
   ],
   "source": [
    "# Number of ways of getting a divisor combination in any geometry-wide involution\n",
    "pd.DataFrame.from_records(grps.apply(divisor_func).values).sum()"
   ]
  },
  {
   "cell_type": "code",
   "execution_count": 9,
   "metadata": {},
   "outputs": [
    {
     "data": {
      "text/plain": [
       "(O3,)           217\n",
       "(O5,)           216\n",
       "(O7,)           163\n",
       "(O3, O5)          0\n",
       "(O3, O7)         94\n",
       "(O5, O7)          0\n",
       "(O3, O5, O7)      0\n",
       "dtype: int64"
      ]
     },
     "execution_count": 9,
     "metadata": {},
     "output_type": "execute_result"
    }
   ],
   "source": [
    "# Number of ways of getting a O-plane combination in any geometry-wide involution\n",
    "pd.DataFrame.from_records(grps.apply(oplane_func).values).sum()"
   ]
  },
  {
   "cell_type": "code",
   "execution_count": 6,
   "metadata": {},
   "outputs": [
    {
     "data": {
      "text/plain": [
       "{'_id': ObjectId('58c2303d6ccbae3dd44b27d8'),\n",
       " 'MORIMAT': '{{0,0,1,1,1,0},{1,1,0,0,0,1}}',\n",
       " 'CHERN2XJ': '3*J1^2+9*J1*J2+3*J2^2',\n",
       " 'KAHLERMAT': '{{1,0},{0,1}}',\n",
       " 'IPOLYXJ': '3*J1^2*J2+3*J1*J2^2',\n",
       " 'NTRIANGS': 1,\n",
       " 'POLYID': 10,\n",
       " 'CHERN2XNUMS': '{36,36}',\n",
       " 'H11': 2,\n",
       " 'GEOMN': 1,\n",
       " 'ITENSXJ': '{{{0,3},{3,3}},{{3,3},{3,0}}}',\n",
       " 'toricswisscheeseSTATS': {'MAXRSS': 12412000,\n",
       "  'BSONSIZE': 0,\n",
       "  'MAXVMSIZE': 313544000,\n",
       "  'CPUTIME': 17},\n",
       " 'toricswisscheeseMARK': True,\n",
       " 'involenumSTATS': {'MAXRSS': 0,\n",
       "  'BSONSIZE': 1011,\n",
       "  'MAXVMSIZE': 0,\n",
       "  'CPUTIME': 0.0},\n",
       " 'involenumMARK': True}"
      ]
     },
     "execution_count": 6,
     "metadata": {},
     "output_type": "execute_result"
    }
   ],
   "source": [
    "db.GEOM.find_one({\"H11\":2})"
   ]
  },
  {
   "cell_type": "code",
   "execution_count": null,
   "metadata": {},
   "outputs": [],
   "source": []
  }
 ],
 "metadata": {
  "kernelspec": {
   "display_name": "Python 3",
   "language": "python",
   "name": "python3"
  },
  "language_info": {
   "codemirror_mode": {
    "name": "ipython",
    "version": 3
   },
   "file_extension": ".py",
   "mimetype": "text/x-python",
   "name": "python",
   "nbconvert_exporter": "python",
   "pygments_lexer": "ipython3",
   "version": "3.8.5"
  }
 },
 "nbformat": 4,
 "nbformat_minor": 4
}

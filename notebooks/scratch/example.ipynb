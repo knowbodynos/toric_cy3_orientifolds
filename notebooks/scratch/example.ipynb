{
 "cells": [
  {
   "cell_type": "code",
   "execution_count": 3,
   "metadata": {},
   "outputs": [],
   "source": [
    "from utils.db import ToricCY\n",
    "from utils import format\n",
    "db = ToricCY()"
   ]
  },
  {
   "cell_type": "code",
   "execution_count": 4,
   "metadata": {},
   "outputs": [],
   "source": [
    "invols = db.find_invols({'H11': 3})"
   ]
  },
  {
   "cell_type": "code",
   "execution_count": 107,
   "metadata": {},
   "outputs": [],
   "source": [
    "from utils.calc import get_srideal\n",
    "# ex = invols[65]\n",
    "ex = invols[126]\n",
    "rescws = format.mat(ex['RESCWS'])\n",
    "itensxd = format.mat(ex['ITENSXD'])\n",
    "nverts = format.mat(ex['NVERTS'])\n",
    "dresverts = format.mat(ex['DRESVERTS'])\n",
    "k, n = dresverts.shape\n",
    "triang = format.mat(ex['TRIANG'])\n",
    "srideal = get_srideal(triang)\n",
    "invol = format.invol(ex['INVOL'], k)"
   ]
  },
  {
   "cell_type": "code",
   "execution_count": 108,
   "metadata": {},
   "outputs": [],
   "source": [
    "import numpy as np\n",
    "from sage.geometry.polyhedron.constructor import Polyhedron\n",
    "Delta = Polyhedron(vertices=nverts)\n",
    "npoints = np.array(Delta.integral_points())"
   ]
  },
  {
   "cell_type": "code",
   "execution_count": 109,
   "metadata": {},
   "outputs": [],
   "source": [
    "P_expon = (npoints @ dresverts.T) + 1"
   ]
  },
  {
   "cell_type": "code",
   "execution_count": 110,
   "metadata": {},
   "outputs": [],
   "source": [
    "# from sage.rings.integer_ring import ZZ\n",
    "# from sage.matrix.all import matrix\n",
    "# m = matrix(ZZ, P_expon - P_expon[:, invol.array_form]).row_space().matrix()"
   ]
  },
  {
   "cell_type": "code",
   "execution_count": 111,
   "metadata": {},
   "outputs": [],
   "source": [
    "# P_weights = np.unique(P_expon @ rescws, axis=0)"
   ]
  },
  {
   "cell_type": "code",
   "execution_count": 112,
   "metadata": {},
   "outputs": [],
   "source": [
    "from sage.rings.rational_field import QQ\n",
    "R = QQ[tuple(f'x_{i}' for i in range(k))]\n",
    "X = np.array(R.gens())\n",
    "X_invol = X[invol.array_form]\n",
    "X_sub = dict(zip(X, X_invol))"
   ]
  },
  {
   "cell_type": "code",
   "execution_count": 113,
   "metadata": {},
   "outputs": [],
   "source": [
    "srideal = [R.ideal(*np.array(X)[s]) for s in srideal]"
   ]
  },
  {
   "cell_type": "code",
   "execution_count": 130,
   "metadata": {},
   "outputs": [],
   "source": [
    "a = P_monoms.sum().reduce(fixed_loci[0])"
   ]
  },
  {
   "cell_type": "code",
   "execution_count": 222,
   "metadata": {},
   "outputs": [],
   "source": [
    "def is_smooth(P_monoms, fixed_loci, srideal):\n",
    "    J_P_monoms = np.array([[x.derivative(y) for y in X] for x in P_monoms])\n",
    "    trans_ideal = R.ideal(*P_monoms) + R.ideal(*J_P_monoms.flatten()) + sum(fixed_loci)\n",
    "    for s in srideal:\n",
    "        if trans_ideal.quotient(s).dimension() < 0:\n",
    "            return True\n",
    "    return False"
   ]
  },
  {
   "cell_type": "code",
   "execution_count": 218,
   "metadata": {},
   "outputs": [
    {
     "data": {
      "text/plain": [
       "3"
      ]
     },
     "execution_count": 218,
     "metadata": {},
     "output_type": "execute_result"
    }
   ],
   "source": [
    "a.dimension()"
   ]
  },
  {
   "cell_type": "code",
   "execution_count": 220,
   "metadata": {},
   "outputs": [
    {
     "data": {
      "text/plain": [
       "[-1, 3, 3]"
      ]
     },
     "execution_count": 220,
     "metadata": {},
     "output_type": "execute_result"
    }
   ],
   "source": []
  },
  {
   "cell_type": "code",
   "execution_count": 221,
   "metadata": {},
   "outputs": [
    {
     "data": {
      "text/plain": [
       "True"
      ]
     },
     "execution_count": 221,
     "metadata": {},
     "output_type": "execute_result"
    }
   ],
   "source": [
    "ex['SMOOTH']"
   ]
  },
  {
   "cell_type": "code",
   "execution_count": 209,
   "metadata": {},
   "outputs": [
    {
     "data": {
      "text/plain": [
       "Ideal (x_0, x_5, x_2, x_3) of Multivariate Polynomial Ring in x_0, x_1, x_2, x_3, x_4, x_5, x_6 over Rational Field"
      ]
     },
     "execution_count": 209,
     "metadata": {},
     "output_type": "execute_result"
    }
   ],
   "source": [
    "srideal[0] + srideal[1]"
   ]
  },
  {
   "cell_type": "code",
   "execution_count": 198,
   "metadata": {},
   "outputs": [
    {
     "data": {
      "text/plain": [
       "([x_0, x_5, x_6], [x_0, x_5])"
      ]
     },
     "execution_count": 198,
     "metadata": {},
     "output_type": "execute_result"
    }
   ],
   "source": [
    "q.groebner_basis(), srideal[0].groebner_basis()"
   ]
  },
  {
   "cell_type": "code",
   "execution_count": 196,
   "metadata": {},
   "outputs": [
    {
     "data": {
      "text/plain": [
       "True"
      ]
     },
     "execution_count": 196,
     "metadata": {},
     "output_type": "execute_result"
    }
   ],
   "source": [
    "q > srideal[0]"
   ]
  },
  {
   "cell_type": "code",
   "execution_count": 192,
   "metadata": {},
   "outputs": [
    {
     "data": {
      "text/plain": [
       "(Ideal (x_6, x_5, x_0) of Multivariate Polynomial Ring in x_0, x_1, x_2, x_3, x_4, x_5, x_6 over Rational Field,\n",
       " [Ideal (x_0, x_5) of Multivariate Polynomial Ring in x_0, x_1, x_2, x_3, x_4, x_5, x_6 over Rational Field,\n",
       "  Ideal (x_2, x_3) of Multivariate Polynomial Ring in x_0, x_1, x_2, x_3, x_4, x_5, x_6 over Rational Field,\n",
       "  Ideal (x_1, x_4, x_6) of Multivariate Polynomial Ring in x_0, x_1, x_2, x_3, x_4, x_5, x_6 over Rational Field])"
      ]
     },
     "execution_count": 192,
     "metadata": {},
     "output_type": "execute_result"
    }
   ],
   "source": [
    "q = a.minimal_associated_primes()[0]\n",
    "q, srideal"
   ]
  },
  {
   "cell_type": "code",
   "execution_count": 179,
   "metadata": {},
   "outputs": [
    {
     "data": {
      "text/plain": [
       "Ideal (x_5, x_0) of Multivariate Polynomial Ring in x_0, x_1, x_2, x_3, x_4, x_5, x_6 over Rational Field"
      ]
     },
     "execution_count": 179,
     "metadata": {},
     "output_type": "execute_result"
    }
   ],
   "source": [
    "q.intersection(srideal[0])"
   ]
  },
  {
   "cell_type": "code",
   "execution_count": 158,
   "metadata": {},
   "outputs": [
    {
     "data": {
      "text/plain": [
       "[Ideal (x_6, x_5, x_0) of Multivariate Polynomial Ring in x_0, x_1, x_2, x_3, x_4, x_5, x_6 over Rational Field,\n",
       " Ideal (x_6, x_4, x_1) of Multivariate Polynomial Ring in x_0, x_1, x_2, x_3, x_4, x_5, x_6 over Rational Field,\n",
       " Ideal (x_6, x_3, x_2) of Multivariate Polynomial Ring in x_0, x_1, x_2, x_3, x_4, x_5, x_6 over Rational Field]"
      ]
     },
     "execution_count": 158,
     "metadata": {},
     "output_type": "execute_result"
    }
   ],
   "source": [
    "a.minimal_associated_primes()"
   ]
  },
  {
   "cell_type": "code",
   "execution_count": 155,
   "metadata": {},
   "outputs": [
    {
     "data": {
      "text/plain": [
       "[Ideal (x_0, x_5) of Multivariate Polynomial Ring in x_0, x_1, x_2, x_3, x_4, x_5, x_6 over Rational Field,\n",
       " Ideal (x_2, x_3) of Multivariate Polynomial Ring in x_0, x_1, x_2, x_3, x_4, x_5, x_6 over Rational Field,\n",
       " Ideal (x_1, x_4, x_6) of Multivariate Polynomial Ring in x_0, x_1, x_2, x_3, x_4, x_5, x_6 over Rational Field]"
      ]
     },
     "execution_count": 155,
     "metadata": {},
     "output_type": "execute_result"
    }
   ],
   "source": [
    "srideal"
   ]
  },
  {
   "cell_type": "markdown",
   "metadata": {},
   "source": [
    "### O-planes"
   ]
  },
  {
   "cell_type": "code",
   "execution_count": 159,
   "metadata": {},
   "outputs": [],
   "source": [
    "P_monoms = np.power(X, P_expon).prod(axis=1)\n",
    "P_diff = np.vectorize(lambda x: x - x.subs(X_sub))(P_monoms)"
   ]
  },
  {
   "cell_type": "code",
   "execution_count": 115,
   "metadata": {},
   "outputs": [
    {
     "ename": "TypeError",
     "evalue": "no canonical coercion from Monoid of ideals of Multivariate Polynomial Ring in x_0, x_1, x_2, x_3, x_4, x_5, x_6 over Rational Field to Multivariate Polynomial Ring in x_0, x_1, x_2, x_3, x_4, x_5, x_6 over Rational Field",
     "output_type": "error",
     "traceback": [
      "\u001b[0;31m---------------------------------------------------------------------------\u001b[0m",
      "\u001b[0;31mTypeError\u001b[0m                                 Traceback (most recent call last)",
      "\u001b[0;32m/var/tmp/sage-jc4b6yulaujayb9sr94ia88eourzeqip0oidmas3/local/lib/python3.8/site-packages/sage/rings/polynomial/multi_polynomial_libsingular.pyx\u001b[0m in \u001b[0;36msage.rings.polynomial.multi_polynomial_libsingular.MPolynomial_libsingular.reduce (build/cythonized/sage/rings/polynomial/multi_polynomial_libsingular.cpp:36528)\u001b[0;34m()\u001b[0m\n\u001b[1;32m   4693\u001b[0m                 \u001b[0;32mtry\u001b[0m\u001b[0;34m:\u001b[0m\u001b[0;34m\u001b[0m\u001b[0;34m\u001b[0m\u001b[0m\n\u001b[0;32m-> 4694\u001b[0;31m                     \u001b[0mf\u001b[0m \u001b[0;34m=\u001b[0m \u001b[0mparent\u001b[0m\u001b[0;34m.\u001b[0m\u001b[0m_coerce_c\u001b[0m\u001b[0;34m(\u001b[0m\u001b[0mf\u001b[0m\u001b[0;34m)\u001b[0m\u001b[0;34m\u001b[0m\u001b[0;34m\u001b[0m\u001b[0m\n\u001b[0m\u001b[1;32m   4695\u001b[0m                 \u001b[0;32mexcept\u001b[0m \u001b[0mTypeError\u001b[0m \u001b[0;32mas\u001b[0m \u001b[0mmsg\u001b[0m\u001b[0;34m:\u001b[0m\u001b[0;34m\u001b[0m\u001b[0;34m\u001b[0m\u001b[0m\n",
      "\u001b[0;32m/var/tmp/sage-jc4b6yulaujayb9sr94ia88eourzeqip0oidmas3/local/lib/python3.8/site-packages/sage/structure/parent_old.pyx\u001b[0m in \u001b[0;36msage.structure.parent_old.Parent._coerce_c (build/cythonized/sage/structure/parent_old.c:3959)\u001b[0;34m()\u001b[0m\n\u001b[1;32m    184\u001b[0m         \u001b[0;32mif\u001b[0m \u001b[0mself\u001b[0m\u001b[0;34m.\u001b[0m\u001b[0m_element_constructor\u001b[0m \u001b[0;32mis\u001b[0m \u001b[0;32mnot\u001b[0m \u001b[0;32mNone\u001b[0m\u001b[0;34m:\u001b[0m\u001b[0;34m\u001b[0m\u001b[0;34m\u001b[0m\u001b[0m\n\u001b[0;32m--> 185\u001b[0;31m             \u001b[0;32mreturn\u001b[0m \u001b[0mself\u001b[0m\u001b[0;34m.\u001b[0m\u001b[0mcoerce\u001b[0m\u001b[0;34m(\u001b[0m\u001b[0mx\u001b[0m\u001b[0;34m)\u001b[0m\u001b[0;34m\u001b[0m\u001b[0;34m\u001b[0m\u001b[0m\n\u001b[0m\u001b[1;32m    186\u001b[0m         \u001b[0mcheck_old_coerce\u001b[0m\u001b[0;34m(\u001b[0m\u001b[0mself\u001b[0m\u001b[0;34m)\u001b[0m\u001b[0;34m\u001b[0m\u001b[0;34m\u001b[0m\u001b[0m\n",
      "\u001b[0;32m/var/tmp/sage-jc4b6yulaujayb9sr94ia88eourzeqip0oidmas3/local/lib/python3.8/site-packages/sage/structure/parent.pyx\u001b[0m in \u001b[0;36msage.structure.parent.Parent.coerce (build/cythonized/sage/structure/parent.c:10618)\u001b[0;34m()\u001b[0m\n\u001b[1;32m   1143\u001b[0m                     \u001b[0m_record_exception\u001b[0m\u001b[0;34m(\u001b[0m\u001b[0;34m)\u001b[0m\u001b[0;34m\u001b[0m\u001b[0;34m\u001b[0m\u001b[0m\n\u001b[0;32m-> 1144\u001b[0;31m             \u001b[0;32mraise\u001b[0m \u001b[0mTypeError\u001b[0m\u001b[0;34m(\u001b[0m\u001b[0m_LazyString\u001b[0m\u001b[0;34m(\u001b[0m\u001b[0m_lazy_format\u001b[0m\u001b[0;34m,\u001b[0m \u001b[0;34m(\u001b[0m\u001b[0;34m\"no canonical coercion from %s to %s\"\u001b[0m\u001b[0;34m,\u001b[0m \u001b[0mparent\u001b[0m\u001b[0;34m(\u001b[0m\u001b[0mx\u001b[0m\u001b[0;34m)\u001b[0m\u001b[0;34m,\u001b[0m \u001b[0mself\u001b[0m\u001b[0;34m)\u001b[0m\u001b[0;34m,\u001b[0m \u001b[0;34m{\u001b[0m\u001b[0;34m}\u001b[0m\u001b[0;34m)\u001b[0m\u001b[0;34m)\u001b[0m\u001b[0;34m\u001b[0m\u001b[0;34m\u001b[0m\u001b[0m\n\u001b[0m\u001b[1;32m   1145\u001b[0m         \u001b[0;32melse\u001b[0m\u001b[0;34m:\u001b[0m\u001b[0;34m\u001b[0m\u001b[0;34m\u001b[0m\u001b[0m\n",
      "\u001b[0;31mTypeError\u001b[0m: no canonical coercion from Monoid of ideals of Multivariate Polynomial Ring in x_0, x_1, x_2, x_3, x_4, x_5, x_6 over Rational Field to Multivariate Polynomial Ring in x_0, x_1, x_2, x_3, x_4, x_5, x_6 over Rational Field",
      "\nDuring handling of the above exception, another exception occurred:\n",
      "\u001b[0;31mTypeError\u001b[0m                                 Traceback (most recent call last)",
      "\u001b[0;32m<ipython-input-115-5d90ff997016>\u001b[0m in \u001b[0;36m<module>\u001b[0;34m\u001b[0m\n\u001b[0;32m----> 1\u001b[0;31m \u001b[0mR\u001b[0m\u001b[0;34m.\u001b[0m\u001b[0mideal\u001b[0m\u001b[0;34m(\u001b[0m\u001b[0;34m*\u001b[0m\u001b[0;34m[\u001b[0m\u001b[0mx\u001b[0m\u001b[0;34m.\u001b[0m\u001b[0mreduce\u001b[0m\u001b[0;34m(\u001b[0m\u001b[0msrideal\u001b[0m\u001b[0;34m)\u001b[0m \u001b[0;32mfor\u001b[0m \u001b[0mx\u001b[0m \u001b[0;32min\u001b[0m \u001b[0mP_diff\u001b[0m\u001b[0;34m]\u001b[0m\u001b[0;34m)\u001b[0m\u001b[0;34m.\u001b[0m\u001b[0mminimal_associated_primes\u001b[0m\u001b[0;34m(\u001b[0m\u001b[0;34m)\u001b[0m\u001b[0;34m\u001b[0m\u001b[0;34m\u001b[0m\u001b[0m\n\u001b[0m",
      "\u001b[0;32m<ipython-input-115-5d90ff997016>\u001b[0m in \u001b[0;36m<listcomp>\u001b[0;34m(.0)\u001b[0m\n\u001b[0;32m----> 1\u001b[0;31m \u001b[0mR\u001b[0m\u001b[0;34m.\u001b[0m\u001b[0mideal\u001b[0m\u001b[0;34m(\u001b[0m\u001b[0;34m*\u001b[0m\u001b[0;34m[\u001b[0m\u001b[0mx\u001b[0m\u001b[0;34m.\u001b[0m\u001b[0mreduce\u001b[0m\u001b[0;34m(\u001b[0m\u001b[0msrideal\u001b[0m\u001b[0;34m)\u001b[0m \u001b[0;32mfor\u001b[0m \u001b[0mx\u001b[0m \u001b[0;32min\u001b[0m \u001b[0mP_diff\u001b[0m\u001b[0;34m]\u001b[0m\u001b[0;34m)\u001b[0m\u001b[0;34m.\u001b[0m\u001b[0mminimal_associated_primes\u001b[0m\u001b[0;34m(\u001b[0m\u001b[0;34m)\u001b[0m\u001b[0;34m\u001b[0m\u001b[0;34m\u001b[0m\u001b[0m\n\u001b[0m",
      "\u001b[0;32m/var/tmp/sage-jc4b6yulaujayb9sr94ia88eourzeqip0oidmas3/local/lib/python3.8/site-packages/sage/rings/polynomial/multi_polynomial_libsingular.pyx\u001b[0m in \u001b[0;36msage.rings.polynomial.multi_polynomial_libsingular.MPolynomial_libsingular.reduce (build/cythonized/sage/rings/polynomial/multi_polynomial_libsingular.cpp:36587)\u001b[0;34m()\u001b[0m\n\u001b[1;32m   4695\u001b[0m                 \u001b[0;32mexcept\u001b[0m \u001b[0mTypeError\u001b[0m \u001b[0;32mas\u001b[0m \u001b[0mmsg\u001b[0m\u001b[0;34m:\u001b[0m\u001b[0;34m\u001b[0m\u001b[0;34m\u001b[0m\u001b[0m\n\u001b[1;32m   4696\u001b[0m                     \u001b[0mid_Delete\u001b[0m\u001b[0;34m(\u001b[0m\u001b[0;34m&\u001b[0m\u001b[0m_I\u001b[0m\u001b[0;34m,\u001b[0m\u001b[0mr\u001b[0m\u001b[0;34m)\u001b[0m\u001b[0;34m\u001b[0m\u001b[0;34m\u001b[0m\u001b[0m\n\u001b[0;32m-> 4697\u001b[0;31m                     \u001b[0;32mraise\u001b[0m \u001b[0mTypeError\u001b[0m\u001b[0;34m(\u001b[0m\u001b[0mmsg\u001b[0m\u001b[0;34m)\u001b[0m\u001b[0;34m\u001b[0m\u001b[0;34m\u001b[0m\u001b[0m\n\u001b[0m\u001b[1;32m   4698\u001b[0m \u001b[0;34m\u001b[0m\u001b[0m\n\u001b[1;32m   4699\u001b[0m             \u001b[0m_I\u001b[0m\u001b[0;34m.\u001b[0m\u001b[0mm\u001b[0m\u001b[0;34m[\u001b[0m\u001b[0mi\u001b[0m\u001b[0;34m]\u001b[0m \u001b[0;34m=\u001b[0m \u001b[0mp_Copy\u001b[0m\u001b[0;34m(\u001b[0m\u001b[0;34m(\u001b[0m\u001b[0;34m<\u001b[0m\u001b[0mMPolynomial_libsingular\u001b[0m\u001b[0;34m>\u001b[0m\u001b[0mf\u001b[0m\u001b[0;34m)\u001b[0m\u001b[0;34m.\u001b[0m\u001b[0m_poly\u001b[0m\u001b[0;34m,\u001b[0m \u001b[0mr\u001b[0m\u001b[0;34m)\u001b[0m\u001b[0;34m\u001b[0m\u001b[0;34m\u001b[0m\u001b[0m\n",
      "\u001b[0;31mTypeError\u001b[0m: no canonical coercion from Monoid of ideals of Multivariate Polynomial Ring in x_0, x_1, x_2, x_3, x_4, x_5, x_6 over Rational Field to Multivariate Polynomial Ring in x_0, x_1, x_2, x_3, x_4, x_5, x_6 over Rational Field"
     ]
    }
   ],
   "source": [
    "R.ideal(*[x.reduce(srideal) for x in P_diff]).minimal_associated_primes()"
   ]
  },
  {
   "cell_type": "code",
   "execution_count": 116,
   "metadata": {},
   "outputs": [
    {
     "data": {
      "text/plain": [
       "x_0^4*x_1*x_3^6*x_4^5 - x_0^4*x_2*x_3^5*x_4^6"
      ]
     },
     "execution_count": 116,
     "metadata": {},
     "output_type": "execute_result"
    }
   ],
   "source": [
    "P_diff[1] - P_diff[1].reduce(srideal[0])"
   ]
  },
  {
   "cell_type": "code",
   "execution_count": 117,
   "metadata": {},
   "outputs": [
    {
     "ename": "IndexError",
     "evalue": "list index out of range",
     "output_type": "error",
     "traceback": [
      "\u001b[0;31m---------------------------------------------------------------------------\u001b[0m",
      "\u001b[0;31mIndexError\u001b[0m                                Traceback (most recent call last)",
      "\u001b[0;32m<ipython-input-117-875c8a683f7f>\u001b[0m in \u001b[0;36m<module>\u001b[0;34m\u001b[0m\n\u001b[0;32m----> 1\u001b[0;31m \u001b[0;34m(\u001b[0m\u001b[0mR\u001b[0m\u001b[0;34m.\u001b[0m\u001b[0mideal\u001b[0m\u001b[0;34m(\u001b[0m\u001b[0;34m*\u001b[0m\u001b[0mP_diff\u001b[0m\u001b[0;34m)\u001b[0m \u001b[0;34m+\u001b[0m \u001b[0msrideal\u001b[0m\u001b[0;34m[\u001b[0m\u001b[0;36m3\u001b[0m\u001b[0;34m]\u001b[0m\u001b[0;34m)\u001b[0m\u001b[0;34m.\u001b[0m\u001b[0mminimal_associated_primes\u001b[0m\u001b[0;34m(\u001b[0m\u001b[0;34m)\u001b[0m\u001b[0;34m\u001b[0m\u001b[0;34m\u001b[0m\u001b[0m\n\u001b[0m",
      "\u001b[0;31mIndexError\u001b[0m: list index out of range"
     ]
    }
   ],
   "source": [
    "(R.ideal(*P_diff) + srideal[3]).minimal_associated_primes()"
   ]
  },
  {
   "cell_type": "code",
   "execution_count": 118,
   "metadata": {},
   "outputs": [],
   "source": [
    "fixed_loci = R.ideal(*P_diff).minimal_associated_primes()"
   ]
  },
  {
   "cell_type": "code",
   "execution_count": 119,
   "metadata": {},
   "outputs": [],
   "source": [
    "def get_odim(I):\n",
    "    codim = I.dimension()\n",
    "    dim = I.ring().krull_dimension() - codim\n",
    "    return 3 + 2 * (3 - dim)"
   ]
  },
  {
   "cell_type": "code",
   "execution_count": 225,
   "metadata": {},
   "outputs": [],
   "source": [
    "a = P_monoms[0]"
   ]
  },
  {
   "cell_type": "code",
   "execution_count": 228,
   "metadata": {},
   "outputs": [
    {
     "data": {
      "text/plain": [
       "Multivariate Polynomial Ring in x_0, x_1, x_2, x_3, x_4, x_5, x_6 over Rational Field"
      ]
     },
     "execution_count": 228,
     "metadata": {},
     "output_type": "execute_result"
    }
   ],
   "source": [
    "a.parent()"
   ]
  },
  {
   "cell_type": "code",
   "execution_count": 121,
   "metadata": {},
   "outputs": [
    {
     "data": {
      "text/plain": [
       "[Ideal (x_0, x_5) of Multivariate Polynomial Ring in x_0, x_1, x_2, x_3, x_4, x_5, x_6 over Rational Field,\n",
       " Ideal (x_2, x_3) of Multivariate Polynomial Ring in x_0, x_1, x_2, x_3, x_4, x_5, x_6 over Rational Field,\n",
       " Ideal (x_1, x_4, x_6) of Multivariate Polynomial Ring in x_0, x_1, x_2, x_3, x_4, x_5, x_6 over Rational Field]"
      ]
     },
     "execution_count": 121,
     "metadata": {},
     "output_type": "execute_result"
    }
   ],
   "source": [
    "srideal"
   ]
  },
  {
   "cell_type": "code",
   "execution_count": 122,
   "metadata": {},
   "outputs": [
    {
     "data": {
      "text/plain": [
       "[Ideal (x_5, x_0) of Multivariate Polynomial Ring in x_0, x_1, x_2, x_3, x_4, x_5, x_6 over Rational Field,\n",
       " Ideal (x_1*x_3 - x_2*x_4) of Multivariate Polynomial Ring in x_0, x_1, x_2, x_3, x_4, x_5, x_6 over Rational Field]"
      ]
     },
     "execution_count": 122,
     "metadata": {},
     "output_type": "execute_result"
    }
   ],
   "source": [
    "fixed_loci"
   ]
  },
  {
   "cell_type": "code",
   "execution_count": 123,
   "metadata": {},
   "outputs": [
    {
     "data": {
      "text/plain": [
       "[{'OIDEAL': [x_1*x_3 - x_2*x_4], 'ODIM': 7}]"
      ]
     },
     "execution_count": 123,
     "metadata": {},
     "output_type": "execute_result"
    }
   ],
   "source": [
    "gens = [{'OIDEAL': x.gens(), 'ODIM': get_odim(x)} for x in fixed_loci if x not in srideal]\n",
    "gens"
   ]
  },
  {
   "cell_type": "code",
   "execution_count": 124,
   "metadata": {},
   "outputs": [
    {
     "data": {
      "text/plain": [
       "[{'OIDEAL': ['x2*x4-x3*x5'], 'ODIM': 7}]"
      ]
     },
     "execution_count": 124,
     "metadata": {},
     "output_type": "execute_result"
    }
   ],
   "source": [
    "ex['OPLANES']"
   ]
  },
  {
   "cell_type": "code",
   "execution_count": 44,
   "metadata": {},
   "outputs": [
    {
     "data": {
      "text/plain": [
       "[[1], [-1], [1, 1, 1]]"
      ]
     },
     "execution_count": 44,
     "metadata": {},
     "output_type": "execute_result"
    }
   ],
   "source": [
    "[[y / y.subs(dict(zip(X, X_invol))) for y in x['OIDEAL']] for x in gens]"
   ]
  },
  {
   "cell_type": "code",
   "execution_count": 82,
   "metadata": {},
   "outputs": [],
   "source": [
    "from sage.rings.finite_rings.integer_mod_ring import Integers\n",
    "S = Integers(2, is_field=True)[tuple(f'u_{i}' for i in range(k - n))]\n",
    "U = np.array(S.gens())"
   ]
  },
  {
   "cell_type": "code",
   "execution_count": 91,
   "metadata": {},
   "outputs": [],
   "source": [
    "a = S.ideal()\n",
    "terms = gens[1]['OIDEAL']\n",
    "for t in terms:\n",
    "    rhs = (1 - int(t / t.subs(dict(zip(X, X_invol))))) // 2\n",
    "    a += S.ideal((t.exponents()[0] @ rescws) @ U - rhs)"
   ]
  },
  {
   "cell_type": "code",
   "execution_count": 92,
   "metadata": {},
   "outputs": [
    {
     "data": {
      "text/plain": [
       "[u_1 + 1]"
      ]
     },
     "execution_count": 92,
     "metadata": {},
     "output_type": "execute_result"
    }
   ],
   "source": [
    "a.groebner_basis()"
   ]
  },
  {
   "cell_type": "code",
   "execution_count": null,
   "metadata": {},
   "outputs": [],
   "source": []
  },
  {
   "cell_type": "code",
   "execution_count": 23,
   "metadata": {},
   "outputs": [
    {
     "data": {
      "text/plain": [
       "6"
      ]
     },
     "execution_count": 23,
     "metadata": {},
     "output_type": "execute_result"
    }
   ],
   "source": [
    "6 ^ invol"
   ]
  },
  {
   "cell_type": "code",
   "execution_count": 20,
   "metadata": {},
   "outputs": [
    {
     "data": {
      "text/plain": [
       "(array([2, 1, 2]), array([2, 1, 2]))"
      ]
     },
     "execution_count": 20,
     "metadata": {},
     "output_type": "execute_result"
    }
   ],
   "source": [
    "[1, 2] @ rescws[[2, 4]], [1, 2] @ rescws[[3, 5]]"
   ]
  },
  {
   "cell_type": "code",
   "execution_count": 22,
   "metadata": {},
   "outputs": [
    {
     "data": {
      "text/plain": [
       "(array([2, 1, 2]), array([2, 1, 2]), array([1, 1, 1]), array([1, 1, 1]))"
      ]
     },
     "execution_count": 22,
     "metadata": {},
     "output_type": "execute_result"
    }
   ],
   "source": [
    "[1, 2] @ rescws[[2, 4]], [1, 2] @ rescws[[3, 5]], rescws[1], rescws[0]"
   ]
  },
  {
   "cell_type": "code",
   "execution_count": 205,
   "metadata": {},
   "outputs": [
    {
     "data": {
      "text/plain": [
       "array([x_4*x_5*x_6, x_3*x_5*x_6, x_2*x_5*x_6, x_1*x_5*x_6, x_0*x_5*x_6,\n",
       "       x_3*x_4*x_6, x_2*x_4*x_6, x_1*x_4*x_6, x_0*x_4*x_6, x_1*x_3*x_6,\n",
       "       x_0*x_3*x_6, x_1*x_2*x_6, x_0*x_2*x_6, x_0*x_1*x_6, x_3*x_4*x_5,\n",
       "       x_2*x_4*x_5, x_1*x_4*x_5, x_0*x_4*x_5, x_1*x_3*x_5, x_1*x_2*x_5,\n",
       "       x_0*x_1*x_5, x_0*x_3*x_4, x_0*x_2*x_4, x_0*x_1*x_4, x_0*x_1*x_3,\n",
       "       x_0*x_1*x_2], dtype=object)"
      ]
     },
     "execution_count": 205,
     "metadata": {},
     "output_type": "execute_result"
    }
   ],
   "source": [
    "np.unique([x for x in (X @ rescws).prod().monomials() if x.is_squarefree()])"
   ]
  },
  {
   "cell_type": "markdown",
   "metadata": {},
   "source": [
    "### Volume form"
   ]
  },
  {
   "cell_type": "code",
   "execution_count": 125,
   "metadata": {},
   "outputs": [
    {
     "data": {
      "text/plain": [
       "-1"
      ]
     },
     "execution_count": 125,
     "metadata": {},
     "output_type": "execute_result"
    }
   ],
   "source": [
    "from itertools import permutations\n",
    "from sympy.combinatorics.permutations import Permutation\n",
    "def complete_permutation(p, k):\n",
    "    return Permutation(p + tuple(i for i in range(k) if i not in p))\n",
    "vform = 0\n",
    "vform_invol = 0\n",
    "for p in permutations(range(k), k - n):\n",
    "    vform_sign = complete_permutation(p, k).signature()\n",
    "    vform_coeff = rescws[p, range(3)].prod()\n",
    "    vform_monom = X[list(p)].prod()\n",
    "    vform += vform_sign * vform_coeff * vform_monom\n",
    "    \n",
    "    p_invol = tuple(invol(i) for i in p)\n",
    "    vform_invol_sign = invol.signature() * complete_permutation(p_invol, k).signature()\n",
    "    vform_invol_coeff = rescws[p, range(3)].prod()\n",
    "    vform_invol_monom = X[list(p_invol)].prod()\n",
    "    vform_invol += vform_invol_sign * vform_invol_coeff * vform_invol_monom\n",
    "vform / vform_invol"
   ]
  },
  {
   "cell_type": "code",
   "execution_count": 126,
   "metadata": {},
   "outputs": [
    {
     "data": {
      "text/plain": [
       "-1"
      ]
     },
     "execution_count": 126,
     "metadata": {},
     "output_type": "execute_result"
    }
   ],
   "source": [
    "ex['VOLFORMPARITY']"
   ]
  },
  {
   "cell_type": "code",
   "execution_count": 55,
   "metadata": {},
   "outputs": [
    {
     "data": {
      "text/plain": [
       "[Ideal (-x_0*x_4*x_5 + x_1*x_4*x_5 + 2*x_0*x_2*x_6 - 2*x_1*x_2*x_6 + 2*x_0*x_3*x_6 - 2*x_1*x_3*x_6 + 4*x_2*x_3*x_6 - x_0*x_4*x_6 + x_1*x_4*x_6 - x_0*x_5*x_6 + x_1*x_5*x_6 - 2*x_4*x_5*x_6) of Multivariate Polynomial Ring in x_0, x_1, x_2, x_3, x_4, x_5, x_6 over Rational Field]"
      ]
     },
     "execution_count": 55,
     "metadata": {},
     "output_type": "execute_result"
    }
   ],
   "source": [
    "R.ideal(a.sum() - b.sum()).minimal_associated_primes()"
   ]
  },
  {
   "cell_type": "code",
   "execution_count": 30,
   "metadata": {},
   "outputs": [
    {
     "data": {
      "text/plain": [
       "8*x_0*x_3*x_6 + 8*x_1*x_3*x_6 + 6*x_0*x_4*x_6 - 4*x_1*x_4*x_6 - 4*x_2*x_4*x_6 + 4*x_0*x_5*x_6 - 6*x_1*x_5*x_6 - 4*x_2*x_5*x_6"
      ]
     },
     "execution_count": 30,
     "metadata": {},
     "output_type": "execute_result"
    }
   ],
   "source": [
    "a.sum() + b.sum()"
   ]
  },
  {
   "cell_type": "code",
   "execution_count": 28,
   "metadata": {},
   "outputs": [
    {
     "data": {
      "text/plain": [
       "[Ideal (x_0, x_5) of Multivariate Polynomial Ring in x_0, x_1, x_2, x_3, x_4, x_5, x_6 over Rational Field,\n",
       " Ideal (x_2, x_3) of Multivariate Polynomial Ring in x_0, x_1, x_2, x_3, x_4, x_5, x_6 over Rational Field,\n",
       " Ideal (x_1, x_4, x_6) of Multivariate Polynomial Ring in x_0, x_1, x_2, x_3, x_4, x_5, x_6 over Rational Field]"
      ]
     },
     "execution_count": 28,
     "metadata": {},
     "output_type": "execute_result"
    }
   ],
   "source": [
    "srideal"
   ]
  },
  {
   "cell_type": "code",
   "execution_count": 23,
   "metadata": {},
   "outputs": [
    {
     "data": {
      "text/plain": [
       "0"
      ]
     },
     "execution_count": 23,
     "metadata": {},
     "output_type": "execute_result"
    }
   ],
   "source": [
    "ex['VOLFORMPARITY']"
   ]
  },
  {
   "cell_type": "code",
   "execution_count": 214,
   "metadata": {},
   "outputs": [
    {
     "data": {
      "text/plain": [
       "1"
      ]
     },
     "execution_count": 214,
     "metadata": {},
     "output_type": "execute_result"
    }
   ],
   "source": [
    "Permutation((0,1,2) + tuple(i for i in range(k) if i not in (0,1,2))).signature()"
   ]
  },
  {
   "cell_type": "code",
   "execution_count": 216,
   "metadata": {},
   "outputs": [
    {
     "data": {
      "text/plain": [
       "0"
      ]
     },
     "execution_count": 216,
     "metadata": {},
     "output_type": "execute_result"
    }
   ],
   "source": [
    "rescws[(0,1,2), range(3)].prod()"
   ]
  },
  {
   "cell_type": "code",
   "execution_count": 213,
   "metadata": {},
   "outputs": [
    {
     "data": {
      "text/plain": [
       "(-x_0*x_1*x_2 + 2*x_0*x_1*x_3 - x_0*x_1*x_4 - x_0*x_2*x_4 + 2*x_0*x_3*x_4 + x_0*x_1*x_5 + x_1*x_2*x_5 - 2*x_1*x_3*x_5 - x_0*x_4*x_5 + x_1*x_4*x_5 + x_2*x_4*x_5 - 2*x_3*x_4*x_5 - 5*x_0*x_1*x_6 - 2*x_0*x_2*x_6 - 2*x_1*x_2*x_6 + 4*x_0*x_3*x_6 + 4*x_1*x_3*x_6 + 3*x_0*x_4*x_6 - 2*x_1*x_4*x_6 - 2*x_2*x_4*x_6 + 4*x_3*x_4*x_6 + 2*x_0*x_5*x_6 - 3*x_1*x_5*x_6 - 2*x_2*x_5*x_6 + 4*x_3*x_5*x_6 + x_4*x_5*x_6)/(-x_0*x_1*x_2 + x_0*x_1*x_3 + x_1*x_2*x_3 - x_0*x_2*x_4 - x_1*x_2*x_4 + x_0*x_3*x_4 + x_1*x_3*x_4 - x_2*x_3*x_4 + 2*x_1*x_2*x_5 - 2*x_1*x_3*x_5 + 2*x_2*x_4*x_5 - 2*x_3*x_4*x_5 - 2*x_0*x_1*x_6 - 2*x_0*x_2*x_6 - 5*x_1*x_2*x_6 - 2*x_0*x_3*x_6 - 3*x_1*x_3*x_6 + 2*x_2*x_3*x_6 - 2*x_0*x_4*x_6 - 2*x_1*x_4*x_6 + 3*x_2*x_4*x_6 + x_3*x_4*x_6 + 4*x_1*x_5*x_6 + 4*x_2*x_5*x_6 + 4*x_3*x_5*x_6 + 4*x_4*x_5*x_6)"
      ]
     },
     "execution_count": 213,
     "metadata": {},
     "output_type": "execute_result"
    }
   ],
   "source": [
    "a.sum() / a.sum().subs(X_sub)"
   ]
  },
  {
   "cell_type": "code",
   "execution_count": 210,
   "metadata": {},
   "outputs": [
    {
     "data": {
      "text/plain": [
       "array([0, -x_0*x_1*x_3 + x_1*x_2*x_5, 2*x_0*x_1*x_6 - 2*x_1*x_2*x_6, 0,\n",
       "       -x_0*x_3*x_4 + x_2*x_4*x_5, 2*x_0*x_4*x_6 - 2*x_2*x_4*x_6, 0,\n",
       "       2*x_0*x_3*x_6 - 2*x_2*x_5*x_6, 2*x_0*x_1*x_3 - 2*x_1*x_2*x_5, 0,\n",
       "       4*x_1*x_3*x_6 - 4*x_1*x_5*x_6, 2*x_0*x_3*x_4 - 2*x_2*x_4*x_5, 0,\n",
       "       4*x_3*x_4*x_6 - 4*x_4*x_5*x_6, 4*x_0*x_3*x_6 - 4*x_2*x_5*x_6, 0,\n",
       "       -x_0*x_1*x_4 + x_1*x_2*x_4, -x_1*x_3*x_4 + x_1*x_4*x_5, 0,\n",
       "       -2*x_0*x_4*x_6 + 2*x_2*x_4*x_6, 2*x_3*x_4*x_6 - 2*x_4*x_5*x_6,\n",
       "       -x_1*x_2*x_3 + x_0*x_1*x_5, -2*x_1*x_3*x_6 + 2*x_1*x_5*x_6,\n",
       "       x_2*x_3*x_4 - x_0*x_4*x_5, 2*x_3*x_4*x_6 - 2*x_4*x_5*x_6,\n",
       "       -2*x_2*x_3*x_6 + 2*x_0*x_5*x_6, -5*x_0*x_1*x_6 + 5*x_1*x_2*x_6,\n",
       "       5*x_1*x_3*x_6 - 5*x_1*x_5*x_6, 5*x_0*x_4*x_6 - 5*x_2*x_4*x_6,\n",
       "       -5*x_3*x_4*x_6 + 5*x_4*x_5*x_6], dtype=object)"
      ]
     },
     "execution_count": 210,
     "metadata": {},
     "output_type": "execute_result"
    }
   ],
   "source": [
    "np.vectorize(lambda x: x - x.subs(X_sub))(a)"
   ]
  },
  {
   "cell_type": "code",
   "execution_count": 190,
   "metadata": {},
   "outputs": [
    {
     "data": {
      "text/plain": [
       "array([1, 1, 0])"
      ]
     },
     "execution_count": 190,
     "metadata": {},
     "output_type": "execute_result"
    }
   ],
   "source": [
    "rescws[(4,1,2), (0,1,2)]"
   ]
  },
  {
   "cell_type": "code",
   "execution_count": 193,
   "metadata": {},
   "outputs": [
    {
     "data": {
      "text/plain": [
       "0"
      ]
     },
     "execution_count": 193,
     "metadata": {},
     "output_type": "execute_result"
    }
   ],
   "source": [
    "rescws[2,2]"
   ]
  },
  {
   "cell_type": "code",
   "execution_count": 175,
   "metadata": {},
   "outputs": [
    {
     "data": {
      "text/plain": [
       "[((0, 1, 2), 1),\n",
       " ((0, 1, 3), -1),\n",
       " ((0, 1, 4), 1),\n",
       " ((0, 1, 5), -1),\n",
       " ((0, 1, 6), 1),\n",
       " ((0, 2, 1), -1),\n",
       " ((0, 2, 3), 1),\n",
       " ((0, 2, 4), -1),\n",
       " ((0, 2, 5), 1),\n",
       " ((0, 2, 6), -1),\n",
       " ((0, 3, 1), 1),\n",
       " ((0, 3, 2), -1),\n",
       " ((0, 3, 4), 1),\n",
       " ((0, 3, 5), -1),\n",
       " ((0, 3, 6), 1),\n",
       " ((0, 4, 1), -1),\n",
       " ((0, 4, 2), 1),\n",
       " ((0, 4, 3), -1),\n",
       " ((0, 4, 5), 1),\n",
       " ((0, 4, 6), -1),\n",
       " ((0, 5, 1), 1),\n",
       " ((0, 5, 2), -1),\n",
       " ((0, 5, 3), 1),\n",
       " ((0, 5, 4), -1),\n",
       " ((0, 5, 6), 1),\n",
       " ((0, 6, 1), -1),\n",
       " ((0, 6, 2), 1),\n",
       " ((0, 6, 3), -1),\n",
       " ((0, 6, 4), 1),\n",
       " ((0, 6, 5), -1),\n",
       " ((1, 0, 2), -1),\n",
       " ((1, 0, 3), 1),\n",
       " ((1, 0, 4), -1),\n",
       " ((1, 0, 5), 1),\n",
       " ((1, 0, 6), -1),\n",
       " ((1, 2, 0), 1),\n",
       " ((1, 2, 3), -1),\n",
       " ((1, 2, 4), 1),\n",
       " ((1, 2, 5), -1),\n",
       " ((1, 2, 6), 1),\n",
       " ((1, 3, 0), -1),\n",
       " ((1, 3, 2), 1),\n",
       " ((1, 3, 4), -1),\n",
       " ((1, 3, 5), 1),\n",
       " ((1, 3, 6), -1),\n",
       " ((1, 4, 0), 1),\n",
       " ((1, 4, 2), -1),\n",
       " ((1, 4, 3), 1),\n",
       " ((1, 4, 5), -1),\n",
       " ((1, 4, 6), 1),\n",
       " ((1, 5, 0), -1),\n",
       " ((1, 5, 2), 1),\n",
       " ((1, 5, 3), -1),\n",
       " ((1, 5, 4), 1),\n",
       " ((1, 5, 6), -1),\n",
       " ((1, 6, 0), 1),\n",
       " ((1, 6, 2), -1),\n",
       " ((1, 6, 3), 1),\n",
       " ((1, 6, 4), -1),\n",
       " ((1, 6, 5), 1),\n",
       " ((2, 0, 1), 1),\n",
       " ((2, 0, 3), -1),\n",
       " ((2, 0, 4), 1),\n",
       " ((2, 0, 5), -1),\n",
       " ((2, 0, 6), 1),\n",
       " ((2, 1, 0), -1),\n",
       " ((2, 1, 3), 1),\n",
       " ((2, 1, 4), -1),\n",
       " ((2, 1, 5), 1),\n",
       " ((2, 1, 6), -1),\n",
       " ((2, 3, 0), 1),\n",
       " ((2, 3, 1), -1),\n",
       " ((2, 3, 4), 1),\n",
       " ((2, 3, 5), -1),\n",
       " ((2, 3, 6), 1),\n",
       " ((2, 4, 0), -1),\n",
       " ((2, 4, 1), 1),\n",
       " ((2, 4, 3), -1),\n",
       " ((2, 4, 5), 1),\n",
       " ((2, 4, 6), -1),\n",
       " ((2, 5, 0), 1),\n",
       " ((2, 5, 1), -1),\n",
       " ((2, 5, 3), 1),\n",
       " ((2, 5, 4), -1),\n",
       " ((2, 5, 6), 1),\n",
       " ((2, 6, 0), -1),\n",
       " ((2, 6, 1), 1),\n",
       " ((2, 6, 3), -1),\n",
       " ((2, 6, 4), 1),\n",
       " ((2, 6, 5), -1),\n",
       " ((3, 0, 1), -1),\n",
       " ((3, 0, 2), 1),\n",
       " ((3, 0, 4), -1),\n",
       " ((3, 0, 5), 1),\n",
       " ((3, 0, 6), -1),\n",
       " ((3, 1, 0), 1),\n",
       " ((3, 1, 2), -1),\n",
       " ((3, 1, 4), 1),\n",
       " ((3, 1, 5), -1),\n",
       " ((3, 1, 6), 1),\n",
       " ((3, 2, 0), -1),\n",
       " ((3, 2, 1), 1),\n",
       " ((3, 2, 4), -1),\n",
       " ((3, 2, 5), 1),\n",
       " ((3, 2, 6), -1),\n",
       " ((3, 4, 0), 1),\n",
       " ((3, 4, 1), -1),\n",
       " ((3, 4, 2), 1),\n",
       " ((3, 4, 5), -1),\n",
       " ((3, 4, 6), 1),\n",
       " ((3, 5, 0), -1),\n",
       " ((3, 5, 1), 1),\n",
       " ((3, 5, 2), -1),\n",
       " ((3, 5, 4), 1),\n",
       " ((3, 5, 6), -1),\n",
       " ((3, 6, 0), 1),\n",
       " ((3, 6, 1), -1),\n",
       " ((3, 6, 2), 1),\n",
       " ((3, 6, 4), -1),\n",
       " ((3, 6, 5), 1),\n",
       " ((4, 0, 1), 1),\n",
       " ((4, 0, 2), -1),\n",
       " ((4, 0, 3), 1),\n",
       " ((4, 0, 5), -1),\n",
       " ((4, 0, 6), 1),\n",
       " ((4, 1, 0), -1),\n",
       " ((4, 1, 2), 1),\n",
       " ((4, 1, 3), -1),\n",
       " ((4, 1, 5), 1),\n",
       " ((4, 1, 6), -1),\n",
       " ((4, 2, 0), 1),\n",
       " ((4, 2, 1), -1),\n",
       " ((4, 2, 3), 1),\n",
       " ((4, 2, 5), -1),\n",
       " ((4, 2, 6), 1),\n",
       " ((4, 3, 0), -1),\n",
       " ((4, 3, 1), 1),\n",
       " ((4, 3, 2), -1),\n",
       " ((4, 3, 5), 1),\n",
       " ((4, 3, 6), -1),\n",
       " ((4, 5, 0), 1),\n",
       " ((4, 5, 1), -1),\n",
       " ((4, 5, 2), 1),\n",
       " ((4, 5, 3), -1),\n",
       " ((4, 5, 6), 1),\n",
       " ((4, 6, 0), -1),\n",
       " ((4, 6, 1), 1),\n",
       " ((4, 6, 2), -1),\n",
       " ((4, 6, 3), 1),\n",
       " ((4, 6, 5), -1),\n",
       " ((5, 0, 1), -1),\n",
       " ((5, 0, 2), 1),\n",
       " ((5, 0, 3), -1),\n",
       " ((5, 0, 4), 1),\n",
       " ((5, 0, 6), -1),\n",
       " ((5, 1, 0), 1),\n",
       " ((5, 1, 2), -1),\n",
       " ((5, 1, 3), 1),\n",
       " ((5, 1, 4), -1),\n",
       " ((5, 1, 6), 1),\n",
       " ((5, 2, 0), -1),\n",
       " ((5, 2, 1), 1),\n",
       " ((5, 2, 3), -1),\n",
       " ((5, 2, 4), 1),\n",
       " ((5, 2, 6), -1),\n",
       " ((5, 3, 0), 1),\n",
       " ((5, 3, 1), -1),\n",
       " ((5, 3, 2), 1),\n",
       " ((5, 3, 4), -1),\n",
       " ((5, 3, 6), 1),\n",
       " ((5, 4, 0), -1),\n",
       " ((5, 4, 1), 1),\n",
       " ((5, 4, 2), -1),\n",
       " ((5, 4, 3), 1),\n",
       " ((5, 4, 6), -1),\n",
       " ((5, 6, 0), 1),\n",
       " ((5, 6, 1), -1),\n",
       " ((5, 6, 2), 1),\n",
       " ((5, 6, 3), -1),\n",
       " ((5, 6, 4), 1),\n",
       " ((6, 0, 1), 1),\n",
       " ((6, 0, 2), -1),\n",
       " ((6, 0, 3), 1),\n",
       " ((6, 0, 4), -1),\n",
       " ((6, 0, 5), 1),\n",
       " ((6, 1, 0), -1),\n",
       " ((6, 1, 2), 1),\n",
       " ((6, 1, 3), -1),\n",
       " ((6, 1, 4), 1),\n",
       " ((6, 1, 5), -1),\n",
       " ((6, 2, 0), 1),\n",
       " ((6, 2, 1), -1),\n",
       " ((6, 2, 3), 1),\n",
       " ((6, 2, 4), -1),\n",
       " ((6, 2, 5), 1),\n",
       " ((6, 3, 0), -1),\n",
       " ((6, 3, 1), 1),\n",
       " ((6, 3, 2), -1),\n",
       " ((6, 3, 4), 1),\n",
       " ((6, 3, 5), -1),\n",
       " ((6, 4, 0), 1),\n",
       " ((6, 4, 1), -1),\n",
       " ((6, 4, 2), 1),\n",
       " ((6, 4, 3), -1),\n",
       " ((6, 4, 5), 1),\n",
       " ((6, 5, 0), -1),\n",
       " ((6, 5, 1), 1),\n",
       " ((6, 5, 2), -1),\n",
       " ((6, 5, 3), 1),\n",
       " ((6, 5, 4), -1)]"
      ]
     },
     "execution_count": 175,
     "metadata": {},
     "output_type": "execute_result"
    }
   ],
   "source": [
    "a"
   ]
  },
  {
   "cell_type": "code",
   "execution_count": 161,
   "metadata": {},
   "outputs": [
    {
     "data": {
      "text/plain": [
       "array([0, 1, 3, 3, 4, 5, 6])"
      ]
     },
     "execution_count": 161,
     "metadata": {},
     "output_type": "execute_result"
    }
   ],
   "source": [
    "b"
   ]
  },
  {
   "cell_type": "code",
   "execution_count": null,
   "metadata": {},
   "outputs": [],
   "source": []
  },
  {
   "cell_type": "code",
   "execution_count": 247,
   "metadata": {},
   "outputs": [],
   "source": [
    "a = np.array(list(product(*(X @ rescws))))"
   ]
  },
  {
   "cell_type": "code",
   "execution_count": 265,
   "metadata": {},
   "outputs": [
    {
     "data": {
      "text/latex": [
       "$\\displaystyle \\left( 0\\; 3\\right)$"
      ],
      "text/plain": [
       "Permutation(0, 3)"
      ]
     },
     "execution_count": 265,
     "metadata": {},
     "output_type": "execute_result"
    }
   ],
   "source": [
    "Permutation([3,1,2, 0])"
   ]
  },
  {
   "cell_type": "code",
   "execution_count": 263,
   "metadata": {},
   "outputs": [
    {
     "data": {
      "text/plain": [
       "array([x_0 + x_1 + 2*x_3 + x_4 + x_6, x_0 + x_1 + x_2 + x_3 + 2*x_6,\n",
       "       x_0 + x_1 + 2*x_2 + x_5 + x_6], dtype=object)"
      ]
     },
     "execution_count": 263,
     "metadata": {},
     "output_type": "execute_result"
    }
   ],
   "source": [
    "X @ rescws"
   ]
  },
  {
   "cell_type": "code",
   "execution_count": 251,
   "metadata": {},
   "outputs": [],
   "source": [
    "a = np.stack([x for x in a if x[:, 1].prod().is_squarefree()])"
   ]
  },
  {
   "cell_type": "code",
   "execution_count": 133,
   "metadata": {},
   "outputs": [],
   "source": [
    "\n",
    "a = sum(a.monomial_coefficient(x) * x for x in a.monomials() if x.is_squarefree())\n",
    "\n",
    "b = (X_invol @ rescws).prod()\n",
    "b = sum(b.monomial_coefficient(x) * x for x in b.monomials() if x.is_squarefree())"
   ]
  },
  {
   "cell_type": "code",
   "execution_count": 266,
   "metadata": {},
   "outputs": [],
   "source": [
    "from sympy.combinatorics.generators import cyclic"
   ]
  },
  {
   "cell_type": "code",
   "execution_count": 269,
   "metadata": {},
   "outputs": [
    {
     "data": {
      "text/plain": [
       "[[3, 4, 5, 6],\n",
       " [4, 5, 6, 0],\n",
       " [5, 6, 0, 1],\n",
       " [6, 0, 1, 2],\n",
       " [0, 1, 2, 3],\n",
       " [1, 2, 3, 4],\n",
       " [2, 3, 4, 5]]"
      ]
     },
     "execution_count": 269,
     "metadata": {},
     "output_type": "execute_result"
    }
   ],
   "source": [
    "[x.array_form[k - n:] for x in cyclic(k)]"
   ]
  },
  {
   "cell_type": "code",
   "execution_count": 164,
   "metadata": {},
   "outputs": [
    {
     "data": {
      "text/plain": [
       "array([x_0 + x_1 + 2*x_3 + x_4 + x_6, x_0 + x_1 + x_2 + x_3 + 2*x_6,\n",
       "       x_0 + x_1 + 2*x_2 + x_5 + x_6], dtype=object)"
      ]
     },
     "execution_count": 164,
     "metadata": {},
     "output_type": "execute_result"
    }
   ],
   "source": [
    "X @ rescws"
   ]
  },
  {
   "cell_type": "code",
   "execution_count": 234,
   "metadata": {},
   "outputs": [
    {
     "data": {
      "text/latex": [
       "$\\displaystyle \\left( 0\\; 1\\right)\\left( 2\\; 3\\right)$"
      ],
      "text/plain": [
       "Permutation(0, 1)(2, 3)"
      ]
     },
     "execution_count": 234,
     "metadata": {},
     "output_type": "execute_result"
    }
   ],
   "source": [
    "Permutation([[0,1],[2,3]])"
   ]
  },
  {
   "cell_type": "code",
   "execution_count": 232,
   "metadata": {},
   "outputs": [],
   "source": [
    "from itertools import permutations\n",
    "a = list(permutations(range(k), k - n))"
   ]
  },
  {
   "cell_type": "code",
   "execution_count": 175,
   "metadata": {},
   "outputs": [],
   "source": [
    "from itertools import product\n",
    "a = np.array(list(product(*(X @ rescws))))"
   ]
  },
  {
   "cell_type": "code",
   "execution_count": 235,
   "metadata": {},
   "outputs": [],
   "source": [
    "from sage.modules.free_module import FreeModule\n",
    "A = FreeModule(R, k)"
   ]
  },
  {
   "cell_type": "code",
   "execution_count": null,
   "metadata": {},
   "outputs": [],
   "source": [
    "A."
   ]
  },
  {
   "cell_type": "code",
   "execution_count": 184,
   "metadata": {},
   "outputs": [
    {
     "data": {
      "text/plain": [
       "(125, 3, 2)"
      ]
     },
     "execution_count": 184,
     "metadata": {},
     "output_type": "execute_result"
    }
   ],
   "source": [
    "a.shape"
   ]
  },
  {
   "cell_type": "code",
   "execution_count": 185,
   "metadata": {},
   "outputs": [
    {
     "data": {
      "text/plain": [
       "array([x_0^3, x_0^2*x_1, x_0^2*x_2, x_0^2*x_5, x_0^2*x_6, x_0^2*x_1,\n",
       "       x_0*x_1^2, x_0*x_1*x_2, x_0*x_1*x_5, x_0*x_1*x_6, x_0^2*x_2,\n",
       "       x_0*x_1*x_2, x_0*x_2^2, x_0*x_2*x_5, x_0*x_2*x_6, x_0^2*x_3,\n",
       "       x_0*x_1*x_3, x_0*x_2*x_3, x_0*x_3*x_5, x_0*x_3*x_6, x_0^2*x_6,\n",
       "       x_0*x_1*x_6, x_0*x_2*x_6, x_0*x_5*x_6, x_0*x_6^2, x_0^2*x_1,\n",
       "       x_0*x_1^2, x_0*x_1*x_2, x_0*x_1*x_5, x_0*x_1*x_6, x_0*x_1^2, x_1^3,\n",
       "       x_1^2*x_2, x_1^2*x_5, x_1^2*x_6, x_0*x_1*x_2, x_1^2*x_2, x_1*x_2^2,\n",
       "       x_1*x_2*x_5, x_1*x_2*x_6, x_0*x_1*x_3, x_1^2*x_3, x_1*x_2*x_3,\n",
       "       x_1*x_3*x_5, x_1*x_3*x_6, x_0*x_1*x_6, x_1^2*x_6, x_1*x_2*x_6,\n",
       "       x_1*x_5*x_6, x_1*x_6^2, x_0^2*x_3, x_0*x_1*x_3, x_0*x_2*x_3,\n",
       "       x_0*x_3*x_5, x_0*x_3*x_6, x_0*x_1*x_3, x_1^2*x_3, x_1*x_2*x_3,\n",
       "       x_1*x_3*x_5, x_1*x_3*x_6, x_0*x_2*x_3, x_1*x_2*x_3, x_2^2*x_3,\n",
       "       x_2*x_3*x_5, x_2*x_3*x_6, x_0*x_3^2, x_1*x_3^2, x_2*x_3^2,\n",
       "       x_3^2*x_5, x_3^2*x_6, x_0*x_3*x_6, x_1*x_3*x_6, x_2*x_3*x_6,\n",
       "       x_3*x_5*x_6, x_3*x_6^2, x_0^2*x_4, x_0*x_1*x_4, x_0*x_2*x_4,\n",
       "       x_0*x_4*x_5, x_0*x_4*x_6, x_0*x_1*x_4, x_1^2*x_4, x_1*x_2*x_4,\n",
       "       x_1*x_4*x_5, x_1*x_4*x_6, x_0*x_2*x_4, x_1*x_2*x_4, x_2^2*x_4,\n",
       "       x_2*x_4*x_5, x_2*x_4*x_6, x_0*x_3*x_4, x_1*x_3*x_4, x_2*x_3*x_4,\n",
       "       x_3*x_4*x_5, x_3*x_4*x_6, x_0*x_4*x_6, x_1*x_4*x_6, x_2*x_4*x_6,\n",
       "       x_4*x_5*x_6, x_4*x_6^2, x_0^2*x_6, x_0*x_1*x_6, x_0*x_2*x_6,\n",
       "       x_0*x_5*x_6, x_0*x_6^2, x_0*x_1*x_6, x_1^2*x_6, x_1*x_2*x_6,\n",
       "       x_1*x_5*x_6, x_1*x_6^2, x_0*x_2*x_6, x_1*x_2*x_6, x_2^2*x_6,\n",
       "       x_2*x_5*x_6, x_2*x_6^2, x_0*x_3*x_6, x_1*x_3*x_6, x_2*x_3*x_6,\n",
       "       x_3*x_5*x_6, x_3*x_6^2, x_0*x_6^2, x_1*x_6^2, x_2*x_6^2, x_5*x_6^2,\n",
       "       x_6^3], dtype=object)"
      ]
     },
     "execution_count": 185,
     "metadata": {},
     "output_type": "execute_result"
    }
   ],
   "source": [
    "a[:, :, 1].prod(axis=1)#.is_squarefree()"
   ]
  },
  {
   "cell_type": "code",
   "execution_count": 142,
   "metadata": {},
   "outputs": [],
   "source": [
    "q = (X @ rescws).prod()\n",
    "q_monoms = [x for x in q.monomials() if x.is_squarefree()]"
   ]
  },
  {
   "cell_type": "code",
   "execution_count": 159,
   "metadata": {},
   "outputs": [
    {
     "ename": "ValueError",
     "evalue": "All elements must be unique in a cycle.",
     "output_type": "error",
     "traceback": [
      "\u001b[0;31m---------------------------------------------------------------------------\u001b[0m",
      "\u001b[0;31mValueError\u001b[0m                                Traceback (most recent call last)",
      "\u001b[0;32m<ipython-input-159-5abc69d8d61f>\u001b[0m in \u001b[0;36m<module>\u001b[0;34m\u001b[0m\n\u001b[0;32m----> 1\u001b[0;31m \u001b[0mPermutation\u001b[0m\u001b[0;34m(\u001b[0m\u001b[0mnp\u001b[0m\u001b[0;34m.\u001b[0m\u001b[0marange\u001b[0m\u001b[0;34m(\u001b[0m\u001b[0mk\u001b[0m\u001b[0;34m)\u001b[0m \u001b[0;34m*\u001b[0m \u001b[0;34m(\u001b[0m\u001b[0;36m1\u001b[0m \u001b[0;34m-\u001b[0m \u001b[0mnp\u001b[0m\u001b[0;34m.\u001b[0m\u001b[0marray\u001b[0m\u001b[0;34m(\u001b[0m\u001b[0mq_monoms\u001b[0m\u001b[0;34m[\u001b[0m\u001b[0;36m0\u001b[0m\u001b[0;34m]\u001b[0m\u001b[0;34m.\u001b[0m\u001b[0mexponents\u001b[0m\u001b[0;34m(\u001b[0m\u001b[0;34m)\u001b[0m\u001b[0;34m)\u001b[0m\u001b[0;34m)\u001b[0m\u001b[0;34m)\u001b[0m\u001b[0;34m\u001b[0m\u001b[0;34m\u001b[0m\u001b[0m\n\u001b[0m",
      "\u001b[0;32m/var/tmp/sage-jc4b6yulaujayb9sr94ia88eourzeqip0oidmas3/local/lib/python3.8/site-packages/sympy/combinatorics/permutations.py\u001b[0m in \u001b[0;36m__new__\u001b[0;34m(cls, *args, **kwargs)\u001b[0m\n\u001b[1;32m    941\u001b[0m             \u001b[0mc\u001b[0m \u001b[0;34m=\u001b[0m \u001b[0mCycle\u001b[0m\u001b[0;34m(\u001b[0m\u001b[0;34m)\u001b[0m\u001b[0;34m\u001b[0m\u001b[0;34m\u001b[0m\u001b[0m\n\u001b[1;32m    942\u001b[0m             \u001b[0;32mfor\u001b[0m \u001b[0mci\u001b[0m \u001b[0;32min\u001b[0m \u001b[0margs\u001b[0m\u001b[0;34m:\u001b[0m\u001b[0;34m\u001b[0m\u001b[0;34m\u001b[0m\u001b[0m\n\u001b[0;32m--> 943\u001b[0;31m                 \u001b[0mc\u001b[0m \u001b[0;34m=\u001b[0m \u001b[0mc\u001b[0m\u001b[0;34m(\u001b[0m\u001b[0;34m*\u001b[0m\u001b[0mci\u001b[0m\u001b[0;34m)\u001b[0m\u001b[0;34m\u001b[0m\u001b[0;34m\u001b[0m\u001b[0m\n\u001b[0m\u001b[1;32m    944\u001b[0m             \u001b[0maform\u001b[0m \u001b[0;34m=\u001b[0m \u001b[0mc\u001b[0m\u001b[0;34m.\u001b[0m\u001b[0mlist\u001b[0m\u001b[0;34m(\u001b[0m\u001b[0;34m)\u001b[0m\u001b[0;34m\u001b[0m\u001b[0;34m\u001b[0m\u001b[0m\n\u001b[1;32m    945\u001b[0m         \u001b[0;32melse\u001b[0m\u001b[0;34m:\u001b[0m\u001b[0;34m\u001b[0m\u001b[0;34m\u001b[0m\u001b[0m\n",
      "\u001b[0;32m/var/tmp/sage-jc4b6yulaujayb9sr94ia88eourzeqip0oidmas3/local/lib/python3.8/site-packages/sympy/combinatorics/permutations.py\u001b[0m in \u001b[0;36m__call__\u001b[0;34m(self, *other)\u001b[0m\n\u001b[1;32m    339\u001b[0m \u001b[0;34m\u001b[0m\u001b[0m\n\u001b[1;32m    340\u001b[0m         \"\"\"\n\u001b[0;32m--> 341\u001b[0;31m         \u001b[0mrv\u001b[0m \u001b[0;34m=\u001b[0m \u001b[0mCycle\u001b[0m\u001b[0;34m(\u001b[0m\u001b[0;34m*\u001b[0m\u001b[0mother\u001b[0m\u001b[0;34m)\u001b[0m\u001b[0;34m\u001b[0m\u001b[0;34m\u001b[0m\u001b[0m\n\u001b[0m\u001b[1;32m    342\u001b[0m         \u001b[0;32mfor\u001b[0m \u001b[0mk\u001b[0m\u001b[0;34m,\u001b[0m \u001b[0mv\u001b[0m \u001b[0;32min\u001b[0m \u001b[0mzip\u001b[0m\u001b[0;34m(\u001b[0m\u001b[0mlist\u001b[0m\u001b[0;34m(\u001b[0m\u001b[0mself\u001b[0m\u001b[0;34m.\u001b[0m\u001b[0mkeys\u001b[0m\u001b[0;34m(\u001b[0m\u001b[0;34m)\u001b[0m\u001b[0;34m)\u001b[0m\u001b[0;34m,\u001b[0m \u001b[0;34m[\u001b[0m\u001b[0mrv\u001b[0m\u001b[0;34m[\u001b[0m\u001b[0mself\u001b[0m\u001b[0;34m[\u001b[0m\u001b[0mk\u001b[0m\u001b[0;34m]\u001b[0m\u001b[0;34m]\u001b[0m \u001b[0;32mfor\u001b[0m \u001b[0mk\u001b[0m \u001b[0;32min\u001b[0m \u001b[0mself\u001b[0m\u001b[0;34m.\u001b[0m\u001b[0mkeys\u001b[0m\u001b[0;34m(\u001b[0m\u001b[0;34m)\u001b[0m\u001b[0;34m]\u001b[0m\u001b[0;34m)\u001b[0m\u001b[0;34m:\u001b[0m\u001b[0;34m\u001b[0m\u001b[0;34m\u001b[0m\u001b[0m\n\u001b[1;32m    343\u001b[0m             \u001b[0mrv\u001b[0m\u001b[0;34m[\u001b[0m\u001b[0mk\u001b[0m\u001b[0;34m]\u001b[0m \u001b[0;34m=\u001b[0m \u001b[0mv\u001b[0m\u001b[0;34m\u001b[0m\u001b[0;34m\u001b[0m\u001b[0m\n",
      "\u001b[0;32m/var/tmp/sage-jc4b6yulaujayb9sr94ia88eourzeqip0oidmas3/local/lib/python3.8/site-packages/sympy/combinatorics/permutations.py\u001b[0m in \u001b[0;36m__init__\u001b[0;34m(self, *args)\u001b[0m\n\u001b[1;32m    450\u001b[0m             \u001b[0;32mraise\u001b[0m \u001b[0mValueError\u001b[0m\u001b[0;34m(\u001b[0m\u001b[0;34m'negative integers are not allowed in a cycle.'\u001b[0m\u001b[0;34m)\u001b[0m\u001b[0;34m\u001b[0m\u001b[0;34m\u001b[0m\u001b[0m\n\u001b[1;32m    451\u001b[0m         \u001b[0;32mif\u001b[0m \u001b[0mhas_dups\u001b[0m\u001b[0;34m(\u001b[0m\u001b[0margs\u001b[0m\u001b[0;34m)\u001b[0m\u001b[0;34m:\u001b[0m\u001b[0;34m\u001b[0m\u001b[0;34m\u001b[0m\u001b[0m\n\u001b[0;32m--> 452\u001b[0;31m             \u001b[0;32mraise\u001b[0m \u001b[0mValueError\u001b[0m\u001b[0;34m(\u001b[0m\u001b[0;34m'All elements must be unique in a cycle.'\u001b[0m\u001b[0;34m)\u001b[0m\u001b[0;34m\u001b[0m\u001b[0;34m\u001b[0m\u001b[0m\n\u001b[0m\u001b[1;32m    453\u001b[0m         \u001b[0;32mfor\u001b[0m \u001b[0mi\u001b[0m \u001b[0;32min\u001b[0m \u001b[0mrange\u001b[0m\u001b[0;34m(\u001b[0m\u001b[0;34m-\u001b[0m\u001b[0mlen\u001b[0m\u001b[0;34m(\u001b[0m\u001b[0margs\u001b[0m\u001b[0;34m)\u001b[0m\u001b[0;34m,\u001b[0m \u001b[0;36m0\u001b[0m\u001b[0;34m)\u001b[0m\u001b[0;34m:\u001b[0m\u001b[0;34m\u001b[0m\u001b[0;34m\u001b[0m\u001b[0m\n\u001b[1;32m    454\u001b[0m             \u001b[0mself\u001b[0m\u001b[0;34m[\u001b[0m\u001b[0margs\u001b[0m\u001b[0;34m[\u001b[0m\u001b[0mi\u001b[0m\u001b[0;34m]\u001b[0m\u001b[0;34m]\u001b[0m \u001b[0;34m=\u001b[0m \u001b[0margs\u001b[0m\u001b[0;34m[\u001b[0m\u001b[0mi\u001b[0m \u001b[0;34m+\u001b[0m \u001b[0;36m1\u001b[0m\u001b[0;34m]\u001b[0m\u001b[0;34m\u001b[0m\u001b[0;34m\u001b[0m\u001b[0m\n",
      "\u001b[0;31mValueError\u001b[0m: All elements must be unique in a cycle."
     ]
    }
   ],
   "source": [
    "Permutationnp.arange(k) * (1 - np.array(q_monoms[0].exponents())))"
   ]
  },
  {
   "cell_type": "code",
   "execution_count": 302,
   "metadata": {},
   "outputs": [],
   "source": [
    "def cycle(arr, orig = None):\n",
    "    if arr == orig:\n",
    "        return []\n",
    "    if not orig:\n",
    "        orig = arr\n",
    "    new_arr = arr[:]\n",
    "    new_arr.append(new_arr.pop(0))\n",
    "    return [arr] + cycle(new_arr, orig = orig)\n",
    "\n",
    "def is_same_parity(perm0, perm1):\n",
    "    \"\"\"Check if 2 permutations are of equal parity.\n",
    "\n",
    "    Assume that both permutation lists are of equal length\n",
    "    and have the same elements. No need to check for these\n",
    "    conditions.\n",
    "    \"\"\"\n",
    "    perm1 = perm1[:] ## copy this list so we don't mutate the original\n",
    "\n",
    "    transCount = 0\n",
    "    for loc in range(len(perm0) - 1):                         # Do (len - 1) transpositions\n",
    "        p0 = perm0[loc]\n",
    "        p1 = perm1[loc]\n",
    "        if p0 != p1:\n",
    "            sloc = perm1[loc:].index(p0) + loc          # Find position in perm1\n",
    "            perm1[loc], perm1[sloc] = p0, p1          # Swap in perm1\n",
    "            transCount += 1\n",
    "\n",
    "    # Even number of transpositions means equal parity\n",
    "    if transCount % 2 == 0:\n",
    "        return True\n",
    "    else:\n",
    "        return False\n",
    "\n",
    "def volform_parity(ndivs, invol):\n",
    "    order = list(range(ndivs))\n",
    "    for x, y in invol:\n",
    "        temp = order[x]\n",
    "        order[x] = order[y]\n",
    "        order[y] = temp\n",
    "    perm = Permutation(order)\n",
    "    cycles = cycle(list(range(ndivs)))\n",
    "    volform_term_parities = [is_same_parity(cycles[i][1:], [i^perm for i in cycles[i^perm][1:]]) for i in range(ndivs)]\n",
    "    if all(x for x in volform_term_parities):\n",
    "        return 1\n",
    "    elif all(not x for x in volform_term_parities):\n",
    "        return -1\n",
    "    else:\n",
    "        return 0"
   ]
  },
  {
   "cell_type": "code",
   "execution_count": 498,
   "metadata": {},
   "outputs": [
    {
     "data": {
      "text/latex": [
       "$\\displaystyle \\left( 2\\; 3\\right)\\left( 4\\; 5\\right)\\left( 6\\right)$"
      ],
      "text/plain": [
       "Permutation(6)(2, 3)(4, 5)"
      ]
     },
     "execution_count": 498,
     "metadata": {},
     "output_type": "execute_result"
    }
   ],
   "source": [
    "invol"
   ]
  },
  {
   "cell_type": "code",
   "execution_count": 519,
   "metadata": {},
   "outputs": [
    {
     "data": {
      "text/plain": [
       "array([[1, 1, 1],\n",
       "       [1, 1, 1],\n",
       "       [0, 1, 2],\n",
       "       [2, 1, 0],\n",
       "       [1, 0, 0],\n",
       "       [0, 0, 1],\n",
       "       [1, 2, 1]])"
      ]
     },
     "execution_count": 519,
     "metadata": {},
     "output_type": "execute_result"
    }
   ],
   "source": [
    "rescws"
   ]
  },
  {
   "cell_type": "code",
   "execution_count": 516,
   "metadata": {},
   "outputs": [
    {
     "ename": "TypeError",
     "evalue": "reduce() takes no arguments (1 given)",
     "output_type": "error",
     "traceback": [
      "\u001b[0;31m---------------------------------------------------------------------------\u001b[0m",
      "\u001b[0;31mTypeError\u001b[0m                                 Traceback (most recent call last)",
      "\u001b[0;32m<ipython-input-516-c5e74331f913>\u001b[0m in \u001b[0;36m<module>\u001b[0;34m\u001b[0m\n\u001b[0;32m----> 1\u001b[0;31m \u001b[0;34m(\u001b[0m\u001b[0;34m(\u001b[0m\u001b[0mX\u001b[0m \u001b[0;34m@\u001b[0m \u001b[0mrescws\u001b[0m\u001b[0;34m)\u001b[0m \u001b[0;34m/\u001b[0m \u001b[0;34m(\u001b[0m\u001b[0mX_invol\u001b[0m \u001b[0;34m@\u001b[0m \u001b[0mrescws\u001b[0m\u001b[0;34m)\u001b[0m\u001b[0;34m)\u001b[0m\u001b[0;34m[\u001b[0m\u001b[0;36m0\u001b[0m\u001b[0;34m]\u001b[0m\u001b[0;34m.\u001b[0m\u001b[0mreduce\u001b[0m\u001b[0;34m(\u001b[0m\u001b[0mlin_ideal\u001b[0m\u001b[0;34m)\u001b[0m\u001b[0;34m\u001b[0m\u001b[0;34m\u001b[0m\u001b[0m\n\u001b[0m",
      "\u001b[0;31mTypeError\u001b[0m: reduce() takes no arguments (1 given)"
     ]
    }
   ],
   "source": [
    "((X @ rescws) / (X_invol @ rescws))[0].reduce(lin_ideal)"
   ]
  },
  {
   "cell_type": "code",
   "execution_count": 512,
   "metadata": {},
   "outputs": [],
   "source": [
    "lin_ideal = R.ideal(*(X @ dresverts))"
   ]
  },
  {
   "cell_type": "code",
   "execution_count": 514,
   "metadata": {},
   "outputs": [
    {
     "data": {
      "text/plain": [
       "[None, None, None]"
      ]
     },
     "execution_count": 514,
     "metadata": {},
     "output_type": "execute_result"
    }
   ],
   "source": [
    "[x.reduce() for x in (X @ rescws) / (X_invol @ rescws)]"
   ]
  },
  {
   "cell_type": "code",
   "execution_count": 503,
   "metadata": {},
   "outputs": [],
   "source": [
    "a = R.ideal(list((X  X_invol) @ rescws))"
   ]
  },
  {
   "cell_type": "code",
   "execution_count": 504,
   "metadata": {},
   "outputs": [
    {
     "data": {
      "text/plain": [
       "[Ideal (x_4 + x_5 - 2*x_6, x_0 + x_1 + x_2 + x_3 + 1/2*x_4 + 1/2*x_5 + x_6) of Multivariate Polynomial Ring in x_0, x_1, x_2, x_3, x_4, x_5, x_6 over Rational Field]"
      ]
     },
     "execution_count": 504,
     "metadata": {},
     "output_type": "execute_result"
    }
   ],
   "source": [
    "a.minimal_associated_primes()"
   ]
  },
  {
   "cell_type": "code",
   "execution_count": 482,
   "metadata": {},
   "outputs": [
    {
     "data": {
      "text/plain": [
       "1"
      ]
     },
     "execution_count": 482,
     "metadata": {},
     "output_type": "execute_result"
    }
   ],
   "source": [
    "invol.signature()"
   ]
  },
  {
   "cell_type": "code",
   "execution_count": 484,
   "metadata": {},
   "outputs": [
    {
     "data": {
      "text/plain": [
       "array([1, 1, 0, 0, 0, 0, 2])"
      ]
     },
     "execution_count": 484,
     "metadata": {},
     "output_type": "execute_result"
    }
   ],
   "source": [
    "rescws[invol.array_form].prod(axis=1)"
   ]
  },
  {
   "cell_type": "code",
   "execution_count": 303,
   "metadata": {},
   "outputs": [
    {
     "data": {
      "text/plain": [
       "[[1, 2, 3], [2, 3, 1], [3, 1, 2]]"
      ]
     },
     "execution_count": 303,
     "metadata": {},
     "output_type": "execute_result"
    }
   ],
   "source": [
    "cycle([1,2,3])"
   ]
  },
  {
   "cell_type": "code",
   "execution_count": 493,
   "metadata": {},
   "outputs": [],
   "source": [
    "import itertools\n",
    "from collections import Counter\n",
    "a = Counter(itertools.product(*rescws.T))"
   ]
  },
  {
   "cell_type": "code",
   "execution_count": 495,
   "metadata": {},
   "outputs": [
    {
     "data": {
      "text/plain": [
       "array([[1, 1, 1],\n",
       "       [1, 1, 1],\n",
       "       [0, 1, 2],\n",
       "       [2, 1, 0],\n",
       "       [1, 0, 0],\n",
       "       [0, 0, 1],\n",
       "       [1, 2, 1]])"
      ]
     },
     "execution_count": 495,
     "metadata": {},
     "output_type": "execute_result"
    }
   ],
   "source": [
    "rescws"
   ]
  },
  {
   "cell_type": "code",
   "execution_count": 494,
   "metadata": {},
   "outputs": [
    {
     "data": {
      "text/plain": [
       "Counter({(1, 1, 1): 64,\n",
       "         (1, 1, 2): 16,\n",
       "         (1, 1, 0): 32,\n",
       "         (1, 0, 1): 32,\n",
       "         (1, 0, 2): 8,\n",
       "         (1, 0, 0): 16,\n",
       "         (1, 2, 1): 16,\n",
       "         (1, 2, 2): 4,\n",
       "         (1, 2, 0): 8,\n",
       "         (0, 1, 1): 32,\n",
       "         (0, 1, 2): 8,\n",
       "         (0, 1, 0): 16,\n",
       "         (0, 0, 1): 16,\n",
       "         (0, 0, 2): 4,\n",
       "         (0, 0, 0): 8,\n",
       "         (0, 2, 1): 8,\n",
       "         (0, 2, 2): 2,\n",
       "         (0, 2, 0): 4,\n",
       "         (2, 1, 1): 16,\n",
       "         (2, 1, 2): 4,\n",
       "         (2, 1, 0): 8,\n",
       "         (2, 0, 1): 8,\n",
       "         (2, 0, 2): 2,\n",
       "         (2, 0, 0): 4,\n",
       "         (2, 2, 1): 4,\n",
       "         (2, 2, 2): 1,\n",
       "         (2, 2, 0): 2})"
      ]
     },
     "execution_count": 494,
     "metadata": {},
     "output_type": "execute_result"
    }
   ],
   "source": [
    "a"
   ]
  },
  {
   "cell_type": "code",
   "execution_count": 461,
   "metadata": {},
   "outputs": [
    {
     "data": {
      "text/plain": [
       "[[1, 1, 1], [1, 1, 1], [1, 2], [2, 1], [1], [1], [1, 2, 1]]"
      ]
     },
     "execution_count": 461,
     "metadata": {},
     "output_type": "execute_result"
    }
   ],
   "source": [
    "[[rescws[i, j] for j in range(k - n) if rescws[i, j] > 0] for i in range(k)]"
   ]
  },
  {
   "cell_type": "code",
   "execution_count": 456,
   "metadata": {},
   "outputs": [
    {
     "data": {
      "text/plain": [
       "[[1, 1, 0, 2, 1, 0, 1], [1, 1, 1, 1, 0, 0, 2], [1, 1, 2, 0, 0, 1, 1]]"
      ]
     },
     "execution_count": 456,
     "metadata": {},
     "output_type": "execute_result"
    }
   ],
   "source": [
    "[[rescws[i][j] for i in range(k)] for j in range(k - n)]"
   ]
  },
  {
   "cell_type": "code",
   "execution_count": 436,
   "metadata": {},
   "outputs": [],
   "source": [
    "a = (X @ rescws).prod()"
   ]
  },
  {
   "cell_type": "code",
   "execution_count": 451,
   "metadata": {},
   "outputs": [],
   "source": [
    "b = [tuple(i for i in range(k) if m.exponents()[0][i] == 0) for m in a.monomials() if m.is_squarefree()]"
   ]
  },
  {
   "cell_type": "code",
   "execution_count": 453,
   "metadata": {},
   "outputs": [
    {
     "data": {
      "text/plain": [
       "(35, 35)"
      ]
     },
     "execution_count": 453,
     "metadata": {},
     "output_type": "execute_result"
    }
   ],
   "source": [
    "len(b), len(set(b))"
   ]
  },
  {
   "cell_type": "code",
   "execution_count": 452,
   "metadata": {},
   "outputs": [
    {
     "data": {
      "text/plain": [
       "{(0, 1, 2, 3),\n",
       " (0, 1, 2, 4),\n",
       " (0, 1, 2, 5),\n",
       " (0, 1, 2, 6),\n",
       " (0, 1, 3, 4),\n",
       " (0, 1, 3, 5),\n",
       " (0, 1, 3, 6),\n",
       " (0, 1, 4, 5),\n",
       " (0, 1, 4, 6),\n",
       " (0, 1, 5, 6),\n",
       " (0, 2, 3, 4),\n",
       " (0, 2, 3, 5),\n",
       " (0, 2, 3, 6),\n",
       " (0, 2, 4, 5),\n",
       " (0, 2, 4, 6),\n",
       " (0, 2, 5, 6),\n",
       " (0, 3, 4, 5),\n",
       " (0, 3, 4, 6),\n",
       " (0, 3, 5, 6),\n",
       " (0, 4, 5, 6),\n",
       " (1, 2, 3, 4),\n",
       " (1, 2, 3, 5),\n",
       " (1, 2, 3, 6),\n",
       " (1, 2, 4, 5),\n",
       " (1, 2, 4, 6),\n",
       " (1, 2, 5, 6),\n",
       " (1, 3, 4, 5),\n",
       " (1, 3, 4, 6),\n",
       " (1, 3, 5, 6),\n",
       " (1, 4, 5, 6),\n",
       " (2, 3, 4, 5),\n",
       " (2, 3, 4, 6),\n",
       " (2, 3, 5, 6),\n",
       " (2, 4, 5, 6),\n",
       " (3, 4, 5, 6)}"
      ]
     },
     "execution_count": 452,
     "metadata": {},
     "output_type": "execute_result"
    }
   ],
   "source": [
    "set(b)"
   ]
  },
  {
   "cell_type": "code",
   "execution_count": 442,
   "metadata": {},
   "outputs": [],
   "source": [
    "b = a.monomials()[0]"
   ]
  },
  {
   "cell_type": "code",
   "execution_count": 439,
   "metadata": {},
   "outputs": [
    {
     "data": {
      "text/plain": [
       "False"
      ]
     },
     "execution_count": 439,
     "metadata": {},
     "output_type": "execute_result"
    }
   ],
   "source": [
    "b.is_squarefree()"
   ]
  },
  {
   "cell_type": "code",
   "execution_count": 315,
   "metadata": {},
   "outputs": [
    {
     "data": {
      "text/plain": [
       "array([x_0, -x_1, x_2, -x_3, x_4, -x_5, x_6], dtype=object)"
      ]
     },
     "execution_count": 315,
     "metadata": {},
     "output_type": "execute_result"
    }
   ],
   "source": [
    "np.power(-1, range(k)) * X"
   ]
  },
  {
   "cell_type": "code",
   "execution_count": 316,
   "metadata": {},
   "outputs": [
    {
     "data": {
      "text/plain": [
       "array([x_0, -x_1, x_3, -x_2, x_5, -x_4, x_6], dtype=object)"
      ]
     },
     "execution_count": 316,
     "metadata": {},
     "output_type": "execute_result"
    }
   ],
   "source": [
    "np.power(-1, range(k)) * X_invol"
   ]
  },
  {
   "cell_type": "code",
   "execution_count": 310,
   "metadata": {},
   "outputs": [
    {
     "data": {
      "text/plain": [
       "array([x_0 - x_1 - 2*x_3 + x_4 + x_6, x_0 - x_1 + x_2 - x_3 + 2*x_6,\n",
       "       x_0 - x_1 + 2*x_2 - x_5 + x_6], dtype=object)"
      ]
     },
     "execution_count": 310,
     "metadata": {},
     "output_type": "execute_result"
    }
   ],
   "source": [
    "(np.power(-1, range(k)) * X) @ rescws "
   ]
  },
  {
   "cell_type": "code",
   "execution_count": 314,
   "metadata": {},
   "outputs": [
    {
     "data": {
      "text/plain": [
       "(x_0^3 - 3*x_0^2*x_1 + 3*x_0*x_1^2 - x_1^3 - 3*x_0^2*x_2 + 6*x_0*x_1*x_2 - 3*x_1^2*x_2 + 2*x_0*x_2^2 - 2*x_1*x_2^2 + 3*x_0^2*x_3 - 6*x_0*x_1*x_3 + 3*x_1^2*x_3 - 8*x_0*x_2*x_3 + 8*x_1*x_2*x_3 + 4*x_2^2*x_3 + 2*x_0*x_3^2 - 2*x_1*x_3^2 - 4*x_2*x_3^2 - x_0^2*x_4 + 2*x_0*x_1*x_4 - x_1^2*x_4 + 3*x_0*x_2*x_4 - 3*x_1*x_2*x_4 - 2*x_2^2*x_4 - x_0*x_3*x_4 + x_1*x_3*x_4 + 2*x_2*x_3*x_4 + x_0^2*x_5 - 2*x_0*x_1*x_5 + x_1^2*x_5 - x_0*x_2*x_5 + x_1*x_2*x_5 + 3*x_0*x_3*x_5 - 3*x_1*x_3*x_5 - 2*x_2*x_3*x_5 + 2*x_3^2*x_5 - x_0*x_4*x_5 + x_1*x_4*x_5 + x_2*x_4*x_5 - x_3*x_4*x_5 + 4*x_0^2*x_6 - 8*x_0*x_1*x_6 + 4*x_1^2*x_6 - 8*x_0*x_2*x_6 + 8*x_1*x_2*x_6 + 2*x_2^2*x_6 + 8*x_0*x_3*x_6 - 8*x_1*x_3*x_6 - 12*x_2*x_3*x_6 + 2*x_3^2*x_6 - 3*x_0*x_4*x_6 + 3*x_1*x_4*x_6 + 5*x_2*x_4*x_6 - x_3*x_4*x_6 + 3*x_0*x_5*x_6 - 3*x_1*x_5*x_6 - x_2*x_5*x_6 + 5*x_3*x_5*x_6 - 2*x_4*x_5*x_6 + 5*x_0*x_6^2 - 5*x_1*x_6^2 - 5*x_2*x_6^2 + 5*x_3*x_6^2 - 2*x_4*x_6^2 + 2*x_5*x_6^2 + 2*x_6^3)/(x_0^3 - 3*x_0^2*x_1 + 3*x_0*x_1^2 - x_1^3 + 3*x_0^2*x_2 - 6*x_0*x_1*x_2 + 3*x_1^2*x_2 + 2*x_0*x_2^2 - 2*x_1*x_2^2 - 3*x_0^2*x_3 + 6*x_0*x_1*x_3 - 3*x_1^2*x_3 - 8*x_0*x_2*x_3 + 8*x_1*x_2*x_3 - 4*x_2^2*x_3 + 2*x_0*x_3^2 - 2*x_1*x_3^2 + 4*x_2*x_3^2 + x_0^2*x_4 - 2*x_0*x_1*x_4 + x_1^2*x_4 + 3*x_0*x_2*x_4 - 3*x_1*x_2*x_4 + 2*x_2^2*x_4 - x_0*x_3*x_4 + x_1*x_3*x_4 - 2*x_2*x_3*x_4 - x_0^2*x_5 + 2*x_0*x_1*x_5 - x_1^2*x_5 - x_0*x_2*x_5 + x_1*x_2*x_5 + 3*x_0*x_3*x_5 - 3*x_1*x_3*x_5 + 2*x_2*x_3*x_5 - 2*x_3^2*x_5 - x_0*x_4*x_5 + x_1*x_4*x_5 - x_2*x_4*x_5 + x_3*x_4*x_5 + 4*x_0^2*x_6 - 8*x_0*x_1*x_6 + 4*x_1^2*x_6 + 8*x_0*x_2*x_6 - 8*x_1*x_2*x_6 + 2*x_2^2*x_6 - 8*x_0*x_3*x_6 + 8*x_1*x_3*x_6 - 12*x_2*x_3*x_6 + 2*x_3^2*x_6 + 3*x_0*x_4*x_6 - 3*x_1*x_4*x_6 + 5*x_2*x_4*x_6 - x_3*x_4*x_6 - 3*x_0*x_5*x_6 + 3*x_1*x_5*x_6 - x_2*x_5*x_6 + 5*x_3*x_5*x_6 - 2*x_4*x_5*x_6 + 5*x_0*x_6^2 - 5*x_1*x_6^2 + 5*x_2*x_6^2 - 5*x_3*x_6^2 + 2*x_4*x_6^2 - 2*x_5*x_6^2 + 2*x_6^3)"
      ]
     },
     "execution_count": 314,
     "metadata": {},
     "output_type": "execute_result"
    }
   ],
   "source": [
    "((np.power(-1, range(k)) * X_invol) @ rescws).prod() / ((np.power(-1, range(k)) * X) @ rescws).prod()"
   ]
  },
  {
   "cell_type": "code",
   "execution_count": 291,
   "metadata": {},
   "outputs": [
    {
     "data": {
      "text/plain": [
       "1"
      ]
     },
     "execution_count": 291,
     "metadata": {},
     "output_type": "execute_result"
    }
   ],
   "source": [
    "V = (X @ rescws).prod()\n",
    "V_invol = invol.signature() * (X_invol @ rescws).prod()\n",
    "V_invol / V"
   ]
  },
  {
   "cell_type": "code",
   "execution_count": 301,
   "metadata": {},
   "outputs": [
    {
     "data": {
      "text/latex": [
       "$\\displaystyle \\left( 2\\; 3\\right)\\left( 4\\; 5\\right)\\left( 6\\right)$"
      ],
      "text/plain": [
       "Permutation(6)(2, 3)(4, 5)"
      ]
     },
     "execution_count": 301,
     "metadata": {},
     "output_type": "execute_result"
    }
   ],
   "source": [
    "invol"
   ]
  },
  {
   "cell_type": "code",
   "execution_count": 298,
   "metadata": {},
   "outputs": [
    {
     "data": {
      "text/plain": [
       "x_0 + x_1 + 2*x_6"
      ]
     },
     "execution_count": 298,
     "metadata": {},
     "output_type": "execute_result"
    }
   ],
   "source": [
    "X @ rescws.prod(axis=1)"
   ]
  },
  {
   "cell_type": "code",
   "execution_count": 300,
   "metadata": {},
   "outputs": [
    {
     "data": {
      "text/plain": [
       "x_0 + x_1 + 2*x_6"
      ]
     },
     "execution_count": 300,
     "metadata": {},
     "output_type": "execute_result"
    }
   ],
   "source": [
    "X_invol @ rescws.prod(axis=1)"
   ]
  },
  {
   "cell_type": "code",
   "execution_count": 268,
   "metadata": {},
   "outputs": [],
   "source": [
    "from sympy.combinatorics import Permutation"
   ]
  },
  {
   "cell_type": "code",
   "execution_count": 295,
   "metadata": {},
   "outputs": [
    {
     "data": {
      "text/plain": [
       "array([[1, 1, 1],\n",
       "       [1, 1, 1],\n",
       "       [0, 1, 2],\n",
       "       [2, 1, 0],\n",
       "       [1, 0, 0],\n",
       "       [0, 0, 1],\n",
       "       [1, 2, 1]])"
      ]
     },
     "execution_count": 295,
     "metadata": {},
     "output_type": "execute_result"
    }
   ],
   "source": [
    "rescws"
   ]
  },
  {
   "cell_type": "code",
   "execution_count": 293,
   "metadata": {},
   "outputs": [
    {
     "data": {
      "text/plain": [
       "array([x_0 + x_1 + 2*x_3 + x_4 + x_6, x_0 + x_1 + x_2 + x_3 + 2*x_6,\n",
       "       x_0 + x_1 + 2*x_2 + x_5 + x_6], dtype=object)"
      ]
     },
     "execution_count": 293,
     "metadata": {},
     "output_type": "execute_result"
    }
   ],
   "source": [
    "X @ rescws"
   ]
  },
  {
   "cell_type": "code",
   "execution_count": 294,
   "metadata": {},
   "outputs": [
    {
     "data": {
      "text/plain": [
       "array([x_0 + x_1 + 2*x_2 + x_5 + x_6, x_0 + x_1 + x_2 + x_3 + 2*x_6,\n",
       "       x_0 + x_1 + 2*x_3 + x_4 + x_6], dtype=object)"
      ]
     },
     "execution_count": 294,
     "metadata": {},
     "output_type": "execute_result"
    }
   ],
   "source": [
    "X_invol @ rescws"
   ]
  },
  {
   "cell_type": "code",
   "execution_count": 292,
   "metadata": {},
   "outputs": [
    {
     "data": {
      "text/plain": [
       "array([-2*x_2 + 2*x_3 + x_4 - x_5, 0, 2*x_2 - 2*x_3 - x_4 + x_5],\n",
       "      dtype=object)"
      ]
     },
     "execution_count": 292,
     "metadata": {},
     "output_type": "execute_result"
    }
   ],
   "source": [
    "(X - X_invol) @ rescws"
   ]
  },
  {
   "cell_type": "code",
   "execution_count": 248,
   "metadata": {},
   "outputs": [
    {
     "data": {
      "text/plain": [
       "-1"
      ]
     },
     "execution_count": 248,
     "metadata": {},
     "output_type": "execute_result"
    }
   ],
   "source": [
    "ex['VOLFORMPARITY']"
   ]
  },
  {
   "cell_type": "markdown",
   "metadata": {},
   "source": [
    "### Kahler form\n",
    "The even parity requirement just restricts the coefficients of the Kahler form"
   ]
  },
  {
   "cell_type": "code",
   "execution_count": 249,
   "metadata": {},
   "outputs": [],
   "source": []
  },
  {
   "cell_type": "code",
   "execution_count": 155,
   "metadata": {},
   "outputs": [
    {
     "data": {
      "text/plain": [
       "[2*x_4 + 4*x_5 - x_6,\n",
       " 2*x_4 + 4*x_5 - x_6,\n",
       " -2*x_4 - 4*x_5 + x_6,\n",
       " -2*x_4 - 4*x_5 + x_6,\n",
       " -2*x_4 - 4*x_5 + x_6,\n",
       " 2*x_4 + 4*x_5 - x_6,\n",
       " 0]"
      ]
     },
     "execution_count": 155,
     "metadata": {},
     "output_type": "execute_result"
    }
   ],
   "source": [
    "[(x - y).reduce(lin_ideal) for x, y in zip(X, X_invol)]"
   ]
  },
  {
   "cell_type": "code",
   "execution_count": 156,
   "metadata": {},
   "outputs": [],
   "source": [
    "Rbar = R.quotient(lin_ideal)"
   ]
  },
  {
   "cell_type": "code",
   "execution_count": 157,
   "metadata": {},
   "outputs": [],
   "source": [
    "simplex_vols = np.array([abs(matrix(ZZ, dresverts[x]).det()) for x in triang])\n",
    "simplex_vols = simplex_vols / simplex_vols.min()\n",
    "basis = [X[i] for i in range(k) if i not in triang[simplex_vols.argmin()]]"
   ]
  },
  {
   "cell_type": "code",
   "execution_count": 414,
   "metadata": {},
   "outputs": [],
   "source": [
    "RR = QQ[tuple([f'x_{i}' for i in range(k)] + [f'a_{i}' for i in range(k)])]\n",
    "XX = np.array(RR.gens()[:k])\n",
    "XX_invol = XX[invol.array_form]\n",
    "AA = np.array(RR.gens()[k:])"
   ]
  },
  {
   "cell_type": "code",
   "execution_count": 415,
   "metadata": {},
   "outputs": [
    {
     "data": {
      "text/plain": [
       "[1/2*x_4 + 1/2*x_5 + 1/2*x_6,\n",
       " 1/2*x_4 + 1/2*x_5 + 1/2*x_6,\n",
       " -1/2*x_4 + 3/2*x_5 + 1/2*x_6,\n",
       " 3/2*x_4 - 1/2*x_5 + 1/2*x_6,\n",
       " x_4,\n",
       " x_5,\n",
       " x_6]"
      ]
     },
     "execution_count": 415,
     "metadata": {},
     "output_type": "execute_result"
    }
   ],
   "source": [
    "lin_ideal = RR.ideal(*(RR.gens()[:k] @ dresverts))\n",
    "[x.reduce(lin_ideal) for x in XX]"
   ]
  },
  {
   "cell_type": "code",
   "execution_count": 416,
   "metadata": {},
   "outputs": [],
   "source": [
    "qq = RR.ideal((AA @ (XX - XX_invol)).reduce(lin_ideal))"
   ]
  },
  {
   "cell_type": "code",
   "execution_count": 410,
   "metadata": {},
   "outputs": [
    {
     "data": {
      "text/plain": [
       "Ideal (-2*x_4*a_2 + 2*x_5*a_2 + 2*x_4*a_3 - 2*x_5*a_3 + x_4*a_4 - x_5*a_4 - x_4*a_5 + x_5*a_5) of Multivariate Polynomial Ring in x_0, x_1, x_2, x_3, x_4, x_5, x_6, a_0, a_1, a_2, a_3, a_4, a_5, a_6 over Rational Field"
      ]
     },
     "execution_count": 410,
     "metadata": {},
     "output_type": "execute_result"
    }
   ],
   "source": [
    "qq"
   ]
  },
  {
   "cell_type": "code",
   "execution_count": 411,
   "metadata": {},
   "outputs": [
    {
     "data": {
      "text/plain": [
       "[Ideal (2*a_2 - 2*a_3 - a_4 + a_5) of Multivariate Polynomial Ring in x_0, x_1, x_2, x_3, x_4, x_5, x_6, a_0, a_1, a_2, a_3, a_4, a_5, a_6 over Rational Field,\n",
       " Ideal (x_4 - x_5) of Multivariate Polynomial Ring in x_0, x_1, x_2, x_3, x_4, x_5, x_6, a_0, a_1, a_2, a_3, a_4, a_5, a_6 over Rational Field]"
      ]
     },
     "execution_count": 411,
     "metadata": {},
     "output_type": "execute_result"
    }
   ],
   "source": [
    "qq.minimal_associated_primes()"
   ]
  },
  {
   "cell_type": "code",
   "execution_count": 378,
   "metadata": {},
   "outputs": [],
   "source": [
    "lin_ideal = RR.ideal(*(RR.gens()[:k] @ dresverts))\n",
    "lin_ideal_invol = RR.ideal(*([RR.gen(i) for i in invol.array_form] @ dresverts))\n",
    "a = [x.reduce(lin_ideal) - y.reduce(lin_ideal_invol) for x, y in zip(RR.gens()[:k], [RR.gen(i) for i in invol.array_form])]\n",
    "a = [RR.gen(k + i) * a[i] for i in range(k)]"
   ]
  },
  {
   "cell_type": "code",
   "execution_count": 379,
   "metadata": {},
   "outputs": [
    {
     "data": {
      "text/plain": [
       "[0,\n",
       " 0,\n",
       " -2*x_4*a_2 + 2*x_5*a_2,\n",
       " 2*x_4*a_3 - 2*x_5*a_3,\n",
       " x_4*a_4 - x_5*a_4,\n",
       " -x_4*a_5 + x_5*a_5,\n",
       " 0]"
      ]
     },
     "execution_count": 379,
     "metadata": {},
     "output_type": "execute_result"
    }
   ],
   "source": [
    "a"
   ]
  },
  {
   "cell_type": "code",
   "execution_count": 224,
   "metadata": {},
   "outputs": [
    {
     "data": {
      "text/plain": [
       "[0, 0, -2*x_4 + 2*x_5, 2*x_4 - 2*x_5, x_4 - x_5, -x_4 + x_5, 0]"
      ]
     },
     "execution_count": 224,
     "metadata": {},
     "output_type": "execute_result"
    }
   ],
   "source": [
    "lin_ideal = R.ideal(*(X @ dresverts))\n",
    "# lin_ideal_invol = R.ideal(*(X_invol @ dresverts))\n",
    "invol_ideal = R.ideal(*[X - X_invol])\n",
    "[(x - y).reduce(lin_ideal + invol_ideal) - y.reduce(lin_ideal_invol + invol_ideal) for x, y in zip(X, X_invol)]"
   ]
  },
  {
   "cell_type": "code",
   "execution_count": 226,
   "metadata": {},
   "outputs": [
    {
     "data": {
      "text/plain": [
       "[Ideal (x_3 - 3/2*x_4 + 1/2*x_5 - 1/2*x_6, x_2 + x_3 - x_4 - x_5 - x_6, x_1 - x_3 + x_4 - x_5, x_0 + x_1 + x_2 + x_3 - 2*x_4 - 2*x_5 - 2*x_6) of Multivariate Polynomial Ring in x_0, x_1, x_2, x_3, x_4, x_5, x_6 over Rational Field]"
      ]
     },
     "execution_count": 226,
     "metadata": {},
     "output_type": "execute_result"
    }
   ],
   "source": [
    "lin_ideal.minimal_associated_primes()"
   ]
  },
  {
   "cell_type": "code",
   "execution_count": 253,
   "metadata": {},
   "outputs": [],
   "source": [
    "a = Xbar[0]"
   ]
  },
  {
   "cell_type": "code",
   "execution_count": 259,
   "metadata": {},
   "outputs": [
    {
     "data": {
      "text/plain": [
       "[[0, 0, 0, 0, 1/2, 1/2, 1/2],\n",
       " [0, 0, 0, 0, 1/2, 1/2, 1/2],\n",
       " [0, 0, 0, 0, -1/2, 3/2, 1/2],\n",
       " [0, 0, 0, 0, 3/2, -1/2, 1/2],\n",
       " [0, 0, 0, 0, 1, 0, 0],\n",
       " [0, 0, 0, 0, 0, 1, 0],\n",
       " [0, 0, 0, 0, 0, 0, 1]]"
      ]
     },
     "execution_count": 259,
     "metadata": {},
     "output_type": "execute_result"
    }
   ],
   "source": [
    "lin_ideal = R.ideal(*(X @ dresverts))\n",
    "Xbar = np.array([x.reduce(lin_ideal) for x in X])\n",
    "[[y.coefficient(x) for x in X] for y in Xbar]"
   ]
  },
  {
   "cell_type": "code",
   "execution_count": 258,
   "metadata": {},
   "outputs": [
    {
     "data": {
      "text/plain": [
       "[[0, 0, 0, 0, 1/2, 1/2, 1/2],\n",
       " [0, 0, 0, 0, 1/2, 1/2, 1/2],\n",
       " [0, 0, 0, 0, -1/2, 3/2, 1/2],\n",
       " [0, 0, 0, 0, 3/2, -1/2, 1/2],\n",
       " [0, 0, 0, 0, 1, 0, 0],\n",
       " [0, 0, 0, 0, 0, 1, 0],\n",
       " [0, 0, 0, 0, 0, 0, 1]]"
      ]
     },
     "execution_count": 258,
     "metadata": {},
     "output_type": "execute_result"
    }
   ],
   "source": [
    "lin_ideal_invol = R.ideal(*(X_invol @ dresverts))\n",
    "Xbar_invol = np.array([x.reduce(lin_ideal_invol) for x in X_invol])\n",
    "[[y.coefficient(x) for x in X_invol] for y in Xbar_invol]"
   ]
  },
  {
   "cell_type": "code",
   "execution_count": 261,
   "metadata": {},
   "outputs": [
    {
     "data": {
      "text/plain": [
       "array([1/2*x_4 + 1/2*x_5 + 1/2*x_6, 1/2*x_4 + 1/2*x_5 + 1/2*x_6,\n",
       "       -1/2*x_4 + 3/2*x_5 + 1/2*x_6, 3/2*x_4 - 1/2*x_5 + 1/2*x_6, x_4,\n",
       "       x_5, x_6], dtype=object)"
      ]
     },
     "execution_count": 261,
     "metadata": {},
     "output_type": "execute_result"
    }
   ],
   "source": [
    "Xbar"
   ]
  },
  {
   "cell_type": "code",
   "execution_count": 262,
   "metadata": {},
   "outputs": [
    {
     "data": {
      "text/plain": [
       "array([1/2*x_4 + 1/2*x_5 + 1/2*x_6, 1/2*x_4 + 1/2*x_5 + 1/2*x_6,\n",
       "       3/2*x_4 - 1/2*x_5 + 1/2*x_6, -1/2*x_4 + 3/2*x_5 + 1/2*x_6, x_5,\n",
       "       x_4, x_6], dtype=object)"
      ]
     },
     "execution_count": 262,
     "metadata": {},
     "output_type": "execute_result"
    }
   ],
   "source": [
    "Xbar_invol"
   ]
  },
  {
   "cell_type": "code",
   "execution_count": 264,
   "metadata": {},
   "outputs": [
    {
     "data": {
      "text/plain": [
       "array([x_4 + x_5 + x_6, x_4 + x_5 + x_6, x_4 + x_5 + x_6, x_4 + x_5 + x_6,\n",
       "       x_4 + x_5, x_4 + x_5, 2*x_6], dtype=object)"
      ]
     },
     "execution_count": 264,
     "metadata": {},
     "output_type": "execute_result"
    }
   ],
   "source": [
    "Xbar + Xbar_invol"
   ]
  },
  {
   "cell_type": "code",
   "execution_count": 167,
   "metadata": {},
   "outputs": [
    {
     "data": {
      "text/plain": [
       "Ideal (-x_0 - x_1 - x_2 - x_3 - x_4 - x_5 + x_6, x_3 + 2*x_4 + 3*x_5 - x_6, 2*x_1 + 3*x_2 + x_5 - x_6, -x_1 - 2*x_2 - x_4 - 2*x_5 + x_6) of Multivariate Polynomial Ring in x_0, x_1, x_2, x_3, x_4, x_5, x_6 over Rational Field"
      ]
     },
     "execution_count": 167,
     "metadata": {},
     "output_type": "execute_result"
    }
   ],
   "source": [
    "lin_ideal"
   ]
  },
  {
   "cell_type": "code",
   "execution_count": 168,
   "metadata": {},
   "outputs": [
    {
     "data": {
      "text/plain": [
       "Ideal (-x_0 - x_1 - x_2 - x_3 - x_4 - x_5 + x_6, x_0 + 2*x_1 + 3*x_2 - x_6, x_2 + 2*x_4 + 3*x_5 - x_6, -x_1 - 2*x_2 - x_4 - 2*x_5 + x_6) of Multivariate Polynomial Ring in x_0, x_1, x_2, x_3, x_4, x_5, x_6 over Rational Field"
      ]
     },
     "execution_count": 168,
     "metadata": {},
     "output_type": "execute_result"
    }
   ],
   "source": [
    "lin_ideal_invol"
   ]
  },
  {
   "cell_type": "code",
   "execution_count": 67,
   "metadata": {},
   "outputs": [],
   "source": [
    "a = [x.reduce(linideal) for x in X]\n",
    "b = [x.reduce(linideal) for x in X_invol]"
   ]
  },
  {
   "cell_type": "code",
   "execution_count": 69,
   "metadata": {},
   "outputs": [
    {
     "data": {
      "text/plain": [
       "[x_5,\n",
       " 3*x_4 + 4*x_5 - x_6,\n",
       " -2*x_4 - 3*x_5 + x_6,\n",
       " -2*x_4 - 3*x_5 + x_6,\n",
       " x_4,\n",
       " x_5,\n",
       " x_6]"
      ]
     },
     "execution_count": 69,
     "metadata": {},
     "output_type": "execute_result"
    }
   ],
   "source": [
    "a"
   ]
  },
  {
   "cell_type": "code",
   "execution_count": 70,
   "metadata": {},
   "outputs": [
    {
     "data": {
      "text/plain": [
       "[-2*x_4 - 3*x_5 + x_6,\n",
       " x_4,\n",
       " x_5,\n",
       " x_5,\n",
       " 3*x_4 + 4*x_5 - x_6,\n",
       " -2*x_4 - 3*x_5 + x_6,\n",
       " x_6]"
      ]
     },
     "execution_count": 70,
     "metadata": {},
     "output_type": "execute_result"
    }
   ],
   "source": [
    "b"
   ]
  },
  {
   "cell_type": "code",
   "execution_count": 49,
   "metadata": {},
   "outputs": [
    {
     "data": {
      "text/plain": [
       "[2*x_4 + 4*x_5 - x_6, 5*x_4 + 7*x_5 - 2*x_6, 0, 2*x_4 + 3*x_5]"
      ]
     },
     "execution_count": 49,
     "metadata": {},
     "output_type": "execute_result"
    }
   ],
   "source": [
    "[(X[i]-X[3]).reduce(linideal) for i in range(k) if i in basis_triang]"
   ]
  },
  {
   "cell_type": "code",
   "execution_count": 119,
   "metadata": {},
   "outputs": [
    {
     "data": {
      "text/plain": [
       "[2*x_4bar + 4*x_5bar - x_6bar,\n",
       " 2*x_4bar + 4*x_5bar - x_6bar,\n",
       " -2*x_4bar - 4*x_5bar + x_6bar,\n",
       " -2*x_4bar - 4*x_5bar + x_6bar,\n",
       " -2*x_4bar - 4*x_5bar + x_6bar,\n",
       " 2*x_4bar + 4*x_5bar - x_6bar,\n",
       " 0]"
      ]
     },
     "execution_count": 119,
     "metadata": {},
     "output_type": "execute_result"
    }
   ],
   "source": [
    "[x - y for x, y in zip(Rbar.gens(), [Rbar.gen(i) for i in invol.array_form])]"
   ]
  },
  {
   "cell_type": "code",
   "execution_count": 73,
   "metadata": {},
   "outputs": [],
   "source": [
    "DtoJmat = [[1 if i==j else 0 for i in range(k)] for j in range(k) if j not in basis_triang]"
   ]
  },
  {
   "cell_type": "code",
   "execution_count": 74,
   "metadata": {},
   "outputs": [
    {
     "data": {
      "text/plain": [
       "[[0, 0, 0, 1, 0, 0, 0], [0, 0, 0, 0, 1, 0, 0], [0, 0, 0, 0, 0, 1, 0]]"
      ]
     },
     "execution_count": 74,
     "metadata": {},
     "output_type": "execute_result"
    }
   ],
   "source": [
    "[[JJ[j],sum([DtoJmat[j][i]*X[i] for i in range(len(DD))])] for j in range(len(JJ))]"
   ]
  },
  {
   "cell_type": "code",
   "execution_count": null,
   "metadata": {},
   "outputs": [],
   "source": [
    "R."
   ]
  }
 ],
 "metadata": {
  "kernelspec": {
   "display_name": "Python 3",
   "language": "python",
   "name": "python3"
  },
  "language_info": {
   "codemirror_mode": {
    "name": "ipython",
    "version": 3
   },
   "file_extension": ".py",
   "mimetype": "text/x-python",
   "name": "python",
   "nbconvert_exporter": "python",
   "pygments_lexer": "ipython3",
   "version": "3.8.5"
  }
 },
 "nbformat": 4,
 "nbformat_minor": 4
}

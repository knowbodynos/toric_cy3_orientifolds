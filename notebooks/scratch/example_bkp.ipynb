{
 "cells": [
  {
   "cell_type": "code",
   "execution_count": 1,
   "metadata": {},
   "outputs": [],
   "source": [
    "import os\n",
    "from dotenv import load_dotenv\n",
    "HOME = os.getenv('HOME')\n",
    "load_dotenv(f'{HOME}/.zshrc')\n",
    "\n",
    "from utils.db import ToricCY\n",
    "from utils import format\n",
    "db = ToricCY()"
   ]
  },
  {
   "cell_type": "code",
   "execution_count": 2,
   "metadata": {},
   "outputs": [],
   "source": [
    "invols = db.find_invols({'H11': 3})"
   ]
  },
  {
   "cell_type": "code",
   "execution_count": 3,
   "metadata": {},
   "outputs": [],
   "source": [
    "test_invols = []\n",
    "for x in invols:\n",
    "    if x['VOLFORMPARITY'] == -1:\n",
    "        for y in x['OPLANES']:\n",
    "            if y['ODIM'] == 7:\n",
    "                test_invols.append(dict(x))"
   ]
  },
  {
   "cell_type": "code",
   "execution_count": 41,
   "metadata": {},
   "outputs": [],
   "source": [
    "from utils.calc import get_srideal\n",
    "ex = invols[20]\n",
    "rescws = format.mat(ex['RESCWS'])\n",
    "itensxd = format.mat(ex['ITENSXD'])\n",
    "nverts = format.mat(ex['NVERTS'])\n",
    "dresverts = format.mat(ex['DRESVERTS'])\n",
    "k, n = dresverts.shape\n",
    "triang = format.mat(ex['TRIANG'])\n",
    "srideal = get_srideal(triang)\n",
    "invol = format.invol(ex['INVOL'], k)"
   ]
  },
  {
   "cell_type": "code",
   "execution_count": 42,
   "metadata": {},
   "outputs": [],
   "source": [
    "import numpy as np\n",
    "from sage.geometry.polyhedron.constructor import Polyhedron\n",
    "Delta = Polyhedron(vertices=nverts)\n",
    "npoints = np.array(Delta.integral_points())"
   ]
  },
  {
   "cell_type": "code",
   "execution_count": 43,
   "metadata": {},
   "outputs": [],
   "source": [
    "P_expon = (npoints @ dresverts.T) + 1"
   ]
  },
  {
   "cell_type": "code",
   "execution_count": 44,
   "metadata": {},
   "outputs": [],
   "source": [
    "from sage.rings.integer_ring import ZZ\n",
    "from sage.matrix.all import matrix\n",
    "m = matrix(ZZ, P_expon - P_expon[:, invol.array_form]).row_space().matrix()"
   ]
  },
  {
   "cell_type": "code",
   "execution_count": 45,
   "metadata": {},
   "outputs": [
    {
     "data": {
      "text/plain": [
       "[ 1  0 -1  1  0 -1  0]"
      ]
     },
     "execution_count": 45,
     "metadata": {},
     "output_type": "execute_result"
    }
   ],
   "source": [
    "m"
   ]
  },
  {
   "cell_type": "code",
   "execution_count": 46,
   "metadata": {},
   "outputs": [
    {
     "data": {
      "text/plain": [
       "[{'OIDEAL': ['x1*x4-x3*x6'], 'ODIM': 7}]"
      ]
     },
     "execution_count": 46,
     "metadata": {},
     "output_type": "execute_result"
    }
   ],
   "source": [
    "ex['OPLANES']"
   ]
  },
  {
   "cell_type": "code",
   "execution_count": 47,
   "metadata": {},
   "outputs": [],
   "source": [
    "P_weights = np.unique(P_expon @ rescws, axis=0)"
   ]
  },
  {
   "cell_type": "code",
   "execution_count": 48,
   "metadata": {},
   "outputs": [
    {
     "data": {
      "text/plain": [
       "array([[4, 4, 4]])"
      ]
     },
     "execution_count": 48,
     "metadata": {},
     "output_type": "execute_result"
    }
   ],
   "source": [
    "P_weights"
   ]
  },
  {
   "cell_type": "code",
   "execution_count": 49,
   "metadata": {},
   "outputs": [],
   "source": [
    "from sage.rings.rational_field import QQ\n",
    "R = QQ[tuple(f'x_{i}' for i in range(k))]\n",
    "X = R.gens()\n",
    "X_invol = [X[i] for i in invol.array_form]"
   ]
  },
  {
   "cell_type": "code",
   "execution_count": 50,
   "metadata": {},
   "outputs": [],
   "source": [
    "srideal = [R.ideal([X[i] for i in x]) for x in srideal]"
   ]
  },
  {
   "cell_type": "code",
   "execution_count": 51,
   "metadata": {},
   "outputs": [],
   "source": [
    "P_monoms = np.power(X, P_expon).prod(axis=1)\n",
    "P = P_monoms.sum()"
   ]
  },
  {
   "cell_type": "code",
   "execution_count": 52,
   "metadata": {},
   "outputs": [],
   "source": [
    "P_invol_monoms = np.power(X_invol, P_expon).prod(axis=1)\n",
    "P_invol = P_invol_monoms.sum()"
   ]
  },
  {
   "cell_type": "code",
   "execution_count": 77,
   "metadata": {},
   "outputs": [],
   "source": [
    "P_diff = P_monoms - P_invol_monoms\n",
    "P_diff = P_diff[P_diff.nonzero()]\n",
    "P_diff = R.ideal(*P_diff)"
   ]
  },
  {
   "cell_type": "code",
   "execution_count": 78,
   "metadata": {},
   "outputs": [],
   "source": [
    "fixed_loci = P_diff.minimal_associated_primes()"
   ]
  },
  {
   "cell_type": "code",
   "execution_count": 24,
   "metadata": {},
   "outputs": [],
   "source": [
    "terms = list(set.union(*[set(next(zip(*x.factor()))) for x in P_monoms - P_invol_monoms if x != 0]))"
   ]
  },
  {
   "cell_type": "code",
   "execution_count": 29,
   "metadata": {},
   "outputs": [
    {
     "data": {
      "text/plain": [
       "[x_1^2*x_2^2 + x_1*x_2*x_3*x_4 + x_3^2*x_4^2,\n",
       " x_3,\n",
       " x_2,\n",
       " x_1,\n",
       " x_4,\n",
       " x_1^2*x_2^2 - x_1*x_2*x_3*x_4 + x_3^2*x_4^2,\n",
       " -x_1*x_2 + x_3*x_4,\n",
       " x_6,\n",
       " x_1^4*x_2^4 + x_1^3*x_2^3*x_3*x_4 + x_1^2*x_2^2*x_3^2*x_4^2 + x_1*x_2*x_3^3*x_4^3 + x_3^4*x_4^4,\n",
       " x_5,\n",
       " x_1^2*x_2^2 + x_3^2*x_4^2,\n",
       " x_0,\n",
       " x_1*x_2 + x_3*x_4]"
      ]
     },
     "execution_count": 29,
     "metadata": {},
     "output_type": "execute_result"
    }
   ],
   "source": [
    "terms"
   ]
  },
  {
   "cell_type": "code",
   "execution_count": 38,
   "metadata": {},
   "outputs": [
    {
     "data": {
      "text/plain": [
       "[(-1) * x_3^4 * x_1^4 * (-x_1*x_2 + x_3*x_4),\n",
       " x_3^4 * x_1^4 * (-x_1*x_2 + x_3*x_4),\n",
       " (-1) * x_0 * x_3^3 * x_1^3 * (x_1*x_2 + x_3*x_4)^-1 * (-x_1*x_2 + x_3*x_4) * (x_1^2*x_2^2 + x_1*x_2*x_3*x_4 + x_3^2*x_4^2),\n",
       " (-1) * x_4 * x_2 * x_0 * x_3^4 * x_1^4 * (x_1*x_2 + x_3*x_4)^-1 * (-x_1*x_2 + x_3*x_4),\n",
       " (-1) * x_5 * x_3^3 * x_1^3 * (-x_1*x_2 + x_3*x_4),\n",
       " x_4 * x_2 * x_0 * x_3^4 * x_1^4 * (x_1*x_2 + x_3*x_4)^-1 * (-x_1*x_2 + x_3*x_4),\n",
       " x_0 * x_3^3 * x_1^3 * (x_1*x_2 + x_3*x_4)^-1 * (-x_1*x_2 + x_3*x_4) * (x_1^2*x_2^2 + x_1*x_2*x_3*x_4 + x_3^2*x_4^2),\n",
       " x_5 * x_3^3 * x_1^3 * (-x_1*x_2 + x_3*x_4),\n",
       " (-1) * x_3^2 * x_1^2 * x_0^2 * (-x_1*x_2 + x_3*x_4) * (x_1^2*x_2^2 + x_3^2*x_4^2),\n",
       " (-1) * x_4 * x_2 * x_0^2 * x_3^3 * x_1^3 * (-x_1*x_2 + x_3*x_4),\n",
       " (-1) * x_5 * x_0 * x_3^2 * x_1^2 * (x_1*x_2 + x_3*x_4)^-1 * (-x_1*x_2 + x_3*x_4) * (x_1^2*x_2^2 + x_1*x_2*x_3*x_4 + x_3^2*x_4^2),\n",
       " (-1) * x_5 * x_4 * x_2 * x_0 * x_3^3 * x_1^3 * (x_1*x_2 + x_3*x_4)^-1 * (-x_1*x_2 + x_3*x_4),\n",
       " (-1) * x_6 * x_3^2 * x_1^2 * (x_1*x_2 + x_3*x_4)^-1 * (-x_1*x_2 + x_3*x_4),\n",
       " (-1) * x_5^2 * x_3^2 * x_1^2 * (-x_1*x_2 + x_3*x_4),\n",
       " x_4 * x_2 * x_0^2 * x_3^3 * x_1^3 * (-x_1*x_2 + x_3*x_4),\n",
       " x_5 * x_4 * x_2 * x_0 * x_3^3 * x_1^3 * (x_1*x_2 + x_3*x_4)^-1 * (-x_1*x_2 + x_3*x_4),\n",
       " x_6 * x_3^2 * x_1^2 * (x_1*x_2 + x_3*x_4)^-1 * (-x_1*x_2 + x_3*x_4),\n",
       " x_3^2 * x_1^2 * x_0^2 * (-x_1*x_2 + x_3*x_4) * (x_1^2*x_2^2 + x_3^2*x_4^2),\n",
       " x_5 * x_0 * x_3^2 * x_1^2 * (x_1*x_2 + x_3*x_4)^-1 * (-x_1*x_2 + x_3*x_4) * (x_1^2*x_2^2 + x_1*x_2*x_3*x_4 + x_3^2*x_4^2),\n",
       " x_5^2 * x_3^2 * x_1^2 * (-x_1*x_2 + x_3*x_4),\n",
       " (-1) * x_3 * x_1 * x_0^3 * (x_1*x_2 + x_3*x_4)^-1 * (-x_1*x_2 + x_3*x_4) * (x_1^4*x_2^4 + x_1^3*x_2^3*x_3*x_4 + x_1^2*x_2^2*x_3^2*x_4^2 + x_1*x_2*x_3^3*x_4^3 + x_3^4*x_4^4),\n",
       " (-1) * x_4 * x_2 * x_3^2 * x_1^2 * x_0^3 * (x_1*x_2 + x_3*x_4)^-1 * (-x_1*x_2 + x_3*x_4) * (x_1^2*x_2^2 + x_1*x_2*x_3*x_4 + x_3^2*x_4^2),\n",
       " (-1) * x_5 * x_3 * x_1 * x_0^2 * (-x_1*x_2 + x_3*x_4) * (x_1^2*x_2^2 + x_3^2*x_4^2),\n",
       " (-1) * x_4^2 * x_2^2 * x_3^3 * x_1^3 * x_0^3 * (x_1*x_2 + x_3*x_4)^-1 * (-x_1*x_2 + x_3*x_4),\n",
       " (-1) * x_5 * x_4 * x_2 * x_3^2 * x_1^2 * x_0^2 * (-x_1*x_2 + x_3*x_4),\n",
       " (-1) * x_6 * x_3 * x_1 * x_0 * (-x_1*x_2 + x_3*x_4),\n",
       " (-1) * x_3 * x_1 * x_0 * x_5^2 * (x_1*x_2 + x_3*x_4)^-1 * (-x_1*x_2 + x_3*x_4) * (x_1^2*x_2^2 + x_1*x_2*x_3*x_4 + x_3^2*x_4^2),\n",
       " x_4^2 * x_2^2 * x_3^3 * x_1^3 * x_0^3 * (x_1*x_2 + x_3*x_4)^-1 * (-x_1*x_2 + x_3*x_4),\n",
       " (-1) * x_4 * x_2 * x_0 * x_5^2 * x_3^2 * x_1^2 * (x_1*x_2 + x_3*x_4)^-1 * (-x_1*x_2 + x_3*x_4),\n",
       " (-1) * x_6 * x_5 * x_3 * x_1 * (x_1*x_2 + x_3*x_4)^-1 * (-x_1*x_2 + x_3*x_4),\n",
       " (-1) * x_3 * x_1 * x_5^3 * (-x_1*x_2 + x_3*x_4),\n",
       " x_4 * x_2 * x_3^2 * x_1^2 * x_0^3 * (x_1*x_2 + x_3*x_4)^-1 * (-x_1*x_2 + x_3*x_4) * (x_1^2*x_2^2 + x_1*x_2*x_3*x_4 + x_3^2*x_4^2),\n",
       " x_5 * x_4 * x_2 * x_3^2 * x_1^2 * x_0^2 * (-x_1*x_2 + x_3*x_4),\n",
       " x_6 * x_3 * x_1 * x_0 * (-x_1*x_2 + x_3*x_4),\n",
       " x_4 * x_2 * x_0 * x_5^2 * x_3^2 * x_1^2 * (x_1*x_2 + x_3*x_4)^-1 * (-x_1*x_2 + x_3*x_4),\n",
       " x_6 * x_5 * x_3 * x_1 * (x_1*x_2 + x_3*x_4)^-1 * (-x_1*x_2 + x_3*x_4),\n",
       " x_3 * x_1 * x_0^3 * (x_1*x_2 + x_3*x_4)^-1 * (-x_1*x_2 + x_3*x_4) * (x_1^4*x_2^4 + x_1^3*x_2^3*x_3*x_4 + x_1^2*x_2^2*x_3^2*x_4^2 + x_1*x_2*x_3^3*x_4^3 + x_3^4*x_4^4),\n",
       " x_5 * x_3 * x_1 * x_0^2 * (-x_1*x_2 + x_3*x_4) * (x_1^2*x_2^2 + x_3^2*x_4^2),\n",
       " x_3 * x_1 * x_0 * x_5^2 * (x_1*x_2 + x_3*x_4)^-1 * (-x_1*x_2 + x_3*x_4) * (x_1^2*x_2^2 + x_1*x_2*x_3*x_4 + x_3^2*x_4^2),\n",
       " x_3 * x_1 * x_5^3 * (-x_1*x_2 + x_3*x_4),\n",
       " (-1) * x_0^4 * (-x_1*x_2 + x_3*x_4) * (x_1^2*x_2^2 - x_1*x_2*x_3*x_4 + x_3^2*x_4^2) * (x_1^2*x_2^2 + x_1*x_2*x_3*x_4 + x_3^2*x_4^2),\n",
       " (-1) * x_4 * x_3 * x_2 * x_1 * x_0^4 * (-x_1*x_2 + x_3*x_4) * (x_1^2*x_2^2 + x_3^2*x_4^2),\n",
       " (-1) * x_5 * x_0^3 * (x_1*x_2 + x_3*x_4)^-1 * (-x_1*x_2 + x_3*x_4) * (x_1^4*x_2^4 + x_1^3*x_2^3*x_3*x_4 + x_1^2*x_2^2*x_3^2*x_4^2 + x_1*x_2*x_3^3*x_4^3 + x_3^4*x_4^4),\n",
       " (-1) * x_4^2 * x_3^2 * x_2^2 * x_1^2 * x_0^4 * (-x_1*x_2 + x_3*x_4),\n",
       " (-1) * x_5 * x_4 * x_3 * x_2 * x_1 * x_0^3 * (x_1*x_2 + x_3*x_4)^-1 * (-x_1*x_2 + x_3*x_4) * (x_1^2*x_2^2 + x_1*x_2*x_3*x_4 + x_3^2*x_4^2),\n",
       " (-1) * x_6 * x_0^2 * (x_1*x_2 + x_3*x_4)^-1 * (-x_1*x_2 + x_3*x_4) * (x_1^2*x_2^2 + x_1*x_2*x_3*x_4 + x_3^2*x_4^2),\n",
       " (-1) * x_5^2 * x_0^2 * (-x_1*x_2 + x_3*x_4) * (x_1^2*x_2^2 + x_3^2*x_4^2),\n",
       " (-1) * x_5 * x_4^2 * x_3^2 * x_2^2 * x_1^2 * x_0^3 * (x_1*x_2 + x_3*x_4)^-1 * (-x_1*x_2 + x_3*x_4),\n",
       " (-1) * x_6 * x_4 * x_3 * x_2 * x_1 * x_0^2 * (x_1*x_2 + x_3*x_4)^-1 * (-x_1*x_2 + x_3*x_4),\n",
       " (-1) * x_4 * x_3 * x_2 * x_1 * x_5^2 * x_0^2 * (-x_1*x_2 + x_3*x_4),\n",
       " (-1) * x_6 * x_5 * x_0 * (-x_1*x_2 + x_3*x_4),\n",
       " (-1) * x_0 * x_5^3 * (x_1*x_2 + x_3*x_4)^-1 * (-x_1*x_2 + x_3*x_4) * (x_1^2*x_2^2 + x_1*x_2*x_3*x_4 + x_3^2*x_4^2),\n",
       " x_4^2 * x_3^2 * x_2^2 * x_1^2 * x_0^4 * (-x_1*x_2 + x_3*x_4),\n",
       " x_5 * x_4^2 * x_3^2 * x_2^2 * x_1^2 * x_0^3 * (x_1*x_2 + x_3*x_4)^-1 * (-x_1*x_2 + x_3*x_4),\n",
       " x_6 * x_4 * x_3 * x_2 * x_1 * x_0^2 * (x_1*x_2 + x_3*x_4)^-1 * (-x_1*x_2 + x_3*x_4),\n",
       " (-1) * x_4 * x_3 * x_2 * x_1 * x_0 * x_5^3 * (x_1*x_2 + x_3*x_4)^-1 * (-x_1*x_2 + x_3*x_4),\n",
       " (-1) * x_6 * x_5^2 * (x_1*x_2 + x_3*x_4)^-1 * (-x_1*x_2 + x_3*x_4),\n",
       " (-1) * x_5^4 * (-x_1*x_2 + x_3*x_4),\n",
       " x_4 * x_3 * x_2 * x_1 * x_0^4 * (-x_1*x_2 + x_3*x_4) * (x_1^2*x_2^2 + x_3^2*x_4^2),\n",
       " x_5 * x_4 * x_3 * x_2 * x_1 * x_0^3 * (x_1*x_2 + x_3*x_4)^-1 * (-x_1*x_2 + x_3*x_4) * (x_1^2*x_2^2 + x_1*x_2*x_3*x_4 + x_3^2*x_4^2),\n",
       " x_6 * x_0^2 * (x_1*x_2 + x_3*x_4)^-1 * (-x_1*x_2 + x_3*x_4) * (x_1^2*x_2^2 + x_1*x_2*x_3*x_4 + x_3^2*x_4^2),\n",
       " x_4 * x_3 * x_2 * x_1 * x_5^2 * x_0^2 * (-x_1*x_2 + x_3*x_4),\n",
       " x_6 * x_5 * x_0 * (-x_1*x_2 + x_3*x_4),\n",
       " x_4 * x_3 * x_2 * x_1 * x_0 * x_5^3 * (x_1*x_2 + x_3*x_4)^-1 * (-x_1*x_2 + x_3*x_4),\n",
       " x_6 * x_5^2 * (x_1*x_2 + x_3*x_4)^-1 * (-x_1*x_2 + x_3*x_4),\n",
       " x_0^4 * (-x_1*x_2 + x_3*x_4) * (x_1^2*x_2^2 - x_1*x_2*x_3*x_4 + x_3^2*x_4^2) * (x_1^2*x_2^2 + x_1*x_2*x_3*x_4 + x_3^2*x_4^2),\n",
       " x_5 * x_0^3 * (x_1*x_2 + x_3*x_4)^-1 * (-x_1*x_2 + x_3*x_4) * (x_1^4*x_2^4 + x_1^3*x_2^3*x_3*x_4 + x_1^2*x_2^2*x_3^2*x_4^2 + x_1*x_2*x_3^3*x_4^3 + x_3^4*x_4^4),\n",
       " x_5^2 * x_0^2 * (-x_1*x_2 + x_3*x_4) * (x_1^2*x_2^2 + x_3^2*x_4^2),\n",
       " x_0 * x_5^3 * (x_1*x_2 + x_3*x_4)^-1 * (-x_1*x_2 + x_3*x_4) * (x_1^2*x_2^2 + x_1*x_2*x_3*x_4 + x_3^2*x_4^2),\n",
       " x_5^4 * (-x_1*x_2 + x_3*x_4),\n",
       " (-1) * x_4 * x_2 * x_0^5 * (x_1*x_2 + x_3*x_4)^-1 * (-x_1*x_2 + x_3*x_4) * (x_1^4*x_2^4 + x_1^3*x_2^3*x_3*x_4 + x_1^2*x_2^2*x_3^2*x_4^2 + x_1*x_2*x_3^3*x_4^3 + x_3^4*x_4^4),\n",
       " (-1) * x_3 * x_1 * x_4^2 * x_2^2 * x_0^5 * (x_1*x_2 + x_3*x_4)^-1 * (-x_1*x_2 + x_3*x_4) * (x_1^2*x_2^2 + x_1*x_2*x_3*x_4 + x_3^2*x_4^2),\n",
       " (-1) * x_5 * x_4 * x_2 * x_0^4 * (-x_1*x_2 + x_3*x_4) * (x_1^2*x_2^2 + x_3^2*x_4^2),\n",
       " (-1) * x_3^2 * x_1^2 * x_4^3 * x_2^3 * x_0^5 * (x_1*x_2 + x_3*x_4)^-1 * (-x_1*x_2 + x_3*x_4),\n",
       " (-1) * x_5 * x_3 * x_1 * x_4^2 * x_2^2 * x_0^4 * (-x_1*x_2 + x_3*x_4),\n",
       " (-1) * x_6 * x_4 * x_2 * x_0^3 * (-x_1*x_2 + x_3*x_4),\n",
       " (-1) * x_4 * x_2 * x_5^2 * x_0^3 * (x_1*x_2 + x_3*x_4)^-1 * (-x_1*x_2 + x_3*x_4) * (x_1^2*x_2^2 + x_1*x_2*x_3*x_4 + x_3^2*x_4^2),\n",
       " x_3^2 * x_1^2 * x_4^3 * x_2^3 * x_0^5 * (x_1*x_2 + x_3*x_4)^-1 * (-x_1*x_2 + x_3*x_4),\n",
       " (-1) * x_3 * x_1 * x_5^2 * x_4^2 * x_2^2 * x_0^3 * (x_1*x_2 + x_3*x_4)^-1 * (-x_1*x_2 + x_3*x_4),\n",
       " (-1) * x_6 * x_5 * x_4 * x_2 * x_0^2 * (x_1*x_2 + x_3*x_4)^-1 * (-x_1*x_2 + x_3*x_4),\n",
       " (-1) * x_4 * x_2 * x_0^2 * x_5^3 * (-x_1*x_2 + x_3*x_4),\n",
       " x_3 * x_1 * x_4^2 * x_2^2 * x_0^5 * (x_1*x_2 + x_3*x_4)^-1 * (-x_1*x_2 + x_3*x_4) * (x_1^2*x_2^2 + x_1*x_2*x_3*x_4 + x_3^2*x_4^2),\n",
       " x_5 * x_3 * x_1 * x_4^2 * x_2^2 * x_0^4 * (-x_1*x_2 + x_3*x_4),\n",
       " x_6 * x_4 * x_2 * x_0^3 * (-x_1*x_2 + x_3*x_4),\n",
       " x_3 * x_1 * x_5^2 * x_4^2 * x_2^2 * x_0^3 * (x_1*x_2 + x_3*x_4)^-1 * (-x_1*x_2 + x_3*x_4),\n",
       " x_6 * x_5 * x_4 * x_2 * x_0^2 * (x_1*x_2 + x_3*x_4)^-1 * (-x_1*x_2 + x_3*x_4),\n",
       " (-1) * x_4 * x_2 * x_0 * x_5^4 * (x_1*x_2 + x_3*x_4)^-1 * (-x_1*x_2 + x_3*x_4),\n",
       " x_4 * x_2 * x_0^5 * (x_1*x_2 + x_3*x_4)^-1 * (-x_1*x_2 + x_3*x_4) * (x_1^4*x_2^4 + x_1^3*x_2^3*x_3*x_4 + x_1^2*x_2^2*x_3^2*x_4^2 + x_1*x_2*x_3^3*x_4^3 + x_3^4*x_4^4),\n",
       " x_5 * x_4 * x_2 * x_0^4 * (-x_1*x_2 + x_3*x_4) * (x_1^2*x_2^2 + x_3^2*x_4^2),\n",
       " x_4 * x_2 * x_5^2 * x_0^3 * (x_1*x_2 + x_3*x_4)^-1 * (-x_1*x_2 + x_3*x_4) * (x_1^2*x_2^2 + x_1*x_2*x_3*x_4 + x_3^2*x_4^2),\n",
       " x_4 * x_2 * x_0^2 * x_5^3 * (-x_1*x_2 + x_3*x_4),\n",
       " x_4 * x_2 * x_0 * x_5^4 * (x_1*x_2 + x_3*x_4)^-1 * (-x_1*x_2 + x_3*x_4),\n",
       " (-1) * x_4^2 * x_2^2 * x_0^6 * (-x_1*x_2 + x_3*x_4) * (x_1^2*x_2^2 + x_3^2*x_4^2),\n",
       " (-1) * x_3 * x_1 * x_4^3 * x_2^3 * x_0^6 * (-x_1*x_2 + x_3*x_4),\n",
       " (-1) * x_5 * x_4^2 * x_2^2 * x_0^5 * (x_1*x_2 + x_3*x_4)^-1 * (-x_1*x_2 + x_3*x_4) * (x_1^2*x_2^2 + x_1*x_2*x_3*x_4 + x_3^2*x_4^2),\n",
       " (-1) * x_5 * x_3 * x_1 * x_4^3 * x_2^3 * x_0^5 * (x_1*x_2 + x_3*x_4)^-1 * (-x_1*x_2 + x_3*x_4),\n",
       " (-1) * x_6 * x_4^2 * x_2^2 * x_0^4 * (x_1*x_2 + x_3*x_4)^-1 * (-x_1*x_2 + x_3*x_4),\n",
       " (-1) * x_5^2 * x_4^2 * x_2^2 * x_0^4 * (-x_1*x_2 + x_3*x_4),\n",
       " x_3 * x_1 * x_4^3 * x_2^3 * x_0^6 * (-x_1*x_2 + x_3*x_4),\n",
       " x_5 * x_3 * x_1 * x_4^3 * x_2^3 * x_0^5 * (x_1*x_2 + x_3*x_4)^-1 * (-x_1*x_2 + x_3*x_4),\n",
       " x_6 * x_4^2 * x_2^2 * x_0^4 * (x_1*x_2 + x_3*x_4)^-1 * (-x_1*x_2 + x_3*x_4),\n",
       " (-1) * x_4^2 * x_2^2 * x_5^3 * x_0^3 * (x_1*x_2 + x_3*x_4)^-1 * (-x_1*x_2 + x_3*x_4),\n",
       " x_4^2 * x_2^2 * x_0^6 * (-x_1*x_2 + x_3*x_4) * (x_1^2*x_2^2 + x_3^2*x_4^2),\n",
       " x_5 * x_4^2 * x_2^2 * x_0^5 * (x_1*x_2 + x_3*x_4)^-1 * (-x_1*x_2 + x_3*x_4) * (x_1^2*x_2^2 + x_1*x_2*x_3*x_4 + x_3^2*x_4^2),\n",
       " x_5^2 * x_4^2 * x_2^2 * x_0^4 * (-x_1*x_2 + x_3*x_4),\n",
       " x_4^2 * x_2^2 * x_5^3 * x_0^3 * (x_1*x_2 + x_3*x_4)^-1 * (-x_1*x_2 + x_3*x_4),\n",
       " (-1) * x_4^3 * x_2^3 * x_0^7 * (x_1*x_2 + x_3*x_4)^-1 * (-x_1*x_2 + x_3*x_4) * (x_1^2*x_2^2 + x_1*x_2*x_3*x_4 + x_3^2*x_4^2),\n",
       " (-1) * x_3 * x_1 * x_4^4 * x_2^4 * x_0^7 * (x_1*x_2 + x_3*x_4)^-1 * (-x_1*x_2 + x_3*x_4),\n",
       " (-1) * x_5 * x_4^3 * x_2^3 * x_0^6 * (-x_1*x_2 + x_3*x_4),\n",
       " x_3 * x_1 * x_4^4 * x_2^4 * x_0^7 * (x_1*x_2 + x_3*x_4)^-1 * (-x_1*x_2 + x_3*x_4),\n",
       " (-1) * x_5^2 * x_4^3 * x_2^3 * x_0^5 * (x_1*x_2 + x_3*x_4)^-1 * (-x_1*x_2 + x_3*x_4),\n",
       " x_4^3 * x_2^3 * x_0^7 * (x_1*x_2 + x_3*x_4)^-1 * (-x_1*x_2 + x_3*x_4) * (x_1^2*x_2^2 + x_1*x_2*x_3*x_4 + x_3^2*x_4^2),\n",
       " x_5 * x_4^3 * x_2^3 * x_0^6 * (-x_1*x_2 + x_3*x_4),\n",
       " x_5^2 * x_4^3 * x_2^3 * x_0^5 * (x_1*x_2 + x_3*x_4)^-1 * (-x_1*x_2 + x_3*x_4),\n",
       " (-1) * x_4^4 * x_2^4 * x_0^8 * (-x_1*x_2 + x_3*x_4),\n",
       " (-1) * x_5 * x_4^4 * x_2^4 * x_0^7 * (x_1*x_2 + x_3*x_4)^-1 * (-x_1*x_2 + x_3*x_4),\n",
       " x_4^4 * x_2^4 * x_0^8 * (-x_1*x_2 + x_3*x_4),\n",
       " x_5 * x_4^4 * x_2^4 * x_0^7 * (x_1*x_2 + x_3*x_4)^-1 * (-x_1*x_2 + x_3*x_4),\n",
       " (-1) * x_4^5 * x_2^5 * x_0^9 * (x_1*x_2 + x_3*x_4)^-1 * (-x_1*x_2 + x_3*x_4),\n",
       " x_4^5 * x_2^5 * x_0^9 * (x_1*x_2 + x_3*x_4)^-1 * (-x_1*x_2 + x_3*x_4)]"
      ]
     },
     "execution_count": 38,
     "metadata": {},
     "output_type": "execute_result"
    }
   ],
   "source": [
    "[(x / terms[12]).factor() for x in P_monoms - P_invol_monoms if x != 0]"
   ]
  },
  {
   "cell_type": "code",
   "execution_count": null,
   "metadata": {},
   "outputs": [],
   "source": [
    "a = list(product(*[set(next(zip(*x.factor()))) for x in P_monoms - P_invol_monoms if x != 0]))"
   ]
  },
  {
   "cell_type": "code",
   "execution_count": 436,
   "metadata": {},
   "outputs": [
    {
     "data": {
      "text/plain": [
       "<itertools.product at 0x1c4cbda00>"
      ]
     },
     "execution_count": 436,
     "metadata": {},
     "output_type": "execute_result"
    }
   ],
   "source": [
    "a"
   ]
  },
  {
   "cell_type": "code",
   "execution_count": 431,
   "metadata": {},
   "outputs": [
    {
     "data": {
      "text/plain": [
       "{x_6,\n",
       " x_5,\n",
       " x_4,\n",
       " x_3,\n",
       " x_2,\n",
       " x_1,\n",
       " x_0,\n",
       " -x_1*x_2 + x_3*x_4,\n",
       " x_1*x_2 + x_3*x_4,\n",
       " x_1^2*x_2^2 + x_3^2*x_4^2,\n",
       " x_1^2*x_2^2 - x_1*x_2*x_3*x_4 + x_3^2*x_4^2,\n",
       " x_1^2*x_2^2 + x_1*x_2*x_3*x_4 + x_3^2*x_4^2,\n",
       " x_1^4*x_2^4 + x_1^3*x_2^3*x_3*x_4 + x_1^2*x_2^2*x_3^2*x_4^2 + x_1*x_2*x_3^3*x_4^3 + x_3^4*x_4^4}"
      ]
     },
     "execution_count": 431,
     "metadata": {},
     "output_type": "execute_result"
    }
   ],
   "source": [
    "set.union(*[set(next(zip(*x.factor()))) for x in P_monoms - P_invol_monoms if x != 0])"
   ]
  },
  {
   "cell_type": "code",
   "execution_count": 302,
   "metadata": {},
   "outputs": [],
   "source": [
    "P_monoms = np.array([x.reduce(srideal) for x in P_monoms])\n",
    "P_invol_monoms = np.array([x.reduce(srideal) for x in P_invol_monoms])"
   ]
  },
  {
   "cell_type": "code",
   "execution_count": 412,
   "metadata": {},
   "outputs": [
    {
     "data": {
      "text/plain": [
       "[x_1^6*x_2^2*x_3^4,\n",
       " 0,\n",
       " -x_1^6*x_2^2*x_3^4,\n",
       " x_0*x_1^6*x_2^3*x_3^3,\n",
       " 0,\n",
       " x_1^5*x_2^2*x_3^3*x_5,\n",
       " 0,\n",
       " 0,\n",
       " -x_0*x_1^6*x_2^3*x_3^3,\n",
       " -x_1^5*x_2^2*x_3^3*x_5,\n",
       " x_0^2*x_1^6*x_2^4*x_3^2,\n",
       " 0,\n",
       " 0,\n",
       " 0,\n",
       " 0,\n",
       " 0,\n",
       " x_1^4*x_2^2*x_3^2*x_5^2,\n",
       " 0,\n",
       " 0,\n",
       " 0,\n",
       " 0,\n",
       " -x_0^2*x_1^6*x_2^4*x_3^2,\n",
       " 0,\n",
       " -x_1^4*x_2^2*x_3^2*x_5^2,\n",
       " x_0^3*x_1^6*x_2^5*x_3,\n",
       " 0,\n",
       " 0,\n",
       " 0,\n",
       " 0,\n",
       " 0,\n",
       " 0,\n",
       " 0,\n",
       " 0,\n",
       " 0,\n",
       " 0,\n",
       " 0,\n",
       " x_1^3*x_2^2*x_3*x_5^3,\n",
       " 0,\n",
       " 0,\n",
       " 0,\n",
       " 0,\n",
       " 0,\n",
       " 0,\n",
       " -x_0^3*x_1^6*x_2^5*x_3,\n",
       " 0,\n",
       " 0,\n",
       " -x_1^3*x_2^2*x_3*x_5^3,\n",
       " x_0^4*x_1^6*x_2^6 - x_0^4*x_3^6*x_4^6,\n",
       " 0,\n",
       " 0,\n",
       " 0,\n",
       " 0,\n",
       " x_0^2*x_1^3*x_2^3*x_6 - x_0^2*x_3^3*x_4^3*x_6,\n",
       " 0,\n",
       " 0,\n",
       " 0,\n",
       " 0,\n",
       " 0,\n",
       " 0,\n",
       " 0,\n",
       " 0,\n",
       " 0,\n",
       " 0,\n",
       " 0,\n",
       " 0,\n",
       " 0,\n",
       " 0,\n",
       " x_1*x_2*x_5^2*x_6 - x_3*x_4*x_5^2*x_6,\n",
       " x_1^2*x_2^2*x_5^4 - x_3^2*x_4^2*x_5^4,\n",
       " 0,\n",
       " 0,\n",
       " -x_0^2*x_1^3*x_2^3*x_6 + x_0^2*x_3^3*x_4^3*x_6,\n",
       " 0,\n",
       " 0,\n",
       " 0,\n",
       " -x_1*x_2*x_5^2*x_6 + x_3*x_4*x_5^2*x_6,\n",
       " 0,\n",
       " -x_0^4*x_1^6*x_2^6 + x_0^4*x_3^6*x_4^6,\n",
       " 0,\n",
       " 0,\n",
       " 0,\n",
       " -x_1^2*x_2^2*x_5^4 + x_3^2*x_4^2*x_5^4,\n",
       " -x_0^5*x_2*x_3^5*x_4^6,\n",
       " 0,\n",
       " 0,\n",
       " 0,\n",
       " 0,\n",
       " 0,\n",
       " 0,\n",
       " 0,\n",
       " 0,\n",
       " 0,\n",
       " 0,\n",
       " 0,\n",
       " 0,\n",
       " 0,\n",
       " 0,\n",
       " 0,\n",
       " 0,\n",
       " 0,\n",
       " 0,\n",
       " 0,\n",
       " 0,\n",
       " x_0^5*x_2*x_3^5*x_4^6,\n",
       " 0,\n",
       " 0,\n",
       " 0,\n",
       " 0,\n",
       " 0,\n",
       " -x_0^6*x_2^2*x_3^4*x_4^6,\n",
       " 0,\n",
       " 0,\n",
       " 0,\n",
       " 0,\n",
       " 0,\n",
       " 0,\n",
       " 0,\n",
       " 0,\n",
       " 0,\n",
       " 0,\n",
       " 0,\n",
       " 0,\n",
       " x_0^6*x_2^2*x_3^4*x_4^6,\n",
       " 0,\n",
       " 0,\n",
       " 0,\n",
       " 0,\n",
       " -x_0^7*x_2^3*x_3^3*x_4^6,\n",
       " 0,\n",
       " 0,\n",
       " 0,\n",
       " 0,\n",
       " 0,\n",
       " 0,\n",
       " x_0^7*x_2^3*x_3^3*x_4^6,\n",
       " 0,\n",
       " 0,\n",
       " 0,\n",
       " -x_0^8*x_2^4*x_3^2*x_4^6,\n",
       " 0,\n",
       " 0,\n",
       " x_0^8*x_2^4*x_3^2*x_4^6,\n",
       " 0,\n",
       " 0,\n",
       " -x_0^9*x_2^5*x_3*x_4^6,\n",
       " x_0^9*x_2^5*x_3*x_4^6,\n",
       " 0,\n",
       " 0]"
      ]
     },
     "execution_count": 412,
     "metadata": {},
     "output_type": "execute_result"
    }
   ],
   "source": [
    "[x.reduce(srideal) for x in P_monoms - P_invol_monoms]"
   ]
  },
  {
   "cell_type": "code",
   "execution_count": 310,
   "metadata": {},
   "outputs": [],
   "source": [
    "a = np.unique(P_monoms - P_invol_monoms)\n",
    "b = a[1]"
   ]
  },
  {
   "cell_type": "code",
   "execution_count": 311,
   "metadata": {},
   "outputs": [
    {
     "data": {
      "text/plain": [
       "x_6 * x_1^3 * (-x_2^2*x_3 + x_4^2*x_5)"
      ]
     },
     "execution_count": 311,
     "metadata": {},
     "output_type": "execute_result"
    }
   ],
   "source": [
    "b.factor()"
   ]
  },
  {
   "cell_type": "code",
   "execution_count": 255,
   "metadata": {},
   "outputs": [
    {
     "data": {
      "text/plain": [
       "x_6^2 + x_0^4*x_2*x_4*x_6 + x_0^3*x_1*x_2*x_4*x_6 + x_0^3*x_2^2*x_3*x_6 + x_0^3*x_4^2*x_5*x_6 + x_0^2*x_1^2*x_2*x_4*x_6 + x_0^2*x_1*x_2^2*x_3*x_6 + x_0^2*x_1*x_4^2*x_5*x_6 + x_0^2*x_2*x_3*x_4*x_5*x_6 + x_0*x_1^3*x_2*x_4*x_6 + x_0*x_1^2*x_2^2*x_3*x_6 + x_0*x_1^2*x_4^2*x_5*x_6 + x_0*x_1*x_2*x_3*x_4*x_5*x_6 + x_0*x_2^2*x_3^2*x_5*x_6 + x_0*x_3*x_4^2*x_5^2*x_6 + x_1^4*x_2*x_4*x_6 + x_1^3*x_2^2*x_3*x_6 + x_1^3*x_4^2*x_5*x_6 + x_1^2*x_2*x_3*x_4*x_5*x_6 + x_1*x_2^2*x_3^2*x_5*x_6 + x_1*x_3*x_4^2*x_5^2*x_6 + x_2*x_3^2*x_4*x_5^2*x_6 + x_0^8*x_2^2*x_4^2 + x_0^7*x_1*x_2^2*x_4^2 + x_0^7*x_2^3*x_3*x_4 + x_0^7*x_2*x_4^3*x_5 + x_0^6*x_1^2*x_2^2*x_4^2 + x_0^6*x_1*x_2^3*x_3*x_4 + x_0^6*x_1*x_2*x_4^3*x_5 + x_0^6*x_2^4*x_3^2 + x_0^6*x_2^2*x_3*x_4^2*x_5 + x_0^6*x_4^4*x_5^2 + x_0^5*x_1^3*x_2^2*x_4^2 + x_0^5*x_1^2*x_2^3*x_3*x_4 + x_0^5*x_1^2*x_2*x_4^3*x_5 + x_0^5*x_1*x_2^4*x_3^2 + x_0^5*x_1*x_2^2*x_3*x_4^2*x_5 + x_0^5*x_1*x_4^4*x_5^2 + x_0^5*x_2^3*x_3^2*x_4*x_5 + x_0^5*x_2*x_3*x_4^3*x_5^2 + x_0^4*x_1^4*x_2^2*x_4^2 + x_0^4*x_1^3*x_2^3*x_3*x_4 + x_0^4*x_1^3*x_2*x_4^3*x_5 + x_0^4*x_1^2*x_2^4*x_3^2 + x_0^4*x_1^2*x_2^2*x_3*x_4^2*x_5 + x_0^4*x_1^2*x_4^4*x_5^2 + x_0^4*x_1*x_2^3*x_3^2*x_4*x_5 + x_0^4*x_1*x_2*x_3*x_4^3*x_5^2 + x_0^4*x_2^4*x_3^3*x_5 + x_0^4*x_2^2*x_3^2*x_4^2*x_5^2 + x_0^4*x_3*x_4^4*x_5^3 + x_0^3*x_1^5*x_2^2*x_4^2 + x_0^3*x_1^4*x_2^3*x_3*x_4 + x_0^3*x_1^4*x_2*x_4^3*x_5 + x_0^3*x_1^3*x_2^4*x_3^2 + x_0^3*x_1^3*x_2^2*x_3*x_4^2*x_5 + x_0^3*x_1^3*x_4^4*x_5^2 + x_0^3*x_1^2*x_2^3*x_3^2*x_4*x_5 + x_0^3*x_1^2*x_2*x_3*x_4^3*x_5^2 + x_0^3*x_1*x_2^4*x_3^3*x_5 + x_0^3*x_1*x_2^2*x_3^2*x_4^2*x_5^2 + x_0^3*x_1*x_3*x_4^4*x_5^3 + x_0^3*x_2^3*x_3^3*x_4*x_5^2 + x_0^3*x_2*x_3^2*x_4^3*x_5^3 + x_0^2*x_1^6*x_2^2*x_4^2 + x_0^2*x_1^5*x_2^3*x_3*x_4 + x_0^2*x_1^5*x_2*x_4^3*x_5 + x_0^2*x_1^4*x_2^4*x_3^2 + x_0^2*x_1^4*x_2^2*x_3*x_4^2*x_5 + x_0^2*x_1^4*x_4^4*x_5^2 + x_0^2*x_1^3*x_2^3*x_3^2*x_4*x_5 + x_0^2*x_1^3*x_2*x_3*x_4^3*x_5^2 + x_0^2*x_1^2*x_2^4*x_3^3*x_5 + x_0^2*x_1^2*x_2^2*x_3^2*x_4^2*x_5^2 + x_0^2*x_1^2*x_3*x_4^4*x_5^3 + x_0^2*x_1*x_2^3*x_3^3*x_4*x_5^2 + x_0^2*x_1*x_2*x_3^2*x_4^3*x_5^3 + x_0^2*x_2^4*x_3^4*x_5^2 + x_0^2*x_2^2*x_3^3*x_4^2*x_5^3 + x_0^2*x_3^2*x_4^4*x_5^4 + x_0*x_1^7*x_2^2*x_4^2 + x_0*x_1^6*x_2^3*x_3*x_4 + x_0*x_1^6*x_2*x_4^3*x_5 + x_0*x_1^5*x_2^4*x_3^2 + x_0*x_1^5*x_2^2*x_3*x_4^2*x_5 + x_0*x_1^5*x_4^4*x_5^2 + x_0*x_1^4*x_2^3*x_3^2*x_4*x_5 + x_0*x_1^4*x_2*x_3*x_4^3*x_5^2 + x_0*x_1^3*x_2^4*x_3^3*x_5 + x_0*x_1^3*x_2^2*x_3^2*x_4^2*x_5^2 + x_0*x_1^3*x_3*x_4^4*x_5^3 + x_0*x_1^2*x_2^3*x_3^3*x_4*x_5^2 + x_0*x_1^2*x_2*x_3^2*x_4^3*x_5^3 + x_0*x_1*x_2^4*x_3^4*x_5^2 + x_0*x_1*x_2^2*x_3^3*x_4^2*x_5^3 + x_0*x_1*x_3^2*x_4^4*x_5^4 + x_0*x_2^3*x_3^4*x_4*x_5^3 + x_0*x_2*x_3^3*x_4^3*x_5^4 + x_1^8*x_2^2*x_4^2 + x_1^7*x_2^3*x_3*x_4 + x_1^7*x_2*x_4^3*x_5 + x_1^6*x_2^4*x_3^2 + x_1^6*x_2^2*x_3*x_4^2*x_5 + x_1^6*x_4^4*x_5^2 + x_1^5*x_2^3*x_3^2*x_4*x_5 + x_1^5*x_2*x_3*x_4^3*x_5^2 + x_1^4*x_2^4*x_3^3*x_5 + x_1^4*x_2^2*x_3^2*x_4^2*x_5^2 + x_1^4*x_3*x_4^4*x_5^3 + x_1^3*x_2^3*x_3^3*x_4*x_5^2 + x_1^3*x_2*x_3^2*x_4^3*x_5^3 + x_1^2*x_2^4*x_3^4*x_5^2 + x_1^2*x_2^2*x_3^3*x_4^2*x_5^3 + x_1^2*x_3^2*x_4^4*x_5^4 + x_1*x_2^3*x_3^4*x_4*x_5^3 + x_1*x_2*x_3^3*x_4^3*x_5^4 + x_2^4*x_3^5*x_5^3 + x_2^2*x_3^4*x_4^2*x_5^4 + x_3^3*x_4^4*x_5^5"
      ]
     },
     "execution_count": 255,
     "metadata": {},
     "output_type": "execute_result"
    }
   ],
   "source": [
    "P_invol"
   ]
  },
  {
   "cell_type": "code",
   "execution_count": 249,
   "metadata": {},
   "outputs": [
    {
     "data": {
      "text/plain": [
       "(x_0, x_1, x_4, x_5, x_2, x_3, x_6)"
      ]
     },
     "execution_count": 249,
     "metadata": {},
     "output_type": "execute_result"
    }
   ],
   "source": [
    "cohom_ring_gens_invol"
   ]
  },
  {
   "cell_type": "code",
   "execution_count": 250,
   "metadata": {},
   "outputs": [
    {
     "data": {
      "text/plain": [
       "(x_0, x_1, x_2, x_3, x_4, x_5, x_6)"
      ]
     },
     "execution_count": 250,
     "metadata": {},
     "output_type": "execute_result"
    }
   ],
   "source": [
    "cohom_ring.gens()"
   ]
  },
  {
   "cell_type": "code",
   "execution_count": 6,
   "metadata": {},
   "outputs": [
    {
     "data": {
      "text/latex": [
       "$\\displaystyle \\frac{x_{0} + x_{1} + 2 x_{3} + x_{4} + 5 x_{6}}{x_{0} + x_{1} + x_{2} + 2 x_{5} + 5 x_{6}}$"
      ],
      "text/plain": [
       "(x_0 + x_1 + 2*x_3 + x_4 + 5*x_6)/(x_0 + x_1 + x_2 + 2*x_5 + 5*x_6)"
      ]
     },
     "execution_count": 6,
     "metadata": {},
     "output_type": "execute_result"
    }
   ],
   "source": [
    "from sympy import symarray\n",
    "xs = symarray('x', ndivs)\n",
    "sxs = xs[[i ^ invol for i in range(len(xs))]]\n",
    "((rescws.T @ sxs).prod() / (rescws.T @ xs).prod()).simplify()"
   ]
  },
  {
   "cell_type": "code",
   "execution_count": 7,
   "metadata": {},
   "outputs": [
    {
     "data": {
      "text/latex": [
       "$\\displaystyle \\left(x_{2} + x_{4} + 2 x_{6}\\right) \\left(x_{0} + x_{1} + x_{3} + x_{5} + 4 x_{6}\\right) \\left(x_{0} + x_{1} + 2 x_{3} + x_{4} + 5 x_{6}\\right)$"
      ],
      "text/plain": [
       "(x_2 + x_4 + 2*x_6)*(x_0 + x_1 + x_3 + x_5 + 4*x_6)*(x_0 + x_1 + 2*x_3 + x_4 + 5*x_6)"
      ]
     },
     "execution_count": 7,
     "metadata": {},
     "output_type": "execute_result"
    }
   ],
   "source": [
    "(rescws.T @ sxs).prod()"
   ]
  },
  {
   "cell_type": "code",
   "execution_count": 8,
   "metadata": {},
   "outputs": [
    {
     "data": {
      "text/latex": [
       "$\\displaystyle \\left(x_{2} + x_{4} + 2 x_{6}\\right) \\left(x_{0} + x_{1} + x_{2} + 2 x_{5} + 5 x_{6}\\right) \\left(x_{0} + x_{1} + x_{3} + x_{5} + 4 x_{6}\\right)$"
      ],
      "text/plain": [
       "(x_2 + x_4 + 2*x_6)*(x_0 + x_1 + x_2 + 2*x_5 + 5*x_6)*(x_0 + x_1 + x_3 + x_5 + 4*x_6)"
      ]
     },
     "execution_count": 8,
     "metadata": {},
     "output_type": "execute_result"
    }
   ],
   "source": [
    "(rescws.T @ xs).prod()"
   ]
  },
  {
   "cell_type": "code",
   "execution_count": 93,
   "metadata": {},
   "outputs": [
    {
     "data": {
      "text/plain": [
       "[{'OIDEAL': ['x3^2*x4-x5^2*x6'], 'ODIM': 7},\n",
       " {'OIDEAL': ['x1', 'x2', 'x3^2*x4+x5^2*x6'], 'ODIM': 3}]"
      ]
     },
     "execution_count": 93,
     "metadata": {},
     "output_type": "execute_result"
    }
   ],
   "source": [
    "ex['OPLANES']"
   ]
  },
  {
   "cell_type": "code",
   "execution_count": 94,
   "metadata": {},
   "outputs": [],
   "source": [
    "import numpy as np\n",
    "from sage.rings.integer_ring import ZZ\n",
    "from sage.matrix.all import matrix\n",
    "R = matrix(ZZ, rescws)\n",
    "D = R[invol.array_form] - R\n",
    "a = D.left_kernel().matrix()"
   ]
  },
  {
   "cell_type": "code",
   "execution_count": 83,
   "metadata": {
    "tags": []
   },
   "outputs": [],
   "source": [
    "from sage.geometry.polyhedron.constructor import Polyhedron\n",
    "K = R.left_kernel()\n",
    "K_poly = Polyhedron(lines=K.matrix().rows())\n",
    "K_poly_pos = K_poly.intersection(Polyhedron(rays=np.eye(K.degree())))\n",
    "K_pos = matrix(ZZ, K_poly_pos.rays_list())"
   ]
  },
  {
   "cell_type": "code",
   "execution_count": 95,
   "metadata": {},
   "outputs": [
    {
     "data": {
      "text/plain": [
       "[1 0 0 0 0 0 0]\n",
       "[0 1 0 0 0 0 0]\n",
       "[0 0 1 0 1 0 0]\n",
       "[0 0 0 1 0 1 0]\n",
       "[0 0 0 0 2 1 0]\n",
       "[0 0 0 0 0 0 1]"
      ]
     },
     "execution_count": 95,
     "metadata": {},
     "output_type": "execute_result"
    }
   ],
   "source": [
    "a"
   ]
  },
  {
   "cell_type": "code",
   "execution_count": 92,
   "metadata": {},
   "outputs": [
    {
     "data": {
      "text/plain": [
       "[ 0  0 -1]\n",
       "[ 0  0 -1]\n",
       "[ 0  0  4]\n",
       "[ 0  0 -2]\n",
       "[ 0  0  3]"
      ]
     },
     "execution_count": 92,
     "metadata": {},
     "output_type": "execute_result"
    }
   ],
   "source": [
    "a * R"
   ]
  },
  {
   "cell_type": "code",
   "execution_count": 76,
   "metadata": {},
   "outputs": [
    {
     "data": {
      "text/plain": [
       "Free module of degree 3 and rank 2 over Integer Ring\n",
       "Echelon basis matrix:\n",
       "[2 0 1]\n",
       "[0 1 1]"
      ]
     },
     "execution_count": 76,
     "metadata": {},
     "output_type": "execute_result"
    }
   ],
   "source": [
    "(a * R).row_space()"
   ]
  },
  {
   "cell_type": "code",
   "execution_count": 358,
   "metadata": {},
   "outputs": [],
   "source": [
    "from sage.rings.rational_field import QQ\n",
    "P = QQ[[f'x_{i}' for i in range(ndivs)]]\n",
    "xs = matrix(P, P.gens())"
   ]
  },
  {
   "cell_type": "code",
   "execution_count": 374,
   "metadata": {},
   "outputs": [
    {
     "data": {
      "text/plain": [
       "[1 0 0 0 0 0 0]\n",
       "[0 1 0 0 0 0 0]\n",
       "[0 0 1 0 1 0 0]\n",
       "[0 0 0 1 0 1 0]\n",
       "[0 0 0 0 2 1 0]\n",
       "[0 0 0 0 0 0 1]"
      ]
     },
     "execution_count": 374,
     "metadata": {},
     "output_type": "execute_result"
    }
   ],
   "source": [
    "a.row_space().matrix()"
   ]
  },
  {
   "cell_type": "code",
   "execution_count": 57,
   "metadata": {},
   "outputs": [
    {
     "data": {
      "text/plain": [
       "[2 0 0 0 0 0 0]\n",
       "[0 2 0 0 0 0 0]\n",
       "[0 0 2 0 2 0 0]\n",
       "[0 0 0 1 0 1 0]\n",
       "[0 0 0 0 0 0 2]"
      ]
     },
     "execution_count": 57,
     "metadata": {},
     "output_type": "execute_result"
    }
   ],
   "source": [
    "(a[:, invol.array_form] + a).row_space().matrix()"
   ]
  },
  {
   "cell_type": "code",
   "execution_count": 58,
   "metadata": {},
   "outputs": [
    {
     "data": {
      "text/plain": [
       "[ 0  0  2  1 -2 -1  0]"
      ]
     },
     "execution_count": 58,
     "metadata": {},
     "output_type": "execute_result"
    }
   ],
   "source": [
    "(a[:, invol.array_form] - a).row_space().matrix()"
   ]
  },
  {
   "cell_type": "code",
   "execution_count": 162,
   "metadata": {},
   "outputs": [
    {
     "data": {
      "text/plain": [
       "[{'OIDEAL': ['x3^2*x4-x5^2*x6'], 'ODIM': 7},\n",
       " {'OIDEAL': ['x1', 'x2', 'x3^2*x4+x5^2*x6'], 'ODIM': 3}]"
      ]
     },
     "execution_count": 162,
     "metadata": {},
     "output_type": "execute_result"
    }
   ],
   "source": []
  },
  {
   "cell_type": "code",
   "execution_count": 164,
   "metadata": {},
   "outputs": [
    {
     "data": {
      "text/plain": [
       "'{D3->D5,D5->D3,D4->D6,D6->D4}'"
      ]
     },
     "execution_count": 164,
     "metadata": {},
     "output_type": "execute_result"
    }
   ],
   "source": [
    "ex['INVOL']"
   ]
  },
  {
   "cell_type": "code",
   "execution_count": 80,
   "metadata": {},
   "outputs": [
    {
     "data": {
      "text/plain": [
       "array([[ 0.        ,  1.        ,  0.        ,  0.        ,  0.        ,\n",
       "         0.        ],\n",
       "       [ 1.        ,  0.        ,  0.        ,  0.        ,  0.        ,\n",
       "         0.        ],\n",
       "       [ 0.        ,  0.        ,  0.63245553,  0.31622777, -0.63245553,\n",
       "         0.        ],\n",
       "       [ 0.        ,  0.        ,  0.69610123, -0.15194939,  0.30389877,\n",
       "         0.        ],\n",
       "       [ 0.        ,  0.        , -0.15194939,  0.92402531,  0.15194939,\n",
       "         0.        ],\n",
       "       [ 0.        ,  0.        ,  0.30389877,  0.15194939,  0.69610123,\n",
       "         0.        ],\n",
       "       [ 0.        ,  0.        ,  0.        ,  0.        ,  0.        ,\n",
       "         1.        ]])"
      ]
     },
     "execution_count": 80,
     "metadata": {},
     "output_type": "execute_result"
    }
   ],
   "source": [
    "import scipy.linalg\n",
    "\n",
    "scipy.linalg.null_space(D)"
   ]
  },
  {
   "cell_type": "code",
   "execution_count": 87,
   "metadata": {},
   "outputs": [],
   "source": [
    "D = (rescws[invol.array_form] - rescws).T\n",
    "U, S, V = np.linalg.svd(D)"
   ]
  },
  {
   "cell_type": "code",
   "execution_count": 88,
   "metadata": {},
   "outputs": [
    {
     "data": {
      "text/plain": [
       "array([[3.16227766, 0.        , 0.        ],\n",
       "       [0.        , 0.        , 0.        ],\n",
       "       [0.        , 0.        , 0.        ]])"
      ]
     },
     "execution_count": 88,
     "metadata": {},
     "output_type": "execute_result"
    }
   ],
   "source": [
    "np.diag(S)"
   ]
  },
  {
   "cell_type": "code",
   "execution_count": 86,
   "metadata": {},
   "outputs": [
    {
     "data": {
      "text/plain": [
       "array([[ 0.        ,  0.        , -0.31622777,  0.63245553,  0.31622777,\n",
       "        -0.63245553,  0.        ],\n",
       "       [ 0.        ,  1.        ,  0.        ,  0.        ,  0.        ,\n",
       "         0.        ,  0.        ],\n",
       "       [ 1.        ,  0.        ,  0.        ,  0.        ,  0.        ,\n",
       "         0.        ,  0.        ],\n",
       "       [ 0.        ,  0.        ,  0.63245553,  0.69610123, -0.15194939,\n",
       "         0.30389877,  0.        ],\n",
       "       [ 0.        ,  0.        ,  0.31622777, -0.15194939,  0.92402531,\n",
       "         0.15194939,  0.        ],\n",
       "       [ 0.        ,  0.        , -0.63245553,  0.30389877,  0.15194939,\n",
       "         0.69610123,  0.        ],\n",
       "       [ 0.        ,  0.        ,  0.        ,  0.        ,  0.        ,\n",
       "         0.        ,  1.        ]])"
      ]
     },
     "execution_count": 86,
     "metadata": {},
     "output_type": "execute_result"
    }
   ],
   "source": [
    "V"
   ]
  },
  {
   "cell_type": "code",
   "execution_count": 70,
   "metadata": {},
   "outputs": [
    {
     "data": {
      "text/plain": [
       "(7, 7)"
      ]
     },
     "execution_count": 70,
     "metadata": {},
     "output_type": "execute_result"
    }
   ],
   "source": [
    "U.shape"
   ]
  },
  {
   "cell_type": "code",
   "execution_count": 72,
   "metadata": {},
   "outputs": [
    {
     "data": {
      "text/plain": [
       "array([[0.        , 0.        , 3.16227766],\n",
       "       [0.        , 0.        , 0.        ],\n",
       "       [0.        , 0.        , 0.        ]])"
      ]
     },
     "execution_count": 72,
     "metadata": {},
     "output_type": "execute_result"
    }
   ],
   "source": [
    "np.diag(S) @ V"
   ]
  },
  {
   "cell_type": "code",
   "execution_count": null,
   "metadata": {},
   "outputs": [],
   "source": [
    "a.associated_primes()"
   ]
  }
 ],
 "metadata": {
  "kernelspec": {
   "display_name": "Python 3",
   "language": "python",
   "name": "python3"
  },
  "language_info": {
   "codemirror_mode": {
    "name": "ipython",
    "version": 3
   },
   "file_extension": ".py",
   "mimetype": "text/x-python",
   "name": "python",
   "nbconvert_exporter": "python",
   "pygments_lexer": "ipython3",
   "version": "3.8.5"
  }
 },
 "nbformat": 4,
 "nbformat_minor": 4
}

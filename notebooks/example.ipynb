{
 "cells": [
  {
   "cell_type": "code",
   "execution_count": 1,
   "metadata": {},
   "outputs": [
    {
     "name": "stderr",
     "output_type": "stream",
     "text": [
      "Python-dotenv could not parse statement starting at line 69\n",
      "Python-dotenv could not parse statement starting at line 105\n",
      "Python-dotenv could not parse statement starting at line 106\n",
      "Python-dotenv could not parse statement starting at line 115\n",
      "Python-dotenv could not parse statement starting at line 116\n",
      "Python-dotenv could not parse statement starting at line 117\n",
      "Python-dotenv could not parse statement starting at line 119\n",
      "Python-dotenv could not parse statement starting at line 120\n",
      "Python-dotenv could not parse statement starting at line 121\n",
      "Python-dotenv could not parse statement starting at line 122\n"
     ]
    }
   ],
   "source": [
    "import os\n",
    "from dotenv import load_dotenv\n",
    "HOME = os.getenv('HOME')\n",
    "load_dotenv(f'{HOME}/.zshrc')\n",
    "\n",
    "import sys\n",
    "sys.path.insert(0, '../scripts')\n",
    "import compare_methods as cm\n",
    "\n",
    "import numpy as np\n",
    "from sage.rings.polynomial.multi_polynomial_ideal import MPolynomialIdeal\n",
    "from sage.misc.sage_eval import sage_eval\n",
    "from sage.rings.rational_field import QQ"
   ]
  },
  {
   "cell_type": "code",
   "execution_count": 167,
   "metadata": {},
   "outputs": [
    {
     "name": "stdout",
     "output_type": "stream",
     "text": [
      "{'prev': 1, 'curr': 1}\n",
      "{'GEOMN': 1,\n",
      " 'H11': 2,\n",
      " 'INVOLN': 1,\n",
      " 'OPLANES': [{'ODIM': 5, 'OIDEAL': ['x0*x4 - x2*x5', '-x1*x2 + x0*x3']}],\n",
      " 'POLYID': 10,\n",
      " 'TRIANGN': 1}\n",
      "{'GEOMN': 1,\n",
      " 'H11': 2,\n",
      " 'INVOLN': 1,\n",
      " 'OPLANES': [{'ODIM': 5,\n",
      "              'OIDEAL': ['x1*x4 - x3*x5', 'x0*x4 - x2*x5', '-x1*x2 + x0*x3']}],\n",
      " 'POLYID': 10,\n",
      " 'TRIANGN': 1}\n",
      "\n",
      "{'prev': 1, 'curr': 1}\n",
      "{'GEOMN': 1,\n",
      " 'H11': 2,\n",
      " 'INVOLN': 5,\n",
      " 'OPLANES': [{'ODIM': 5, 'OIDEAL': ['x0*x3 - x4*x5', 'x0*x2 - x1*x4']}],\n",
      " 'POLYID': 6,\n",
      " 'TRIANGN': 1}\n",
      "{'GEOMN': 1,\n",
      " 'H11': 2,\n",
      " 'INVOLN': 5,\n",
      " 'OPLANES': [{'ODIM': 5,\n",
      "              'OIDEAL': ['x1*x3 - x2*x5', 'x0*x3 - x4*x5', 'x0*x2 - x1*x4']}],\n",
      " 'POLYID': 6,\n",
      " 'TRIANGN': 1}\n",
      "\n",
      "{'prev': 1.0, 'curr': 1}\n",
      "{'GEOMN': 1,\n",
      " 'H11': 2,\n",
      " 'INVOLN': 2,\n",
      " 'OPLANES': [{'ODIM': 5, 'OIDEAL': ['x0*x3 - x2*x5', '-x1*x2 + x0*x4']}],\n",
      " 'POLYID': 6,\n",
      " 'TRIANGN': 1}\n",
      "{'GEOMN': 1,\n",
      " 'H11': 2,\n",
      " 'INVOLN': 2,\n",
      " 'OPLANES': [{'ODIM': 5,\n",
      "              'OIDEAL': ['x1*x2*x3 + x0*x3*x4 + x2*x4*x5',\n",
      "                         'x0*x1*x3 + x1*x2*x5 + x0*x4*x5',\n",
      "                         'x1^2*x3^2 + x1*x3*x4*x5 + x4^2*x5^2',\n",
      "                         'x0^2*x3^2 + x0*x2*x3*x5 + x2^2*x5^2',\n",
      "                         '-x1^2*x2*x3 + x0*x4^2*x5',\n",
      "                         'x1^2*x2^2 + x0*x1*x2*x4 + x0^2*x4^2']},\n",
      "             {'ODIM': 5,\n",
      "              'OIDEAL': ['x1*x3 - x4*x5', 'x0*x3 - x2*x5', '-x1*x2 + x0*x4']}],\n",
      " 'POLYID': 6,\n",
      " 'TRIANGN': 1}\n",
      "\n",
      "{'prev': 1, 'curr': 1}\n",
      "{'GEOMN': 1,\n",
      " 'H11': 2,\n",
      " 'INVOLN': 1,\n",
      " 'OPLANES': [{'ODIM': 5, 'OIDEAL': ['x0*x4 - x2*x5', '-x1*x2 + x0*x3']}],\n",
      " 'POLYID': 6,\n",
      " 'TRIANGN': 1}\n",
      "{'GEOMN': 1,\n",
      " 'H11': 2,\n",
      " 'INVOLN': 1,\n",
      " 'OPLANES': [{'ODIM': 5,\n",
      "              'OIDEAL': ['x1*x4 - x3*x5', 'x0*x4 - x2*x5', '-x1*x2 + x0*x3']}],\n",
      " 'POLYID': 6,\n",
      " 'TRIANGN': 1}\n",
      "\n",
      "{'prev': 1, 'curr': 1}\n",
      "{'GEOMN': 1,\n",
      " 'H11': 2,\n",
      " 'INVOLN': 2,\n",
      " 'OPLANES': [{'ODIM': 5, 'OIDEAL': ['x0*x3 - x2*x5', '-x1*x2 + x0*x4']}],\n",
      " 'POLYID': 10,\n",
      " 'TRIANGN': 1}\n",
      "{'GEOMN': 1,\n",
      " 'H11': 2,\n",
      " 'INVOLN': 2,\n",
      " 'OPLANES': [{'ODIM': 5,\n",
      "              'OIDEAL': ['x1*x3 - x4*x5', 'x0*x3 - x2*x5', '-x1*x2 + x0*x4']}],\n",
      " 'POLYID': 10,\n",
      " 'TRIANGN': 1}\n",
      "\n",
      "{'prev': 1, 'curr': 1}\n",
      "{'GEOMN': 1,\n",
      " 'H11': 2,\n",
      " 'INVOLN': 6,\n",
      " 'OPLANES': [{'ODIM': 5, 'OIDEAL': ['x0*x3 - x1*x4', 'x0*x2 - x4*x5']}],\n",
      " 'POLYID': 6,\n",
      " 'TRIANGN': 1}\n",
      "{'GEOMN': 1,\n",
      " 'H11': 2,\n",
      " 'INVOLN': 6,\n",
      " 'OPLANES': [{'ODIM': 5,\n",
      "              'OIDEAL': ['x0*x2*x3 + x1*x2*x4 + x3*x4*x5',\n",
      "                         'x0*x1*x2 + x0*x3*x5 + x1*x4*x5',\n",
      "                         '-x1^2*x2*x4 + x0*x3^2*x5',\n",
      "                         'x0^2*x3^2 + x0*x1*x3*x4 + x1^2*x4^2',\n",
      "                         'x1^2*x2^2 + x1*x2*x3*x5 + x3^2*x5^2',\n",
      "                         'x0^2*x2^2 + x0*x2*x4*x5 + x4^2*x5^2']},\n",
      "             {'ODIM': 5,\n",
      "              'OIDEAL': ['x0*x3 - x1*x4', 'x1*x2 - x3*x5', 'x0*x2 - x4*x5']}],\n",
      " 'POLYID': 6,\n",
      " 'TRIANGN': 1}\n",
      "\n",
      "{'prev': 1, 'curr': 1}\n",
      "{'GEOMN': 1,\n",
      " 'H11': 2,\n",
      " 'INVOLN': 6,\n",
      " 'OPLANES': [{'ODIM': 5, 'OIDEAL': ['x0*x3 - x1*x4', 'x0*x2 - x4*x5']}],\n",
      " 'POLYID': 10,\n",
      " 'TRIANGN': 1}\n",
      "{'GEOMN': 1,\n",
      " 'H11': 2,\n",
      " 'INVOLN': 6,\n",
      " 'OPLANES': [{'ODIM': 5,\n",
      "              'OIDEAL': ['x0*x3 - x1*x4', 'x1*x2 - x3*x5', 'x0*x2 - x4*x5']}],\n",
      " 'POLYID': 10,\n",
      " 'TRIANGN': 1}\n",
      "\n",
      "{'prev': 1, 'curr': 1}\n",
      "{'GEOMN': 1,\n",
      " 'H11': 2,\n",
      " 'INVOLN': 3,\n",
      " 'OPLANES': [{'ODIM': 5, 'OIDEAL': ['x0*x4 - x3*x5', 'x0*x2 - x1*x3']}],\n",
      " 'POLYID': 6,\n",
      " 'TRIANGN': 1}\n",
      "{'GEOMN': 1,\n",
      " 'H11': 2,\n",
      " 'INVOLN': 3,\n",
      " 'OPLANES': [{'ODIM': 5,\n",
      "              'OIDEAL': ['x0*x2*x4 + x1*x3*x4 + x2*x3*x5',\n",
      "                         'x0*x1*x4 + x0*x2*x5 + x1*x3*x5',\n",
      "                         'x1^2*x4^2 + x1*x2*x4*x5 + x2^2*x5^2',\n",
      "                         'x0^2*x4^2 + x0*x3*x4*x5 + x3^2*x5^2',\n",
      "                         '-x1^2*x3*x4 + x0*x2^2*x5',\n",
      "                         'x0^2*x2^2 + x0*x1*x2*x3 + x1^2*x3^2']},\n",
      "             {'ODIM': 5,\n",
      "              'OIDEAL': ['x1*x4 - x2*x5', 'x0*x4 - x3*x5', 'x0*x2 - x1*x3']}],\n",
      " 'POLYID': 6,\n",
      " 'TRIANGN': 1}\n",
      "\n",
      "{'prev': 1, 'curr': 1}\n",
      "{'GEOMN': 1,\n",
      " 'H11': 2,\n",
      " 'INVOLN': 5,\n",
      " 'OPLANES': [{'ODIM': 5, 'OIDEAL': ['x0*x3 - x4*x5', 'x0*x2 - x1*x4']}],\n",
      " 'POLYID': 10,\n",
      " 'TRIANGN': 1}\n",
      "{'GEOMN': 1,\n",
      " 'H11': 2,\n",
      " 'INVOLN': 5,\n",
      " 'OPLANES': [{'ODIM': 5,\n",
      "              'OIDEAL': ['x1*x3 - x2*x5', 'x0*x3 - x4*x5', 'x0*x2 - x1*x4']}],\n",
      " 'POLYID': 10,\n",
      " 'TRIANGN': 1}\n",
      "\n",
      "{'prev': 1, 'curr': 1}\n",
      "{'GEOMN': 1,\n",
      " 'H11': 2,\n",
      " 'INVOLN': 4,\n",
      " 'OPLANES': [{'ODIM': 5, 'OIDEAL': ['-x1*x3 + x0*x4', 'x0*x2 - x3*x5']}],\n",
      " 'POLYID': 6,\n",
      " 'TRIANGN': 1}\n",
      "{'GEOMN': 1,\n",
      " 'H11': 2,\n",
      " 'INVOLN': 4,\n",
      " 'OPLANES': [{'ODIM': 5,\n",
      "              'OIDEAL': ['-x1*x3 + x0*x4', 'x1*x2 - x4*x5', 'x0*x2 - x3*x5']}],\n",
      " 'POLYID': 6,\n",
      " 'TRIANGN': 1}\n",
      "\n",
      "{'prev': 1, 'curr': 1}\n",
      "{'GEOMN': 1,\n",
      " 'H11': 2,\n",
      " 'INVOLN': 3,\n",
      " 'OPLANES': [{'ODIM': 5, 'OIDEAL': ['x0*x4 - x3*x5', 'x0*x2 - x1*x3']}],\n",
      " 'POLYID': 10,\n",
      " 'TRIANGN': 1}\n",
      "{'GEOMN': 1,\n",
      " 'H11': 2,\n",
      " 'INVOLN': 3,\n",
      " 'OPLANES': [{'ODIM': 5,\n",
      "              'OIDEAL': ['x1*x4 - x2*x5', 'x0*x4 - x3*x5', 'x0*x2 - x1*x3']}],\n",
      " 'POLYID': 10,\n",
      " 'TRIANGN': 1}\n",
      "\n",
      "{'prev': 1, 'curr': 1}\n",
      "{'GEOMN': 1,\n",
      " 'H11': 2,\n",
      " 'INVOLN': 4,\n",
      " 'OPLANES': [{'ODIM': 5, 'OIDEAL': ['-x1*x3 + x0*x4', 'x0*x2 - x3*x5']}],\n",
      " 'POLYID': 10,\n",
      " 'TRIANGN': 1}\n",
      "{'GEOMN': 1,\n",
      " 'H11': 2,\n",
      " 'INVOLN': 4,\n",
      " 'OPLANES': [{'ODIM': 5,\n",
      "              'OIDEAL': ['-x1*x3 + x0*x4', 'x1*x2 - x4*x5', 'x0*x2 - x3*x5']}],\n",
      " 'POLYID': 10,\n",
      " 'TRIANGN': 1}\n",
      "\n"
     ]
    }
   ],
   "source": [
    "import json\n",
    "from pprint import pprint\n",
    "count = 0\n",
    "with open('../data/h11_2.json', 'r') as fh:\n",
    "    for line in fh:\n",
    "        doc = json.loads(line)\n",
    "        doc_ids = {k: v for k, v in doc.items() if k in ['H11', 'POLYID', 'GEOMN', 'TRIANGN', 'INVOLN']}\n",
    "        if doc['OPLANES']['prev'] != doc['OPLANES']['curr']:\n",
    "            print(doc['VOLFORMPARITY'])\n",
    "            count += 1\n",
    "            doc_ids.update({'OPLANES': doc['OPLANES']['prev']})\n",
    "            pprint(doc_ids)\n",
    "            doc_ids.update({'OPLANES': doc['OPLANES']['curr']})\n",
    "            pprint(doc_ids)\n",
    "            print('')"
   ]
  },
  {
   "cell_type": "code",
   "execution_count": 165,
   "metadata": {},
   "outputs": [
    {
     "data": {
      "text/plain": [
       "112"
      ]
     },
     "execution_count": 165,
     "metadata": {},
     "output_type": "execute_result"
    }
   ],
   "source": [
    "count"
   ]
  },
  {
   "cell_type": "code",
   "execution_count": 13,
   "metadata": {},
   "outputs": [],
   "source": [
    "result = cm.sample_format_inputs({'H11': 3, 'VOLFORMPARITY': -1})"
   ]
  },
  {
   "cell_type": "code",
   "execution_count": 121,
   "metadata": {},
   "outputs": [],
   "source": [
    "import numpy as np\n",
    "invol = result['INVOL']\n",
    "rescws = result['RESCWS']\n",
    "X = np.array(R.gens())"
   ]
  },
  {
   "cell_type": "code",
   "execution_count": 129,
   "metadata": {},
   "outputs": [
    {
     "data": {
      "text/latex": [
       "$\\displaystyle \\left( 0\\; 3\\right)\\left( 2\\; 5\\right)\\left( 6\\right)$"
      ],
      "text/plain": [
       "Permutation(6)(0, 3)(2, 5)"
      ]
     },
     "execution_count": 129,
     "metadata": {},
     "output_type": "execute_result"
    }
   ],
   "source": [
    "invol"
   ]
  },
  {
   "cell_type": "code",
   "execution_count": 128,
   "metadata": {},
   "outputs": [
    {
     "data": {
      "text/plain": [
       "array([[0, 0, 1],\n",
       "       [0, 1, 0],\n",
       "       [1, 0, 0],\n",
       "       [1, 0, 0],\n",
       "       [0, 1, 0],\n",
       "       [0, 0, 1],\n",
       "       [2, 2, 2]])"
      ]
     },
     "execution_count": 128,
     "metadata": {},
     "output_type": "execute_result"
    }
   ],
   "source": [
    "rescws"
   ]
  },
  {
   "cell_type": "code",
   "execution_count": 130,
   "metadata": {},
   "outputs": [
    {
     "data": {
      "text/plain": [
       "array([[1, 0, 0],\n",
       "       [0, 1, 0],\n",
       "       [0, 0, 1],\n",
       "       [0, 0, 1],\n",
       "       [0, 1, 0],\n",
       "       [1, 0, 0],\n",
       "       [2, 2, 2]])"
      ]
     },
     "execution_count": 130,
     "metadata": {},
     "output_type": "execute_result"
    }
   ],
   "source": [
    "np.array(invol(rescws))"
   ]
  },
  {
   "cell_type": "code",
   "execution_count": 116,
   "metadata": {},
   "outputs": [],
   "source": [
    "from itertools import combinations, permutations\n",
    "from sympy.combinatorics.permutations import Permutation"
   ]
  },
  {
   "cell_type": "code",
   "execution_count": 144,
   "metadata": {},
   "outputs": [
    {
     "data": {
      "text/plain": [
       "array([5.])"
      ]
     },
     "execution_count": 144,
     "metadata": {},
     "output_type": "execute_result"
    }
   ],
   "source": [
    "a = np.empty(0)\n",
    "np.append(a, [5])"
   ]
  },
  {
   "cell_type": "code",
   "execution_count": 141,
   "metadata": {},
   "outputs": [
    {
     "data": {
      "text/plain": [
       "array([4])"
      ]
     },
     "execution_count": 141,
     "metadata": {},
     "output_type": "execute_result"
    }
   ],
   "source": [
    "a"
   ]
  },
  {
   "cell_type": "code",
   "execution_count": 148,
   "metadata": {},
   "outputs": [],
   "source": [
    "def compute_volformparity(rescws, invol):\n",
    "    k, m = rescws.shape\n",
    "    n = k - m\n",
    "    vform = np.empty(0)\n",
    "    vform_invol = np.empty(0)\n",
    "    for c in combinations(range(k), n):\n",
    "        term = 0\n",
    "        term_invol = 0\n",
    "        nc = tuple(set(range(k)) - set(c))\n",
    "        for p in permutations(nc, k - n):\n",
    "            p_c = Permutation(p + c)\n",
    "            term += p_c.signature() * rescws[p, range(k - n)].prod()\n",
    "            term_invol += (invol * p_c).signature() * rescws[invol.array_form][p, range(k - n)].prod()\n",
    "        vform = np.append(vform, [term])\n",
    "        vform_invol = np.append(vform_invol, [term_invol])\n",
    "    if (vform == vform_invol).all():\n",
    "        return 1\n",
    "    elif (vform == -vform_invol).all():\n",
    "        return -1\n",
    "    else:\n",
    "        return 0"
   ]
  },
  {
   "cell_type": "code",
   "execution_count": 151,
   "metadata": {},
   "outputs": [
    {
     "data": {
      "text/plain": [
       "array([ True,  True,  True,  True,  True,  True,  True,  True,  True,\n",
       "        True,  True,  True,  True,  True,  True,  True,  True,  True,\n",
       "        True,  True,  True,  True,  True,  True,  True,  True,  True,\n",
       "        True,  True,  True,  True,  True,  True,  True,  True])"
      ]
     },
     "execution_count": 151,
     "metadata": {},
     "output_type": "execute_result"
    }
   ],
   "source": [
    "vform == -vform_invol"
   ]
  },
  {
   "cell_type": "code",
   "execution_count": 117,
   "metadata": {},
   "outputs": [],
   "source": [
    "k, n = result['DRESVERTS'].shape\n",
    "R = cm.build_ring(k)\n",
    "P_monoms = cm.compute_monomials(R, result['NVERTS'], result['DRESVERTS'])\n",
    "srideal = cm.compute_srideal(R, result['TRIANG'])\n",
    "fixed_loci = cm.compute_fixed_loci(R, P_monoms, srideal, result['INVOL'])\n",
    "P_diff_ideal = R.ideal(*P_diff).radical()\n",
    "P_monoms_ideal = R.ideal(*P_monoms).radical()\n",
    "fixed_loci = []\n",
    "for loc in P_diff_ideal.minimal_associated_primes():\n",
    "    for s in srideal:\n",
    "        if (P_monoms_ideal + loc).quotient(s).dimension() < 0:\n",
    "            break\n",
    "    else:\n",
    "        fixed_loci.append(loc)"
   ]
  },
  {
   "cell_type": "code",
   "execution_count": 106,
   "metadata": {},
   "outputs": [
    {
     "data": {
      "text/plain": [
       "Ideal (1) of Multivariate Polynomial Ring in x0, x1, x2, x3, x4, x5, x6 over Rational Field"
      ]
     },
     "execution_count": 106,
     "metadata": {},
     "output_type": "execute_result"
    }
   ],
   "source": [
    "(R.ideal(*P_monoms).radical() + fixed_loci[0]).quotient(srideal[2])"
   ]
  },
  {
   "cell_type": "code",
   "execution_count": 15,
   "metadata": {},
   "outputs": [],
   "source": [
    "X = np.array(R.gens())\n",
    "X_sub = dict(zip(X, X[result['INVOL'].array_form]))\n",
    "P_diff = [x - x.subs(X_sub) for x in P_monoms]\n",
    "hysurf_diff_ideal = R.ideal(*P_diff).radical()\n",
    "srideal_intersection = MPolynomialIdeal.intersection(*srideal).radical()\n",
    "hysurf_diff_ideal = hysurf_diff_ideal.quotient(srideal_intersection)\n",
    "fixed_loci1 = hysurf_diff_ideal.minimal_associated_primes()"
   ]
  },
  {
   "cell_type": "code",
   "execution_count": 108,
   "metadata": {},
   "outputs": [
    {
     "data": {
      "text/plain": [
       "[{'OIDEAL': ['x1*x3-x4*x6'], 'ODIM': 7}]"
      ]
     },
     "execution_count": 108,
     "metadata": {},
     "output_type": "execute_result"
    }
   ],
   "source": [
    "result['OPLANES']"
   ]
  },
  {
   "cell_type": "code",
   "execution_count": 113,
   "metadata": {},
   "outputs": [
    {
     "data": {
      "text/plain": [
       "[Ideal (x4, x1) of Multivariate Polynomial Ring in x0, x1, x2, x3, x4, x5, x6 over Rational Field,\n",
       " Ideal (x0*x2 - x3*x5) of Multivariate Polynomial Ring in x0, x1, x2, x3, x4, x5, x6 over Rational Field]"
      ]
     },
     "execution_count": 113,
     "metadata": {},
     "output_type": "execute_result"
    }
   ],
   "source": [
    "fixed_loci"
   ]
  },
  {
   "cell_type": "code",
   "execution_count": 32,
   "metadata": {},
   "outputs": [
    {
     "data": {
      "text/plain": [
       "Ideal (x3*x5*x6, x2*x5*x6, x0*x3*x6, x0*x2*x6, x3*x4*x5, x2*x4*x5, x1*x3*x5, x1*x2*x5, x0*x3*x4, x0*x2*x4, x0*x1*x3, x0*x1*x2) of Multivariate Polynomial Ring in x0, x1, x2, x3, x4, x5, x6 over Rational Field"
      ]
     },
     "execution_count": 32,
     "metadata": {},
     "output_type": "execute_result"
    }
   ],
   "source": [
    "srideal_intersection"
   ]
  },
  {
   "cell_type": "code",
   "execution_count": 51,
   "metadata": {},
   "outputs": [
    {
     "data": {
      "text/plain": [
       "Ideal (x6, x3*x4*x5, x2*x4*x5, x1*x3*x5, x1*x2*x5, x0*x3*x4, x0*x2*x4, x0*x1*x3, x0*x1*x2) of Multivariate Polynomial Ring in x0, x1, x2, x3, x4, x5, x6 over Rational Field"
      ]
     },
     "execution_count": 51,
     "metadata": {},
     "output_type": "execute_result"
    }
   ],
   "source": [
    "a = (R.ideal(*P_monoms) + srideal_intersection).radical()\n",
    "a"
   ]
  },
  {
   "cell_type": "code",
   "execution_count": 98,
   "metadata": {},
   "outputs": [
    {
     "data": {
      "text/plain": [
       "Ideal (x6, x4, x1) of Multivariate Polynomial Ring in x0, x1, x2, x3, x4, x5, x6 over Rational Field"
      ]
     },
     "execution_count": 98,
     "metadata": {},
     "output_type": "execute_result"
    }
   ],
   "source": [
    "(R.ideal(*P_monoms) + fixed_loci[0] + srideal_intersection).radical()"
   ]
  },
  {
   "cell_type": "code",
   "execution_count": 81,
   "metadata": {},
   "outputs": [
    {
     "data": {
      "text/plain": [
       "[Ideal (x0, x5) of Multivariate Polynomial Ring in x0, x1, x2, x3, x4, x5, x6 over Rational Field,\n",
       " Ideal (x2, x3) of Multivariate Polynomial Ring in x0, x1, x2, x3, x4, x5, x6 over Rational Field,\n",
       " Ideal (x1, x4, x6) of Multivariate Polynomial Ring in x0, x1, x2, x3, x4, x5, x6 over Rational Field]"
      ]
     },
     "execution_count": 81,
     "metadata": {},
     "output_type": "execute_result"
    }
   ],
   "source": [
    "srideal"
   ]
  },
  {
   "cell_type": "code",
   "execution_count": 67,
   "metadata": {},
   "outputs": [
    {
     "data": {
      "text/plain": [
       "Ideal (1) of Multivariate Polynomial Ring in x0, x1, x2, x3, x4, x5, x6 over Rational Field"
      ]
     },
     "execution_count": 67,
     "metadata": {},
     "output_type": "execute_result"
    }
   ],
   "source": [
    "(R.ideal(*P_monoms) + fixed_loci[0]).radical().quotient(srideal[2])"
   ]
  },
  {
   "cell_type": "code",
   "execution_count": 59,
   "metadata": {},
   "outputs": [
    {
     "data": {
      "text/plain": [
       "Ideal (x3*x5*x6, x2*x5*x6, x0*x3*x6, x0*x2*x6, x3*x4*x5, x2*x4*x5, x1*x3*x5, x1*x2*x5, x0*x3*x4, x0*x2*x4, x0*x1*x3, x0*x1*x2) of Multivariate Polynomial Ring in x0, x1, x2, x3, x4, x5, x6 over Rational Field"
      ]
     },
     "execution_count": 59,
     "metadata": {},
     "output_type": "execute_result"
    }
   ],
   "source": [
    "srideal_intersection"
   ]
  },
  {
   "cell_type": "code",
   "execution_count": 36,
   "metadata": {},
   "outputs": [
    {
     "data": {
      "text/plain": [
       "[Ideal (x6, x5, x0) of Multivariate Polynomial Ring in x0, x1, x2, x3, x4, x5, x6 over Rational Field,\n",
       " Ideal (x6, x4, x1) of Multivariate Polynomial Ring in x0, x1, x2, x3, x4, x5, x6 over Rational Field,\n",
       " Ideal (x6, x3, x2) of Multivariate Polynomial Ring in x0, x1, x2, x3, x4, x5, x6 over Rational Field]"
      ]
     },
     "execution_count": 36,
     "metadata": {},
     "output_type": "execute_result"
    }
   ],
   "source": [
    "(a + R.ideal(*P_diff)).minimal_associated_primes()"
   ]
  },
  {
   "cell_type": "code",
   "execution_count": 21,
   "metadata": {},
   "outputs": [
    {
     "data": {
      "text/plain": [
       "[0,\n",
       " 0,\n",
       " 0,\n",
       " 0,\n",
       " 0,\n",
       " 0,\n",
       " 0,\n",
       " 0,\n",
       " 0,\n",
       " 0,\n",
       " 0,\n",
       " 0,\n",
       " 0,\n",
       " 0,\n",
       " 0,\n",
       " 0,\n",
       " 0,\n",
       " 0,\n",
       " 0,\n",
       " 0,\n",
       " 0,\n",
       " 0,\n",
       " 0,\n",
       " 0,\n",
       " 0,\n",
       " 0,\n",
       " 0,\n",
       " 0,\n",
       " 0,\n",
       " 0,\n",
       " 0,\n",
       " 0,\n",
       " 0,\n",
       " 0,\n",
       " 0,\n",
       " 0,\n",
       " 0,\n",
       " 0,\n",
       " 0,\n",
       " 0,\n",
       " 0,\n",
       " 0,\n",
       " 0,\n",
       " 0,\n",
       " 0,\n",
       " 0,\n",
       " 0,\n",
       " 0,\n",
       " 0,\n",
       " 0,\n",
       " 0,\n",
       " 0,\n",
       " 0,\n",
       " 0,\n",
       " 0,\n",
       " 0,\n",
       " 0,\n",
       " 0,\n",
       " 0,\n",
       " 0,\n",
       " 0,\n",
       " 0,\n",
       " 0,\n",
       " 0,\n",
       " 0,\n",
       " 0,\n",
       " 0,\n",
       " 0,\n",
       " 0,\n",
       " 0,\n",
       " 0,\n",
       " 0,\n",
       " 0,\n",
       " 0,\n",
       " 0,\n",
       " 0,\n",
       " 0,\n",
       " 0,\n",
       " 0,\n",
       " 0,\n",
       " 0,\n",
       " 0,\n",
       " 0,\n",
       " 0,\n",
       " 0,\n",
       " 0,\n",
       " 0,\n",
       " 0,\n",
       " 0,\n",
       " 0,\n",
       " 0,\n",
       " 0,\n",
       " 0,\n",
       " 0,\n",
       " 0,\n",
       " 0,\n",
       " 0,\n",
       " 0,\n",
       " 0,\n",
       " 0,\n",
       " 0,\n",
       " 0,\n",
       " 0,\n",
       " 0,\n",
       " 0,\n",
       " 0,\n",
       " 0,\n",
       " 0,\n",
       " 0,\n",
       " 0,\n",
       " 0,\n",
       " 0,\n",
       " 0,\n",
       " 0,\n",
       " 0,\n",
       " 0,\n",
       " 0,\n",
       " 0,\n",
       " x6^2,\n",
       " 0,\n",
       " 0,\n",
       " 0,\n",
       " 0,\n",
       " 0,\n",
       " 0,\n",
       " 0,\n",
       " 0,\n",
       " 0,\n",
       " 0,\n",
       " 0,\n",
       " 0,\n",
       " 0,\n",
       " 0,\n",
       " 0,\n",
       " 0,\n",
       " 0,\n",
       " 0,\n",
       " 0,\n",
       " 0,\n",
       " 0,\n",
       " 0,\n",
       " 0,\n",
       " 0,\n",
       " 0,\n",
       " 0,\n",
       " 0,\n",
       " 0,\n",
       " 0,\n",
       " 0,\n",
       " 0,\n",
       " 0,\n",
       " 0,\n",
       " 0]"
      ]
     },
     "execution_count": 21,
     "metadata": {},
     "output_type": "execute_result"
    }
   ],
   "source": [
    "[x.reduce(srideal_intersection) for x in P_monoms]"
   ]
  },
  {
   "cell_type": "code",
   "execution_count": 66,
   "metadata": {},
   "outputs": [
    {
     "data": {
      "text/plain": [
       "[Ideal (x3^10*x4^5 - x2*x3^8*x4^4*x5 + x2^2*x3^6*x4^3*x5^2 - x2^3*x3^4*x4^2*x5^3 + x2^4*x3^2*x4*x5^4 + x2^5*x5^5, x1*x3^9*x4^4 + x3^8*x4^4*x5 - x2*x3^6*x4^3*x5^2 + x2^2*x3^4*x4^2*x5^3 - x2^3*x3^2*x4*x5^4 - x2^4*x5^5, x1*x2 + x3*x4, x1^2*x3^8*x4^3 + x1*x3^7*x4^3*x5 + x3^6*x4^3*x5^2 - x2*x3^4*x4^2*x5^3 + x2^2*x3^2*x4*x5^4 + x2^3*x5^5, x1^3*x3^7*x4^2 + x1^2*x3^6*x4^2*x5 + x1*x3^5*x4^2*x5^2 + x3^4*x4^2*x5^3 - x2*x3^2*x4*x5^4 - x2^2*x5^5, x1^4*x3^6*x4 + x1^3*x3^5*x4*x5 + x1^2*x3^4*x4*x5^2 + x1*x3^3*x4*x5^3 + x3^2*x4*x5^4 + x2*x5^5, x1^5*x3^5 + x1^4*x3^4*x5 + x1^3*x3^3*x5^2 + x1^2*x3^2*x5^3 + x1*x3*x5^4 - x5^5, x6, x0) of Multivariate Polynomial Ring in x0, x1, x2, x3, x4, x5, x6 over Rational Field,\n",
       " Ideal (x1*x2 - x3*x4, x0^10*x3^6*x4^12 + 2*x0^9*x1*x3^6*x4^11 + 3*x0^8*x1^2*x3^6*x4^10 + 4*x0^7*x1^3*x3^6*x4^9 + x0^8*x1*x3^5*x4^10*x5 + 5*x0^6*x1^4*x3^6*x4^8 + 2*x0^7*x1^2*x3^5*x4^9*x5 + 6*x0^5*x1^5*x3^6*x4^7 + 3*x0^6*x1^3*x3^5*x4^8*x5 + 7*x0^4*x1^6*x3^6*x4^6 + 4*x0^5*x1^4*x3^5*x4^7*x5 + x0^6*x1^2*x3^4*x4^8*x5^2 + 6*x0^3*x1^7*x3^6*x4^5 + 5*x0^4*x1^5*x3^5*x4^6*x5 + 2*x0^5*x1^3*x3^4*x4^7*x5^2 + 5*x0^2*x1^8*x3^6*x4^4 + 6*x0^3*x1^6*x3^5*x4^5*x5 + 3*x0^4*x1^4*x3^4*x4^6*x5^2 + 4*x0*x1^9*x3^6*x4^3 + 5*x0^2*x1^7*x3^5*x4^4*x5 + 4*x0^3*x1^5*x3^4*x4^5*x5^2 + x0^4*x1^3*x3^3*x4^6*x5^3 + 3*x1^10*x3^6*x4^2 + 4*x0*x1^8*x3^5*x4^3*x5 + 5*x0^2*x1^6*x3^4*x4^4*x5^2 + 2*x0^3*x1^4*x3^3*x4^5*x5^3 + x0^5*x1^3*x3^3*x4^6*x6 + 3*x1^9*x3^5*x4^2*x5 + 4*x0*x1^7*x3^4*x4^3*x5^2 + 3*x0^2*x1^5*x3^3*x4^4*x5^3 + 2*x0^4*x1^4*x3^3*x4^5*x6 + 3*x1^8*x3^4*x4^2*x5^2 + 4*x0*x1^6*x3^3*x4^3*x5^3 + x0^2*x1^4*x3^2*x4^4*x5^4 + 3*x0^3*x1^5*x3^3*x4^4*x6 + 3*x1^7*x3^3*x4^2*x5^3 + 2*x0*x1^5*x3^2*x4^3*x5^4 + 4*x0^2*x1^6*x3^3*x4^3*x6 + x0^3*x1^4*x3^2*x4^4*x5*x6 + 3*x1^6*x3^2*x4^2*x5^4 + 3*x0*x1^7*x3^3*x4^2*x6 + 2*x0^2*x1^5*x3^2*x4^3*x5*x6 + x1^5*x3*x4^2*x5^5 + 2*x1^8*x3^3*x4*x6 + 3*x0*x1^6*x3^2*x4^2*x5*x6 + 2*x1^7*x3^2*x4*x5*x6 + x0*x1^5*x3*x4^2*x5^2*x6 + 2*x1^6*x3*x4*x5^2*x6 + x1^6*x6^2, x0^10*x2*x3^5*x4^11 + 2*x0^9*x3^6*x4^11 + 3*x0^8*x1*x3^6*x4^10 + 4*x0^7*x1^2*x3^6*x4^9 + x0^8*x3^5*x4^10*x5 + 5*x0^6*x1^3*x3^6*x4^8 + 2*x0^7*x1*x3^5*x4^9*x5 + 6*x0^5*x1^4*x3^6*x4^7 + 3*x0^6*x1^2*x3^5*x4^8*x5 + 7*x0^4*x1^5*x3^6*x4^6 + 4*x0^5*x1^3*x3^5*x4^7*x5 + x0^6*x1*x3^4*x4^8*x5^2 + 6*x0^3*x1^6*x3^6*x4^5 + 5*x0^4*x1^4*x3^5*x4^6*x5 + 2*x0^5*x1^2*x3^4*x4^7*x5^2 + 5*x0^2*x1^7*x3^6*x4^4 + 6*x0^3*x1^5*x3^5*x4^5*x5 + 3*x0^4*x1^3*x3^4*x4^6*x5^2 + 4*x0*x1^8*x3^6*x4^3 + 5*x0^2*x1^6*x3^5*x4^4*x5 + 4*x0^3*x1^4*x3^4*x4^5*x5^2 + x0^4*x1^2*x3^3*x4^6*x5^3 + 3*x1^9*x3^6*x4^2 + 4*x0*x1^7*x3^5*x4^3*x5 + 5*x0^2*x1^5*x3^4*x4^4*x5^2 + 2*x0^3*x1^3*x3^3*x4^5*x5^3 + x0^5*x1^2*x3^3*x4^6*x6 + 3*x1^8*x3^5*x4^2*x5 + 4*x0*x1^6*x3^4*x4^3*x5^2 + 3*x0^2*x1^4*x3^3*x4^4*x5^3 + 2*x0^4*x1^3*x3^3*x4^5*x6 + 3*x1^7*x3^4*x4^2*x5^2 + 4*x0*x1^5*x3^3*x4^3*x5^3 + x0^2*x1^3*x3^2*x4^4*x5^4 + 3*x0^3*x1^4*x3^3*x4^4*x6 + 3*x1^6*x3^3*x4^2*x5^3 + 2*x0*x1^4*x3^2*x4^3*x5^4 + 4*x0^2*x1^5*x3^3*x4^3*x6 + x0^3*x1^3*x3^2*x4^4*x5*x6 + 3*x1^5*x3^2*x4^2*x5^4 + 3*x0*x1^6*x3^3*x4^2*x6 + 2*x0^2*x1^4*x3^2*x4^3*x5*x6 + x1^4*x3*x4^2*x5^5 + 2*x1^7*x3^3*x4*x6 + 3*x0*x1^5*x3^2*x4^2*x5*x6 + 2*x1^6*x3^2*x4*x5*x6 + x0*x1^4*x3*x4^2*x5^2*x6 + 2*x1^5*x3*x4*x5^2*x6 + x1^5*x6^2, x0^10*x2^2*x3^4*x4^10 + 2*x0^9*x2*x3^5*x4^10 + 3*x0^8*x3^6*x4^10 + 4*x0^7*x1*x3^6*x4^9 + x0^8*x2*x3^4*x4^9*x5 + 5*x0^6*x1^2*x3^6*x4^8 + 2*x0^7*x3^5*x4^9*x5 + 6*x0^5*x1^3*x3^6*x4^7 + 3*x0^6*x1*x3^5*x4^8*x5 + 7*x0^4*x1^4*x3^6*x4^6 + 4*x0^5*x1^2*x3^5*x4^7*x5 + x0^6*x3^4*x4^8*x5^2 + 6*x0^3*x1^5*x3^6*x4^5 + 5*x0^4*x1^3*x3^5*x4^6*x5 + 2*x0^5*x1*x3^4*x4^7*x5^2 + 5*x0^2*x1^6*x3^6*x4^4 + 6*x0^3*x1^4*x3^5*x4^5*x5 + 3*x0^4*x1^2*x3^4*x4^6*x5^2 + 4*x0*x1^7*x3^6*x4^3 + 5*x0^2*x1^5*x3^5*x4^4*x5 + 4*x0^3*x1^3*x3^4*x4^5*x5^2 + x0^4*x1*x3^3*x4^6*x5^3 + 3*x1^8*x3^6*x4^2 + 4*x0*x1^6*x3^5*x4^3*x5 + 5*x0^2*x1^4*x3^4*x4^4*x5^2 + 2*x0^3*x1^2*x3^3*x4^5*x5^3 + x0^5*x1*x3^3*x4^6*x6 + 3*x1^7*x3^5*x4^2*x5 + 4*x0*x1^5*x3^4*x4^3*x5^2 + 3*x0^2*x1^3*x3^3*x4^4*x5^3 + 2*x0^4*x1^2*x3^3*x4^5*x6 + 3*x1^6*x3^4*x4^2*x5^2 + 4*x0*x1^4*x3^3*x4^3*x5^3 + x0^2*x1^2*x3^2*x4^4*x5^4 + 3*x0^3*x1^3*x3^3*x4^4*x6 + 3*x1^5*x3^3*x4^2*x5^3 + 2*x0*x1^3*x3^2*x4^3*x5^4 + 4*x0^2*x1^4*x3^3*x4^3*x6 + x0^3*x1^2*x3^2*x4^4*x5*x6 + 3*x1^4*x3^2*x4^2*x5^4 + 3*x0*x1^5*x3^3*x4^2*x6 + 2*x0^2*x1^3*x3^2*x4^3*x5*x6 + x1^3*x3*x4^2*x5^5 + 2*x1^6*x3^3*x4*x6 + 3*x0*x1^4*x3^2*x4^2*x5*x6 + 2*x1^5*x3^2*x4*x5*x6 + x0*x1^3*x3*x4^2*x5^2*x6 + 2*x1^4*x3*x4*x5^2*x6 + x1^4*x6^2, x0^10*x2^3*x3^3*x4^9 + 2*x0^9*x2^2*x3^4*x4^9 + 3*x0^8*x2*x3^5*x4^9 + 4*x0^7*x3^6*x4^9 + x0^8*x2^2*x3^3*x4^8*x5 + 5*x0^6*x1*x3^6*x4^8 + 2*x0^7*x2*x3^4*x4^8*x5 + 6*x0^5*x1^2*x3^6*x4^7 + 3*x0^6*x3^5*x4^8*x5 + 7*x0^4*x1^3*x3^6*x4^6 + 4*x0^5*x1*x3^5*x4^7*x5 + x0^6*x2*x3^3*x4^7*x5^2 + 6*x0^3*x1^4*x3^6*x4^5 + 5*x0^4*x1^2*x3^5*x4^6*x5 + 2*x0^5*x3^4*x4^7*x5^2 + 5*x0^2*x1^5*x3^6*x4^4 + 6*x0^3*x1^3*x3^5*x4^5*x5 + 3*x0^4*x1*x3^4*x4^6*x5^2 + 4*x0*x1^6*x3^6*x4^3 + 5*x0^2*x1^4*x3^5*x4^4*x5 + 4*x0^3*x1^2*x3^4*x4^5*x5^2 + x0^4*x3^3*x4^6*x5^3 + 3*x1^7*x3^6*x4^2 + 4*x0*x1^5*x3^5*x4^3*x5 + 5*x0^2*x1^3*x3^4*x4^4*x5^2 + 2*x0^3*x1*x3^3*x4^5*x5^3 + x0^5*x3^3*x4^6*x6 + 3*x1^6*x3^5*x4^2*x5 + 4*x0*x1^4*x3^4*x4^3*x5^2 + 3*x0^2*x1^2*x3^3*x4^4*x5^3 + 2*x0^4*x1*x3^3*x4^5*x6 + 3*x1^5*x3^4*x4^2*x5^2 + 4*x0*x1^3*x3^3*x4^3*x5^3 + x0^2*x1*x3^2*x4^4*x5^4 + 3*x0^3*x1^2*x3^3*x4^4*x6 + 3*x1^4*x3^3*x4^2*x5^3 + 2*x0*x1^2*x3^2*x4^3*x5^4 + 4*x0^2*x1^3*x3^3*x4^3*x6 + x0^3*x1*x3^2*x4^4*x5*x6 + 3*x1^3*x3^2*x4^2*x5^4 + 3*x0*x1^4*x3^3*x4^2*x6 + 2*x0^2*x1^2*x3^2*x4^3*x5*x6 + x1^2*x3*x4^2*x5^5 + 2*x1^5*x3^3*x4*x6 + 3*x0*x1^3*x3^2*x4^2*x5*x6 + 2*x1^4*x3^2*x4*x5*x6 + x0*x1^2*x3*x4^2*x5^2*x6 + 2*x1^3*x3*x4*x5^2*x6 + x1^3*x6^2, x0^10*x2^4*x3^2*x4^8 + 2*x0^9*x2^3*x3^3*x4^8 + 3*x0^8*x2^2*x3^4*x4^8 + 4*x0^7*x2*x3^5*x4^8 + x0^8*x2^3*x3^2*x4^7*x5 + 5*x0^6*x3^6*x4^8 + 2*x0^7*x2^2*x3^3*x4^7*x5 + 6*x0^5*x1*x3^6*x4^7 + 3*x0^6*x2*x3^4*x4^7*x5 + 7*x0^4*x1^2*x3^6*x4^6 + 4*x0^5*x3^5*x4^7*x5 + x0^6*x2^2*x3^2*x4^6*x5^2 + 6*x0^3*x1^3*x3^6*x4^5 + 5*x0^4*x1*x3^5*x4^6*x5 + 2*x0^5*x2*x3^3*x4^6*x5^2 + 5*x0^2*x1^4*x3^6*x4^4 + 6*x0^3*x1^2*x3^5*x4^5*x5 + 3*x0^4*x3^4*x4^6*x5^2 + 4*x0*x1^5*x3^6*x4^3 + 5*x0^2*x1^3*x3^5*x4^4*x5 + 4*x0^3*x1*x3^4*x4^5*x5^2 + x0^4*x2*x3^2*x4^5*x5^3 + 3*x1^6*x3^6*x4^2 + 4*x0*x1^4*x3^5*x4^3*x5 + 5*x0^2*x1^2*x3^4*x4^4*x5^2 + 2*x0^3*x3^3*x4^5*x5^3 + x0^5*x2*x3^2*x4^5*x6 + 3*x1^5*x3^5*x4^2*x5 + 4*x0*x1^3*x3^4*x4^3*x5^2 + 3*x0^2*x1*x3^3*x4^4*x5^3 + 2*x0^4*x3^3*x4^5*x6 + 3*x1^4*x3^4*x4^2*x5^2 + 4*x0*x1^2*x3^3*x4^3*x5^3 + x0^2*x3^2*x4^4*x5^4 + 3*x0^3*x1*x3^3*x4^4*x6 + 3*x1^3*x3^3*x4^2*x5^3 + 2*x0*x1*x3^2*x4^3*x5^4 + 4*x0^2*x1^2*x3^3*x4^3*x6 + x0^3*x3^2*x4^4*x5*x6 + 3*x1^2*x3^2*x4^2*x5^4 + 3*x0*x1^3*x3^3*x4^2*x6 + 2*x0^2*x1*x3^2*x4^3*x5*x6 + x1*x3*x4^2*x5^5 + 2*x1^4*x3^3*x4*x6 + 3*x0*x1^2*x3^2*x4^2*x5*x6 + 2*x1^3*x3^2*x4*x5*x6 + x0*x1*x3*x4^2*x5^2*x6 + 2*x1^2*x3*x4*x5^2*x6 + x1^2*x6^2, x0^10*x2^5*x3*x4^7 + 2*x0^9*x2^4*x3^2*x4^7 + 3*x0^8*x2^3*x3^3*x4^7 + 4*x0^7*x2^2*x3^4*x4^7 + x0^8*x2^4*x3*x4^6*x5 + 5*x0^6*x2*x3^5*x4^7 + 2*x0^7*x2^3*x3^2*x4^6*x5 + 6*x0^5*x3^6*x4^7 + 3*x0^6*x2^2*x3^3*x4^6*x5 + 7*x0^4*x1*x3^6*x4^6 + 4*x0^5*x2*x3^4*x4^6*x5 + x0^6*x2^3*x3*x4^5*x5^2 + 6*x0^3*x1^2*x3^6*x4^5 + 5*x0^4*x3^5*x4^6*x5 + 2*x0^5*x2^2*x3^2*x4^5*x5^2 + 5*x0^2*x1^3*x3^6*x4^4 + 6*x0^3*x1*x3^5*x4^5*x5 + 3*x0^4*x2*x3^3*x4^5*x5^2 + 4*x0*x1^4*x3^6*x4^3 + 5*x0^2*x1^2*x3^5*x4^4*x5 + 4*x0^3*x3^4*x4^5*x5^2 + x0^4*x2^2*x3*x4^4*x5^3 + 3*x1^5*x3^6*x4^2 + 4*x0*x1^3*x3^5*x4^3*x5 + 5*x0^2*x1*x3^4*x4^4*x5^2 + 2*x0^3*x2*x3^2*x4^4*x5^3 + x0^5*x2^2*x3*x4^4*x6 + 3*x1^4*x3^5*x4^2*x5 + 4*x0*x1^2*x3^4*x4^3*x5^2 + 3*x0^2*x3^3*x4^4*x5^3 + 2*x0^4*x2*x3^2*x4^4*x6 + 3*x1^3*x3^4*x4^2*x5^2 + 4*x0*x1*x3^3*x4^3*x5^3 + x0^2*x2*x3*x4^3*x5^4 + 3*x0^3*x3^3*x4^4*x6 + 3*x1^2*x3^3*x4^2*x5^3 + 2*x0*x3^2*x4^3*x5^4 + 4*x0^2*x1*x3^3*x4^3*x6 + x0^3*x2*x3*x4^3*x5*x6 + 3*x1*x3^2*x4^2*x5^4 + 3*x0*x1^2*x3^3*x4^2*x6 + 2*x0^2*x3^2*x4^3*x5*x6 + x3*x4^2*x5^5 + 2*x1^3*x3^3*x4*x6 + 3*x0*x1*x3^2*x4^2*x5*x6 + 2*x1^2*x3^2*x4*x5*x6 + x0*x3*x4^2*x5^2*x6 + 2*x1*x3*x4*x5^2*x6 + x1*x6^2, x0^10*x2^6*x4^6 + 2*x0^9*x2^5*x3*x4^6 + 3*x0^8*x2^4*x3^2*x4^6 + 4*x0^7*x2^3*x3^3*x4^6 + x0^8*x2^5*x4^5*x5 + 5*x0^6*x2^2*x3^4*x4^6 + 2*x0^7*x2^4*x3*x4^5*x5 + 6*x0^5*x2*x3^5*x4^6 + 3*x0^6*x2^3*x3^2*x4^5*x5 + 7*x0^4*x3^6*x4^6 + 4*x0^5*x2^2*x3^3*x4^5*x5 + x0^6*x2^4*x4^4*x5^2 + 6*x0^3*x1*x3^6*x4^5 + 5*x0^4*x2*x3^4*x4^5*x5 + 2*x0^5*x2^3*x3*x4^4*x5^2 + 5*x0^2*x1^2*x3^6*x4^4 + 6*x0^3*x3^5*x4^5*x5 + 3*x0^4*x2^2*x3^2*x4^4*x5^2 + 4*x0*x1^3*x3^6*x4^3 + 5*x0^2*x1*x3^5*x4^4*x5 + 4*x0^3*x2*x3^3*x4^4*x5^2 + x0^4*x2^3*x4^3*x5^3 + 3*x1^4*x3^6*x4^2 + 4*x0*x1^2*x3^5*x4^3*x5 + 5*x0^2*x3^4*x4^4*x5^2 + 2*x0^3*x2^2*x3*x4^3*x5^3 + x0^5*x2^3*x4^3*x6 + 3*x1^3*x3^5*x4^2*x5 + 4*x0*x1*x3^4*x4^3*x5^2 + 3*x0^2*x2*x3^2*x4^3*x5^3 + 2*x0^4*x2^2*x3*x4^3*x6 + 3*x1^2*x3^4*x4^2*x5^2 + 4*x0*x3^3*x4^3*x5^3 + x0^2*x2^2*x4^2*x5^4 + 3*x0^3*x2*x3^2*x4^3*x6 + 3*x1*x3^3*x4^2*x5^3 + 2*x0*x2*x3*x4^2*x5^4 + 4*x0^2*x3^3*x4^3*x6 + x0^3*x2^2*x4^2*x5*x6 + 3*x3^2*x4^2*x5^4 + 3*x0*x1*x3^3*x4^2*x6 + 2*x0^2*x2*x3*x4^2*x5*x6 + x2*x4*x5^5 + 2*x1^2*x3^3*x4*x6 + 3*x0*x3^2*x4^2*x5*x6 + 2*x1*x3^2*x4*x5*x6 + x0*x2*x4*x5^2*x6 + 2*x3*x4*x5^2*x6 + x6^2) of Multivariate Polynomial Ring in x0, x1, x2, x3, x4, x5, x6 over Rational Field]"
      ]
     },
     "execution_count": 66,
     "metadata": {},
     "output_type": "execute_result"
    }
   ],
   "source": [
    "R.ideal(sum(P_monoms), *P_diff).radical().quotient(srideal_intersection).minimal_associated_primes()"
   ]
  },
  {
   "cell_type": "code",
   "execution_count": 53,
   "metadata": {},
   "outputs": [
    {
     "data": {
      "text/plain": [
       "Ideal (0, 0, x1bar^2*x2bar*x6bar, 0, x1bar^3*x2bar^2) of Quotient of Multivariate Polynomial Ring in x0, x1, x2, x3, x4, x5, x6 over Rational Field by the ideal (x2*x5*x6, x3*x4*x6, x2*x3*x6, x0*x2*x6, x3*x4*x5, x2*x4*x5, x1*x2*x5, x1*x3*x4, x0*x3*x4, x0*x2*x4, x1*x2*x3, x0*x1*x2)"
      ]
     },
     "execution_count": 53,
     "metadata": {},
     "output_type": "execute_result"
    }
   ],
   "source": [
    "hysurf_diff_ideal.radical().change_ring(RR)"
   ]
  },
  {
   "cell_type": "code",
   "execution_count": 36,
   "metadata": {},
   "outputs": [],
   "source": [
    "a = R.ideal(*[x.reduce(srideal_intersection + hysurf_diff_ideal) for x in P_monoms]).radical()"
   ]
  },
  {
   "cell_type": "code",
   "execution_count": 37,
   "metadata": {},
   "outputs": [
    {
     "data": {
      "text/plain": [
       "[Ideal (x1*x2 - x3*x4, x6) of Multivariate Polynomial Ring in x0, x1, x2, x3, x4, x5, x6 over Rational Field,\n",
       " Ideal (x1*x2 + x3*x4, x6, x0) of Multivariate Polynomial Ring in x0, x1, x2, x3, x4, x5, x6 over Rational Field]"
      ]
     },
     "execution_count": 37,
     "metadata": {},
     "output_type": "execute_result"
    }
   ],
   "source": [
    "(a + hysurf_diff_ideal).radical().quotient(srideal_intersection).minimal_associated_primes()"
   ]
  },
  {
   "cell_type": "code",
   "execution_count": 20,
   "metadata": {},
   "outputs": [
    {
     "data": {
      "text/plain": [
       "Ideal (x6, x0, x3*x4, x1*x2, x2*x4*x5) of Multivariate Polynomial Ring in x0, x1, x2, x3, x4, x5, x6 over Rational Field"
      ]
     },
     "execution_count": 20,
     "metadata": {},
     "output_type": "execute_result"
    }
   ],
   "source": [
    "(fixed_loci[1] + R.ideal(*P_monoms)).radical()"
   ]
  },
  {
   "cell_type": "code",
   "execution_count": 8,
   "metadata": {},
   "outputs": [],
   "source": [
    "a = MPolynomialIdeal.intersection(*fixed_loci).radical()"
   ]
  },
  {
   "cell_type": "code",
   "execution_count": 140,
   "metadata": {},
   "outputs": [
    {
     "data": {
      "text/plain": [
       "Ideal (x6, x3*x4*x5, x2*x4*x5, x1*x3*x5, x1*x2*x5, x0*x3*x4, x0*x2*x4, x0*x1*x3, x0*x1*x2) of Multivariate Polynomial Ring in x0, x1, x2, x3, x4, x5, x6 over Rational Field"
      ]
     },
     "execution_count": 140,
     "metadata": {},
     "output_type": "execute_result"
    }
   ],
   "source": [
    "(a + R.ideal(*P_monoms)).radical()#.quotient(srideal_intersection)"
   ]
  },
  {
   "cell_type": "code",
   "execution_count": 146,
   "metadata": {},
   "outputs": [
    {
     "data": {
      "text/plain": [
       "[Ideal (x5, x0) of Multivariate Polynomial Ring in x0, x1, x2, x3, x4, x5, x6 over Rational Field,\n",
       " Ideal (x1*x2 - x3*x4) of Multivariate Polynomial Ring in x0, x1, x2, x3, x4, x5, x6 over Rational Field]"
      ]
     },
     "execution_count": 146,
     "metadata": {},
     "output_type": "execute_result"
    }
   ],
   "source": [
    "fixed_loci"
   ]
  },
  {
   "cell_type": "code",
   "execution_count": 147,
   "metadata": {},
   "outputs": [
    {
     "data": {
      "text/plain": [
       "[Ideal (x5, x0) of Multivariate Polynomial Ring in x0, x1, x2, x3, x4, x5, x6 over Rational Field,\n",
       " Ideal (x1*x2 - x3*x4) of Multivariate Polynomial Ring in x0, x1, x2, x3, x4, x5, x6 over Rational Field]"
      ]
     },
     "execution_count": 147,
     "metadata": {},
     "output_type": "execute_result"
    }
   ],
   "source": [
    "fixed_loci1"
   ]
  },
  {
   "cell_type": "code",
   "execution_count": 143,
   "metadata": {},
   "outputs": [
    {
     "data": {
      "text/plain": [
       "{x6^2}"
      ]
     },
     "execution_count": 143,
     "metadata": {},
     "output_type": "execute_result"
    }
   ],
   "source": [
    "set(x.reduce(fixed_loci[0]) for x in P_monoms) - set([0])"
   ]
  },
  {
   "cell_type": "code",
   "execution_count": 145,
   "metadata": {},
   "outputs": [
    {
     "ename": "IndexError",
     "evalue": "list index out of range",
     "output_type": "error",
     "traceback": [
      "\u001b[0;31m---------------------------------------------------------------------------\u001b[0m",
      "\u001b[0;31mIndexError\u001b[0m                                Traceback (most recent call last)",
      "\u001b[0;32m<ipython-input-145-f2f3f39288f6>\u001b[0m in \u001b[0;36m<module>\u001b[0;34m\u001b[0m\n\u001b[0;32m----> 1\u001b[0;31m \u001b[0mset\u001b[0m\u001b[0;34m(\u001b[0m\u001b[0mx\u001b[0m\u001b[0;34m.\u001b[0m\u001b[0mreduce\u001b[0m\u001b[0;34m(\u001b[0m\u001b[0mfixed_loci\u001b[0m\u001b[0;34m[\u001b[0m\u001b[0;36m2\u001b[0m\u001b[0;34m]\u001b[0m\u001b[0;34m)\u001b[0m \u001b[0;32mfor\u001b[0m \u001b[0mx\u001b[0m \u001b[0;32min\u001b[0m \u001b[0mP_monoms\u001b[0m\u001b[0;34m)\u001b[0m \u001b[0;34m-\u001b[0m \u001b[0mset\u001b[0m\u001b[0;34m(\u001b[0m\u001b[0;34m[\u001b[0m\u001b[0;36m0\u001b[0m\u001b[0;34m]\u001b[0m\u001b[0;34m)\u001b[0m\u001b[0;34m\u001b[0m\u001b[0;34m\u001b[0m\u001b[0m\n\u001b[0m",
      "\u001b[0;32m<ipython-input-145-f2f3f39288f6>\u001b[0m in \u001b[0;36m<genexpr>\u001b[0;34m(.0)\u001b[0m\n\u001b[0;32m----> 1\u001b[0;31m \u001b[0mset\u001b[0m\u001b[0;34m(\u001b[0m\u001b[0mx\u001b[0m\u001b[0;34m.\u001b[0m\u001b[0mreduce\u001b[0m\u001b[0;34m(\u001b[0m\u001b[0mfixed_loci\u001b[0m\u001b[0;34m[\u001b[0m\u001b[0;36m2\u001b[0m\u001b[0;34m]\u001b[0m\u001b[0;34m)\u001b[0m \u001b[0;32mfor\u001b[0m \u001b[0mx\u001b[0m \u001b[0;32min\u001b[0m \u001b[0mP_monoms\u001b[0m\u001b[0;34m)\u001b[0m \u001b[0;34m-\u001b[0m \u001b[0mset\u001b[0m\u001b[0;34m(\u001b[0m\u001b[0;34m[\u001b[0m\u001b[0;36m0\u001b[0m\u001b[0;34m]\u001b[0m\u001b[0;34m)\u001b[0m\u001b[0;34m\u001b[0m\u001b[0;34m\u001b[0m\u001b[0m\n\u001b[0m",
      "\u001b[0;31mIndexError\u001b[0m: list index out of range"
     ]
    }
   ],
   "source": [
    "set(x.reduce(fixed_loci[2]) for x in P_monoms) - set([0])"
   ]
  },
  {
   "cell_type": "code",
   "execution_count": 170,
   "metadata": {},
   "outputs": [
    {
     "data": {
      "text/plain": [
       "Ideal (x6, x5, x4, x1, x0) of Multivariate Polynomial Ring in x0, x1, x2, x3, x4, x5, x6 over Rational Field"
      ]
     },
     "execution_count": 170,
     "metadata": {},
     "output_type": "execute_result"
    }
   ],
   "source": [
    "(fixed_loci[0] + R.ideal(*P_monoms) + srideal[0]).radical()#.quotient(srideal_intersection)"
   ]
  },
  {
   "cell_type": "code",
   "execution_count": 162,
   "metadata": {},
   "outputs": [
    {
     "data": {
      "text/plain": [
       "[Ideal (x1, x4) of Multivariate Polynomial Ring in x0, x1, x2, x3, x4, x5, x6 over Rational Field,\n",
       " Ideal (x2, x3) of Multivariate Polynomial Ring in x0, x1, x2, x3, x4, x5, x6 over Rational Field,\n",
       " Ideal (x0, x5, x6) of Multivariate Polynomial Ring in x0, x1, x2, x3, x4, x5, x6 over Rational Field]"
      ]
     },
     "execution_count": 162,
     "metadata": {},
     "output_type": "execute_result"
    }
   ],
   "source": [
    "srideal"
   ]
  },
  {
   "cell_type": "code",
   "execution_count": 175,
   "metadata": {},
   "outputs": [
    {
     "data": {
      "text/plain": [
       "(x0^4*x2^4*x4^4, x0^4*x2^4*x4^4)"
      ]
     },
     "execution_count": 175,
     "metadata": {},
     "output_type": "execute_result"
    }
   ],
   "source": [
    "P_monoms[4], P_monoms[4].reduce(hysurf_diff_ideal)"
   ]
  },
  {
   "cell_type": "code",
   "execution_count": 172,
   "metadata": {},
   "outputs": [
    {
     "data": {
      "text/plain": [
       "x0^4*x3^4*x4^4"
      ]
     },
     "execution_count": 172,
     "metadata": {},
     "output_type": "execute_result"
    }
   ],
   "source": [
    "P_monoms[0]"
   ]
  },
  {
   "cell_type": "code",
   "execution_count": 197,
   "metadata": {},
   "outputs": [
    {
     "ename": "IndexError",
     "evalue": "list index out of range",
     "output_type": "error",
     "traceback": [
      "\u001b[0;31m---------------------------------------------------------------------------\u001b[0m",
      "\u001b[0;31mIndexError\u001b[0m                                Traceback (most recent call last)",
      "\u001b[0;32m<ipython-input-197-ea626fa13f9c>\u001b[0m in \u001b[0;36m<module>\u001b[0;34m\u001b[0m\n\u001b[0;32m----> 1\u001b[0;31m \u001b[0;34m(\u001b[0m\u001b[0mfixed_loci\u001b[0m\u001b[0;34m[\u001b[0m\u001b[0;36m2\u001b[0m\u001b[0;34m]\u001b[0m \u001b[0;34m+\u001b[0m \u001b[0mR\u001b[0m\u001b[0;34m.\u001b[0m\u001b[0mideal\u001b[0m\u001b[0;34m(\u001b[0m\u001b[0;34m*\u001b[0m\u001b[0;34m[\u001b[0m\u001b[0mx\u001b[0m \u001b[0;34m+\u001b[0m \u001b[0mx\u001b[0m\u001b[0;34m.\u001b[0m\u001b[0msubs\u001b[0m\u001b[0;34m(\u001b[0m\u001b[0mX_sub\u001b[0m\u001b[0;34m)\u001b[0m \u001b[0;32mfor\u001b[0m \u001b[0mx\u001b[0m \u001b[0;32min\u001b[0m \u001b[0mP_monoms\u001b[0m\u001b[0;34m]\u001b[0m\u001b[0;34m)\u001b[0m\u001b[0;34m)\u001b[0m\u001b[0;34m.\u001b[0m\u001b[0mradical\u001b[0m\u001b[0;34m(\u001b[0m\u001b[0;34m)\u001b[0m\u001b[0;34m\u001b[0m\u001b[0;34m\u001b[0m\u001b[0m\n\u001b[0m",
      "\u001b[0;31mIndexError\u001b[0m: list index out of range"
     ]
    }
   ],
   "source": [
    "(fixed_loci[2] + R.ideal(*[x + x.subs(X_sub) for x in P_monoms])).radical()"
   ]
  },
  {
   "cell_type": "code",
   "execution_count": 194,
   "metadata": {},
   "outputs": [
    {
     "data": {
      "text/plain": [
       "Ideal (x6, x3*x4*x5, x2*x4*x5, x1*x3*x5, x1*x2*x5, x0*x3*x4, x0*x2*x4, x0*x1*x3, x0*x1*x2) of Multivariate Polynomial Ring in x0, x1, x2, x3, x4, x5, x6 over Rational Field"
      ]
     },
     "execution_count": 194,
     "metadata": {},
     "output_type": "execute_result"
    }
   ],
   "source": [
    "R.ideal(*[x + x.subs(X_sub) for x in P_monoms)).radical()"
   ]
  },
  {
   "cell_type": "code",
   "execution_count": null,
   "metadata": {},
   "outputs": [],
   "source": []
  }
 ],
 "metadata": {
  "kernelspec": {
   "display_name": "Python 3",
   "language": "python",
   "name": "python3"
  },
  "language_info": {
   "codemirror_mode": {
    "name": "ipython",
    "version": 3
   },
   "file_extension": ".py",
   "mimetype": "text/x-python",
   "name": "python",
   "nbconvert_exporter": "python",
   "pygments_lexer": "ipython3",
   "version": "3.8.5"
  }
 },
 "nbformat": 4,
 "nbformat_minor": 4
}

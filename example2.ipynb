{
 "cells": [
  {
   "cell_type": "code",
   "execution_count": 5,
   "metadata": {},
   "outputs": [],
   "source": [
    "import compare_methods as cm\n",
    "import numpy as np\n",
    "from sage.rings.polynomial.multi_polynomial_ideal import MPolynomialIdeal"
   ]
  },
  {
   "cell_type": "code",
   "execution_count": 6,
   "metadata": {},
   "outputs": [],
   "source": [
    "result = cm.find_format_inputs({'H11': 3, 'VOLFORMPARITY': -1})\n",
    "k = result['DRESVERTS'].shape[0]\n",
    "R = cm.build_ring(k)\n",
    "P_monoms = cm.compute_monomials(R, result['NVERTS'], result['DRESVERTS'])\n",
    "srideal = cm.compute_srideal(R, result['TRIANG'])"
   ]
  },
  {
   "cell_type": "code",
   "execution_count": 7,
   "metadata": {},
   "outputs": [],
   "source": [
    "X = np.array(R.gens())\n",
    "X_sub = dict(zip(X, X[result['INVOL'].array_form]))\n",
    "P_diff = np.vectorize(lambda x: x - x.subs(X_sub))(P_monoms)\n",
    "fixed_loci = R.ideal(*P_diff).minimal_associated_primes()\n",
    "srideal_intersection = MPolynomialIdeal.intersection(*srideal)"
   ]
  },
  {
   "cell_type": "code",
   "execution_count": 18,
   "metadata": {},
   "outputs": [
    {
     "data": {
      "text/plain": [
       "Ideal (1) of Multivariate Polynomial Ring in x1, x2, x3, x4, x5, x6, x7 over Rational Field"
      ]
     },
     "execution_count": 18,
     "metadata": {},
     "output_type": "execute_result"
    }
   ],
   "source": [
    "srideal[-1].quotient(fixed_loci[0])"
   ]
  },
  {
   "cell_type": "code",
   "execution_count": 12,
   "metadata": {},
   "outputs": [
    {
     "data": {
      "text/plain": [
       "[Ideal (x6, x2, x1) of Multivariate Polynomial Ring in x1, x2, x3, x4, x5, x6, x7 over Rational Field,\n",
       " Ideal (x3^2*x4 - x5^2*x6) of Multivariate Polynomial Ring in x1, x2, x3, x4, x5, x6, x7 over Rational Field,\n",
       " Ideal (x4, x2, x1) of Multivariate Polynomial Ring in x1, x2, x3, x4, x5, x6, x7 over Rational Field,\n",
       " Ideal (x3^2*x4 + x5^2*x6, x2, x1) of Multivariate Polynomial Ring in x1, x2, x3, x4, x5, x6, x7 over Rational Field]"
      ]
     },
     "execution_count": 12,
     "metadata": {},
     "output_type": "execute_result"
    }
   ],
   "source": [
    "R.ideal(*P_diff).quotient(srideal_intersection).minimal_associated_primes()"
   ]
  },
  {
   "cell_type": "code",
   "execution_count": 8,
   "metadata": {},
   "outputs": [
    {
     "data": {
      "text/plain": [
       "[Ideal (x6, x2, x1) of Multivariate Polynomial Ring in x1, x2, x3, x4, x5, x6, x7 over Rational Field,\n",
       " Ideal (x3^2*x4 - x5^2*x6) of Multivariate Polynomial Ring in x1, x2, x3, x4, x5, x6, x7 over Rational Field,\n",
       " Ideal (x4, x2, x1) of Multivariate Polynomial Ring in x1, x2, x3, x4, x5, x6, x7 over Rational Field,\n",
       " Ideal (x3^2*x4 + x5^2*x6, x2, x1) of Multivariate Polynomial Ring in x1, x2, x3, x4, x5, x6, x7 over Rational Field]"
      ]
     },
     "execution_count": 8,
     "metadata": {},
     "output_type": "execute_result"
    }
   ],
   "source": [
    "fixed_loci"
   ]
  },
  {
   "cell_type": "code",
   "execution_count": 17,
   "metadata": {},
   "outputs": [
    {
     "data": {
      "text/plain": [
       "4"
      ]
     },
     "execution_count": 17,
     "metadata": {},
     "output_type": "execute_result"
    }
   ],
   "source": [
    "fixed_loci[0].quotient(srideal[-1]).dimension()"
   ]
  },
  {
   "cell_type": "code",
   "execution_count": 9,
   "metadata": {},
   "outputs": [
    {
     "data": {
      "text/plain": [
       "[{'OIDEAL': ['x3^2*x4-x5^2*x6'], 'ODIM': 7},\n",
       " {'OIDEAL': ['x1', 'x2', 'x3^2*x4+x5^2*x6'], 'ODIM': 3}]"
      ]
     },
     "execution_count": 9,
     "metadata": {},
     "output_type": "execute_result"
    }
   ],
   "source": [
    "result['OPLANES']"
   ]
  },
  {
   "cell_type": "code",
   "execution_count": 10,
   "metadata": {},
   "outputs": [
    {
     "data": {
      "text/plain": [
       "[Ideal (x3, x5) of Multivariate Polynomial Ring in x1, x2, x3, x4, x5, x6, x7 over Rational Field,\n",
       " Ideal (x3, x6) of Multivariate Polynomial Ring in x1, x2, x3, x4, x5, x6, x7 over Rational Field,\n",
       " Ideal (x4, x5) of Multivariate Polynomial Ring in x1, x2, x3, x4, x5, x6, x7 over Rational Field,\n",
       " Ideal (x1, x2, x4, x7) of Multivariate Polynomial Ring in x1, x2, x3, x4, x5, x6, x7 over Rational Field,\n",
       " Ideal (x1, x2, x6, x7) of Multivariate Polynomial Ring in x1, x2, x3, x4, x5, x6, x7 over Rational Field]"
      ]
     },
     "execution_count": 10,
     "metadata": {},
     "output_type": "execute_result"
    }
   ],
   "source": [
    "srideal"
   ]
  },
  {
   "cell_type": "code",
   "execution_count": null,
   "metadata": {},
   "outputs": [],
   "source": [
    "fixed_loci"
   ]
  }
 ],
 "metadata": {
  "kernelspec": {
   "display_name": "Python 3",
   "language": "python",
   "name": "python3"
  },
  "language_info": {
   "codemirror_mode": {
    "name": "ipython",
    "version": 3
   },
   "file_extension": ".py",
   "mimetype": "text/x-python",
   "name": "python",
   "nbconvert_exporter": "python",
   "pygments_lexer": "ipython3",
   "version": "3.8.5"
  }
 },
 "nbformat": 4,
 "nbformat_minor": 4
}
